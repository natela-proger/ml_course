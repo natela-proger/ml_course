{
 "cells": [
  {
   "cell_type": "markdown",
   "metadata": {},
   "source": [
    "# Домашнее задание: модели классификации и оценка их качества.\n",
    "\n",
    "Будем тренироваться обучать модели классификации и интерпретировать их качество."
   ]
  },
  {
   "cell_type": "markdown",
   "metadata": {},
   "source": [
    "## Часть 1. Обучение моделей классификации (5 баллов). \n",
    "\n",
    "Поработайте с датасетом telecom_churn. Вам предстоит по характеристикам клиента предсказать, уйдет он или нет (целевая колонка - Churn).\n",
    "\n",
    "A. Решите задачу с помощью логистической регрессии:\n",
    "- подберите значение гиперпараметров с помощью GridSearchCV\n",
    "Что вы можете сказать об алгоритме? Он переобучился/недообучился/обучился как надо и вы довольны качеством?\n",
    "\n",
    "B. Решите задачу с помощью метода опорных векторов (с kernel = 'linear'):\n",
    "- подберите значение гиперпараметров с помощью GridSearchCV\n",
    "Что вы можете сказать об алгоритме? Он переобучился/недообучился/обучился как надо и вы довольны качеством?\n",
    "\n",
    "Не забудьте масштабировать данные перед применением линейных моделей.\n",
    "\n",
    "C. Попробуйте увеличить число признаков с помощью добавления полиномиальных признаков. Также можно добавить функции от признаков вручную (те, которые вам кажутся подходящими в данной задаче).\n",
    "Улучшилось ли качество алгоритма?\n",
    "\n",
    "D. Постройте матрицу корреляций признаков. Есть ли признаки, которые практически не коррелируют с целевой переменной? Попробуйте их удалить. Есть ли пары сильно коррелирующих между собой признаков? Удалите по одному признаку из каждой пары.\n",
    "Помогло ли это улучшить качество в данной задаче?\n",
    "\n",
    "Пункты C и D можно скомбинировать для достижения наилучшего качества.\n",
    "\n",
    "E. Сделайте мини-отчет о проведенной работе. Для этого ответьте на вопросы:\n",
    "a) какой классификатор дал наилучший результат? чему равны значения метрик accuracy, f1-score и ROC-AUC? \n",
    "(Вы можете изначально разбить данные на train и test и сравнивать значения метрик на этих выборках; или же можно оценивать качество алгоритмов по кросс-валидации).\n",
    "\n",
    "b) какие новые признаки вы добавили и какие признаки удалили?\n",
    "\n",
    "c) удалось ли добиться того, что алгоритм не переобучился и не недообучился?"
   ]
  },
  {
   "cell_type": "code",
   "execution_count": 1,
   "metadata": {},
   "outputs": [],
   "source": [
    "# !pip install category_encoders"
   ]
  },
  {
   "cell_type": "code",
   "execution_count": 2,
   "metadata": {},
   "outputs": [
    {
     "name": "stdout",
     "output_type": "stream",
     "text": [
      "Populating the interactive namespace from numpy and matplotlib\n"
     ]
    }
   ],
   "source": [
    "import pandas as pd\n",
    "import matplotlib.pyplot as plt\n",
    "\n",
    "from category_encoders.target_encoder import TargetEncoder\n",
    "from sklearn.model_selection import train_test_split, cross_val_score, GridSearchCV\n",
    "from sklearn.linear_model import LogisticRegression\n",
    "from sklearn.preprocessing import StandardScaler\n",
    "from sklearn.metrics import roc_curve, auc, f1_score, accuracy_score\n",
    "from sklearn.svm import SVC\n",
    "%pylab inline"
   ]
  },
  {
   "cell_type": "code",
   "execution_count": 3,
   "metadata": {},
   "outputs": [
    {
     "data": {
      "text/html": [
       "<div>\n",
       "<style scoped>\n",
       "    .dataframe tbody tr th:only-of-type {\n",
       "        vertical-align: middle;\n",
       "    }\n",
       "\n",
       "    .dataframe tbody tr th {\n",
       "        vertical-align: top;\n",
       "    }\n",
       "\n",
       "    .dataframe thead th {\n",
       "        text-align: right;\n",
       "    }\n",
       "</style>\n",
       "<table border=\"1\" class=\"dataframe\">\n",
       "  <thead>\n",
       "    <tr style=\"text-align: right;\">\n",
       "      <th></th>\n",
       "      <th>State</th>\n",
       "      <th>Account length</th>\n",
       "      <th>Area code</th>\n",
       "      <th>International plan</th>\n",
       "      <th>Voice mail plan</th>\n",
       "      <th>Number vmail messages</th>\n",
       "      <th>Total day minutes</th>\n",
       "      <th>Total day calls</th>\n",
       "      <th>Total day charge</th>\n",
       "      <th>Total eve minutes</th>\n",
       "      <th>Total eve calls</th>\n",
       "      <th>Total eve charge</th>\n",
       "      <th>Total night minutes</th>\n",
       "      <th>Total night calls</th>\n",
       "      <th>Total night charge</th>\n",
       "      <th>Total intl minutes</th>\n",
       "      <th>Total intl calls</th>\n",
       "      <th>Total intl charge</th>\n",
       "      <th>Customer service calls</th>\n",
       "      <th>Churn</th>\n",
       "    </tr>\n",
       "  </thead>\n",
       "  <tbody>\n",
       "    <tr>\n",
       "      <th>0</th>\n",
       "      <td>KS</td>\n",
       "      <td>128</td>\n",
       "      <td>415</td>\n",
       "      <td>No</td>\n",
       "      <td>Yes</td>\n",
       "      <td>25</td>\n",
       "      <td>265.1</td>\n",
       "      <td>110</td>\n",
       "      <td>45.07</td>\n",
       "      <td>197.4</td>\n",
       "      <td>99</td>\n",
       "      <td>16.78</td>\n",
       "      <td>244.7</td>\n",
       "      <td>91</td>\n",
       "      <td>11.01</td>\n",
       "      <td>10.0</td>\n",
       "      <td>3</td>\n",
       "      <td>2.70</td>\n",
       "      <td>1</td>\n",
       "      <td>False</td>\n",
       "    </tr>\n",
       "    <tr>\n",
       "      <th>1</th>\n",
       "      <td>OH</td>\n",
       "      <td>107</td>\n",
       "      <td>415</td>\n",
       "      <td>No</td>\n",
       "      <td>Yes</td>\n",
       "      <td>26</td>\n",
       "      <td>161.6</td>\n",
       "      <td>123</td>\n",
       "      <td>27.47</td>\n",
       "      <td>195.5</td>\n",
       "      <td>103</td>\n",
       "      <td>16.62</td>\n",
       "      <td>254.4</td>\n",
       "      <td>103</td>\n",
       "      <td>11.45</td>\n",
       "      <td>13.7</td>\n",
       "      <td>3</td>\n",
       "      <td>3.70</td>\n",
       "      <td>1</td>\n",
       "      <td>False</td>\n",
       "    </tr>\n",
       "    <tr>\n",
       "      <th>2</th>\n",
       "      <td>NJ</td>\n",
       "      <td>137</td>\n",
       "      <td>415</td>\n",
       "      <td>No</td>\n",
       "      <td>No</td>\n",
       "      <td>0</td>\n",
       "      <td>243.4</td>\n",
       "      <td>114</td>\n",
       "      <td>41.38</td>\n",
       "      <td>121.2</td>\n",
       "      <td>110</td>\n",
       "      <td>10.30</td>\n",
       "      <td>162.6</td>\n",
       "      <td>104</td>\n",
       "      <td>7.32</td>\n",
       "      <td>12.2</td>\n",
       "      <td>5</td>\n",
       "      <td>3.29</td>\n",
       "      <td>0</td>\n",
       "      <td>False</td>\n",
       "    </tr>\n",
       "    <tr>\n",
       "      <th>3</th>\n",
       "      <td>OH</td>\n",
       "      <td>84</td>\n",
       "      <td>408</td>\n",
       "      <td>Yes</td>\n",
       "      <td>No</td>\n",
       "      <td>0</td>\n",
       "      <td>299.4</td>\n",
       "      <td>71</td>\n",
       "      <td>50.90</td>\n",
       "      <td>61.9</td>\n",
       "      <td>88</td>\n",
       "      <td>5.26</td>\n",
       "      <td>196.9</td>\n",
       "      <td>89</td>\n",
       "      <td>8.86</td>\n",
       "      <td>6.6</td>\n",
       "      <td>7</td>\n",
       "      <td>1.78</td>\n",
       "      <td>2</td>\n",
       "      <td>False</td>\n",
       "    </tr>\n",
       "    <tr>\n",
       "      <th>4</th>\n",
       "      <td>OK</td>\n",
       "      <td>75</td>\n",
       "      <td>415</td>\n",
       "      <td>Yes</td>\n",
       "      <td>No</td>\n",
       "      <td>0</td>\n",
       "      <td>166.7</td>\n",
       "      <td>113</td>\n",
       "      <td>28.34</td>\n",
       "      <td>148.3</td>\n",
       "      <td>122</td>\n",
       "      <td>12.61</td>\n",
       "      <td>186.9</td>\n",
       "      <td>121</td>\n",
       "      <td>8.41</td>\n",
       "      <td>10.1</td>\n",
       "      <td>3</td>\n",
       "      <td>2.73</td>\n",
       "      <td>3</td>\n",
       "      <td>False</td>\n",
       "    </tr>\n",
       "  </tbody>\n",
       "</table>\n",
       "</div>"
      ],
      "text/plain": [
       "  State  Account length  Area code International plan Voice mail plan  \\\n",
       "0    KS             128        415                 No             Yes   \n",
       "1    OH             107        415                 No             Yes   \n",
       "2    NJ             137        415                 No              No   \n",
       "3    OH              84        408                Yes              No   \n",
       "4    OK              75        415                Yes              No   \n",
       "\n",
       "   Number vmail messages  Total day minutes  Total day calls  \\\n",
       "0                     25              265.1              110   \n",
       "1                     26              161.6              123   \n",
       "2                      0              243.4              114   \n",
       "3                      0              299.4               71   \n",
       "4                      0              166.7              113   \n",
       "\n",
       "   Total day charge  Total eve minutes  Total eve calls  Total eve charge  \\\n",
       "0             45.07              197.4               99             16.78   \n",
       "1             27.47              195.5              103             16.62   \n",
       "2             41.38              121.2              110             10.30   \n",
       "3             50.90               61.9               88              5.26   \n",
       "4             28.34              148.3              122             12.61   \n",
       "\n",
       "   Total night minutes  Total night calls  Total night charge  \\\n",
       "0                244.7                 91               11.01   \n",
       "1                254.4                103               11.45   \n",
       "2                162.6                104                7.32   \n",
       "3                196.9                 89                8.86   \n",
       "4                186.9                121                8.41   \n",
       "\n",
       "   Total intl minutes  Total intl calls  Total intl charge  \\\n",
       "0                10.0                 3               2.70   \n",
       "1                13.7                 3               3.70   \n",
       "2                12.2                 5               3.29   \n",
       "3                 6.6                 7               1.78   \n",
       "4                10.1                 3               2.73   \n",
       "\n",
       "   Customer service calls  Churn  \n",
       "0                       1  False  \n",
       "1                       1  False  \n",
       "2                       0  False  \n",
       "3                       2  False  \n",
       "4                       3  False  "
      ]
     },
     "execution_count": 3,
     "metadata": {},
     "output_type": "execute_result"
    }
   ],
   "source": [
    "df = pd.read_csv(\"telecom_churn.csv\")\n",
    "df.head()"
   ]
  },
  {
   "cell_type": "markdown",
   "metadata": {},
   "source": [
    "### Сгруппируем признаки по типам данных: \n",
    "\n",
    "Это пригодится в их обработке "
   ]
  },
  {
   "cell_type": "code",
   "execution_count": 4,
   "metadata": {},
   "outputs": [],
   "source": [
    "num_cols = df.columns[(df.dtypes == 'int64') | (df.dtypes == 'float64')].tolist()\n",
    "cat_cols = df.columns[df.dtypes == 'object']"
   ]
  },
  {
   "cell_type": "markdown",
   "metadata": {},
   "source": [
    "### Бинарные признаки и таргет сразу закодируем через 1 и 0"
   ]
  },
  {
   "cell_type": "code",
   "execution_count": 73,
   "metadata": {},
   "outputs": [
    {
     "data": {
      "text/html": [
       "<div>\n",
       "<style scoped>\n",
       "    .dataframe tbody tr th:only-of-type {\n",
       "        vertical-align: middle;\n",
       "    }\n",
       "\n",
       "    .dataframe tbody tr th {\n",
       "        vertical-align: top;\n",
       "    }\n",
       "\n",
       "    .dataframe thead th {\n",
       "        text-align: right;\n",
       "    }\n",
       "</style>\n",
       "<table border=\"1\" class=\"dataframe\">\n",
       "  <thead>\n",
       "    <tr style=\"text-align: right;\">\n",
       "      <th></th>\n",
       "      <th>State</th>\n",
       "      <th>Account length</th>\n",
       "      <th>Area code</th>\n",
       "      <th>International plan</th>\n",
       "      <th>Voice mail plan</th>\n",
       "      <th>Number vmail messages</th>\n",
       "      <th>Total day minutes</th>\n",
       "      <th>Total day calls</th>\n",
       "      <th>Total day charge</th>\n",
       "      <th>Total eve minutes</th>\n",
       "      <th>Total eve calls</th>\n",
       "      <th>Total eve charge</th>\n",
       "      <th>Total night minutes</th>\n",
       "      <th>Total night calls</th>\n",
       "      <th>Total night charge</th>\n",
       "      <th>Total intl minutes</th>\n",
       "      <th>Total intl calls</th>\n",
       "      <th>Total intl charge</th>\n",
       "      <th>Customer service calls</th>\n",
       "      <th>Churn</th>\n",
       "    </tr>\n",
       "  </thead>\n",
       "  <tbody>\n",
       "    <tr>\n",
       "      <th>0</th>\n",
       "      <td>KS</td>\n",
       "      <td>128</td>\n",
       "      <td>415</td>\n",
       "      <td>0</td>\n",
       "      <td>1</td>\n",
       "      <td>25</td>\n",
       "      <td>265.1</td>\n",
       "      <td>110</td>\n",
       "      <td>45.07</td>\n",
       "      <td>197.4</td>\n",
       "      <td>99</td>\n",
       "      <td>16.78</td>\n",
       "      <td>244.7</td>\n",
       "      <td>91</td>\n",
       "      <td>11.01</td>\n",
       "      <td>10.0</td>\n",
       "      <td>3</td>\n",
       "      <td>2.70</td>\n",
       "      <td>1</td>\n",
       "      <td>0</td>\n",
       "    </tr>\n",
       "    <tr>\n",
       "      <th>1</th>\n",
       "      <td>OH</td>\n",
       "      <td>107</td>\n",
       "      <td>415</td>\n",
       "      <td>0</td>\n",
       "      <td>1</td>\n",
       "      <td>26</td>\n",
       "      <td>161.6</td>\n",
       "      <td>123</td>\n",
       "      <td>27.47</td>\n",
       "      <td>195.5</td>\n",
       "      <td>103</td>\n",
       "      <td>16.62</td>\n",
       "      <td>254.4</td>\n",
       "      <td>103</td>\n",
       "      <td>11.45</td>\n",
       "      <td>13.7</td>\n",
       "      <td>3</td>\n",
       "      <td>3.70</td>\n",
       "      <td>1</td>\n",
       "      <td>0</td>\n",
       "    </tr>\n",
       "    <tr>\n",
       "      <th>2</th>\n",
       "      <td>NJ</td>\n",
       "      <td>137</td>\n",
       "      <td>415</td>\n",
       "      <td>0</td>\n",
       "      <td>0</td>\n",
       "      <td>0</td>\n",
       "      <td>243.4</td>\n",
       "      <td>114</td>\n",
       "      <td>41.38</td>\n",
       "      <td>121.2</td>\n",
       "      <td>110</td>\n",
       "      <td>10.30</td>\n",
       "      <td>162.6</td>\n",
       "      <td>104</td>\n",
       "      <td>7.32</td>\n",
       "      <td>12.2</td>\n",
       "      <td>5</td>\n",
       "      <td>3.29</td>\n",
       "      <td>0</td>\n",
       "      <td>0</td>\n",
       "    </tr>\n",
       "    <tr>\n",
       "      <th>3</th>\n",
       "      <td>OH</td>\n",
       "      <td>84</td>\n",
       "      <td>408</td>\n",
       "      <td>1</td>\n",
       "      <td>0</td>\n",
       "      <td>0</td>\n",
       "      <td>299.4</td>\n",
       "      <td>71</td>\n",
       "      <td>50.90</td>\n",
       "      <td>61.9</td>\n",
       "      <td>88</td>\n",
       "      <td>5.26</td>\n",
       "      <td>196.9</td>\n",
       "      <td>89</td>\n",
       "      <td>8.86</td>\n",
       "      <td>6.6</td>\n",
       "      <td>7</td>\n",
       "      <td>1.78</td>\n",
       "      <td>2</td>\n",
       "      <td>0</td>\n",
       "    </tr>\n",
       "    <tr>\n",
       "      <th>4</th>\n",
       "      <td>OK</td>\n",
       "      <td>75</td>\n",
       "      <td>415</td>\n",
       "      <td>1</td>\n",
       "      <td>0</td>\n",
       "      <td>0</td>\n",
       "      <td>166.7</td>\n",
       "      <td>113</td>\n",
       "      <td>28.34</td>\n",
       "      <td>148.3</td>\n",
       "      <td>122</td>\n",
       "      <td>12.61</td>\n",
       "      <td>186.9</td>\n",
       "      <td>121</td>\n",
       "      <td>8.41</td>\n",
       "      <td>10.1</td>\n",
       "      <td>3</td>\n",
       "      <td>2.73</td>\n",
       "      <td>3</td>\n",
       "      <td>0</td>\n",
       "    </tr>\n",
       "  </tbody>\n",
       "</table>\n",
       "</div>"
      ],
      "text/plain": [
       "  State  Account length  Area code  International plan  Voice mail plan  \\\n",
       "0    KS             128        415                   0                1   \n",
       "1    OH             107        415                   0                1   \n",
       "2    NJ             137        415                   0                0   \n",
       "3    OH              84        408                   1                0   \n",
       "4    OK              75        415                   1                0   \n",
       "\n",
       "   Number vmail messages  Total day minutes  Total day calls  \\\n",
       "0                     25              265.1              110   \n",
       "1                     26              161.6              123   \n",
       "2                      0              243.4              114   \n",
       "3                      0              299.4               71   \n",
       "4                      0              166.7              113   \n",
       "\n",
       "   Total day charge  Total eve minutes  Total eve calls  Total eve charge  \\\n",
       "0             45.07              197.4               99             16.78   \n",
       "1             27.47              195.5              103             16.62   \n",
       "2             41.38              121.2              110             10.30   \n",
       "3             50.90               61.9               88              5.26   \n",
       "4             28.34              148.3              122             12.61   \n",
       "\n",
       "   Total night minutes  Total night calls  Total night charge  \\\n",
       "0                244.7                 91               11.01   \n",
       "1                254.4                103               11.45   \n",
       "2                162.6                104                7.32   \n",
       "3                196.9                 89                8.86   \n",
       "4                186.9                121                8.41   \n",
       "\n",
       "   Total intl minutes  Total intl calls  Total intl charge  \\\n",
       "0                10.0                 3               2.70   \n",
       "1                13.7                 3               3.70   \n",
       "2                12.2                 5               3.29   \n",
       "3                 6.6                 7               1.78   \n",
       "4                10.1                 3               2.73   \n",
       "\n",
       "   Customer service calls  Churn  \n",
       "0                       1      0  \n",
       "1                       1      0  \n",
       "2                       0      0  \n",
       "3                       2      0  \n",
       "4                       3      0  "
      ]
     },
     "execution_count": 73,
     "metadata": {},
     "output_type": "execute_result"
    }
   ],
   "source": [
    "df['Churn'] = (df['Churn']).astype(int)\n",
    "df['International plan'] = (df['International plan'] == 'Yes').astype(int)\n",
    "df['Voice mail plan'] = (df['Voice mail plan'] == 'Yes').astype(int)\n",
    "df.head()"
   ]
  },
  {
   "cell_type": "code",
   "execution_count": 74,
   "metadata": {},
   "outputs": [
    {
     "data": {
      "text/html": [
       "<div>\n",
       "<style scoped>\n",
       "    .dataframe tbody tr th:only-of-type {\n",
       "        vertical-align: middle;\n",
       "    }\n",
       "\n",
       "    .dataframe tbody tr th {\n",
       "        vertical-align: top;\n",
       "    }\n",
       "\n",
       "    .dataframe thead th {\n",
       "        text-align: right;\n",
       "    }\n",
       "</style>\n",
       "<table border=\"1\" class=\"dataframe\">\n",
       "  <thead>\n",
       "    <tr style=\"text-align: right;\">\n",
       "      <th></th>\n",
       "      <th>State</th>\n",
       "      <th>Account length</th>\n",
       "      <th>Area code</th>\n",
       "      <th>International plan</th>\n",
       "      <th>Voice mail plan</th>\n",
       "      <th>Number vmail messages</th>\n",
       "      <th>Total day minutes</th>\n",
       "      <th>Total day calls</th>\n",
       "      <th>Total day charge</th>\n",
       "      <th>Total eve minutes</th>\n",
       "      <th>Total eve calls</th>\n",
       "      <th>Total eve charge</th>\n",
       "      <th>Total night minutes</th>\n",
       "      <th>Total night calls</th>\n",
       "      <th>Total night charge</th>\n",
       "      <th>Total intl minutes</th>\n",
       "      <th>Total intl calls</th>\n",
       "      <th>Total intl charge</th>\n",
       "      <th>Customer service calls</th>\n",
       "      <th>Churn</th>\n",
       "    </tr>\n",
       "  </thead>\n",
       "  <tbody>\n",
       "    <tr>\n",
       "      <th>0</th>\n",
       "      <td>51</td>\n",
       "      <td>212</td>\n",
       "      <td>3</td>\n",
       "      <td>2</td>\n",
       "      <td>2</td>\n",
       "      <td>46</td>\n",
       "      <td>1667</td>\n",
       "      <td>119</td>\n",
       "      <td>1667</td>\n",
       "      <td>1611</td>\n",
       "      <td>123</td>\n",
       "      <td>1440</td>\n",
       "      <td>1591</td>\n",
       "      <td>120</td>\n",
       "      <td>933</td>\n",
       "      <td>162</td>\n",
       "      <td>21</td>\n",
       "      <td>162</td>\n",
       "      <td>10</td>\n",
       "      <td>2</td>\n",
       "    </tr>\n",
       "  </tbody>\n",
       "</table>\n",
       "</div>"
      ],
      "text/plain": [
       "   State  Account length  Area code  International plan  Voice mail plan  \\\n",
       "0     51             212          3                   2                2   \n",
       "\n",
       "   Number vmail messages  Total day minutes  Total day calls  \\\n",
       "0                     46               1667              119   \n",
       "\n",
       "   Total day charge  Total eve minutes  Total eve calls  Total eve charge  \\\n",
       "0              1667               1611              123              1440   \n",
       "\n",
       "   Total night minutes  Total night calls  Total night charge  \\\n",
       "0                 1591                120                 933   \n",
       "\n",
       "   Total intl minutes  Total intl calls  Total intl charge  \\\n",
       "0                 162                21                162   \n",
       "\n",
       "   Customer service calls  Churn  \n",
       "0                      10      2  "
      ]
     },
     "execution_count": 74,
     "metadata": {},
     "output_type": "execute_result"
    }
   ],
   "source": [
    "df.apply(lambda x: x.unique().shape)"
   ]
  },
  {
   "cell_type": "code",
   "execution_count": 75,
   "metadata": {},
   "outputs": [],
   "source": [
    "X = df.drop('Churn', axis=1)\n",
    "y = df['Churn']\n",
    "\n",
    "X_train, X_test, y_train, y_test = train_test_split(X, y, test_size=0.2, random_state=10)"
   ]
  },
  {
   "cell_type": "markdown",
   "metadata": {},
   "source": [
    "### Кодируем небинарный категориальный признак: "
   ]
  },
  {
   "cell_type": "code",
   "execution_count": 76,
   "metadata": {},
   "outputs": [],
   "source": [
    "te = TargetEncoder(cols=['State'], smoothing=2.0) #кодируем небинарный категориальный признак\n",
    "\n",
    "X_train = te.fit_transform(X_train, y_train)\n",
    "X_test = te.transform(X_test, y_test)"
   ]
  },
  {
   "cell_type": "markdown",
   "metadata": {},
   "source": [
    "### Масштабируем числовые признаки: "
   ]
  },
  {
   "cell_type": "code",
   "execution_count": 77,
   "metadata": {},
   "outputs": [],
   "source": [
    "sc = StandardScaler()\n",
    "X_train[num_cols] = sc.fit_transform(X_train[num_cols])\n",
    "X_test[num_cols] = sc.transform(X_test[num_cols])"
   ]
  },
  {
   "cell_type": "markdown",
   "metadata": {},
   "source": [
    "### A: ~~регрессируем~~ применяем логистическую регрессию"
   ]
  },
  {
   "cell_type": "code",
   "execution_count": 78,
   "metadata": {},
   "outputs": [
    {
     "name": "stdout",
     "output_type": "stream",
     "text": [
      "{'C': 6.9}\n",
      "best estimator: LogisticRegression(C=6.9, max_iter=5000)\n",
      "best f1-score: 0.32711893115562846\n"
     ]
    }
   ],
   "source": [
    "params = {'C': np.arange(0.9, 7, 0.4)}\n",
    "gcv = GridSearchCV(estimator=LogisticRegression(max_iter=5000, penalty='l2'),\n",
    "                  param_grid=params,\n",
    "                  scoring='f1',\n",
    "                  cv=5)\n",
    "gcv.fit(X_train, y_train)\n",
    "print(gcv.best_params_, f'best estimator: {gcv.best_estimator_}', f'best f1-score: {gcv.best_score_}',sep='\\n')\n",
    "logreg1 = gcv.best_estimator_"
   ]
  },
  {
   "cell_type": "code",
   "execution_count": 79,
   "metadata": {},
   "outputs": [
    {
     "name": "stdout",
     "output_type": "stream",
     "text": [
      "На train:\n",
      "f1_score:0.35661764705882354\n",
      "ROC-AUC:0.8362429061484572\n",
      "accuracy:0.8687171792948237\n",
      "На test:\n",
      "f1_score:0.2741935483870968\n",
      "ROC-AUC:0.810415899889584\n",
      "accuracy:0.8650674662668666\n"
     ]
    }
   ],
   "source": [
    "logreg1.fit(X_train, y_train)\n",
    "y_pred_test = logreg1.predict(X_test)\n",
    "y_pred_train = logreg1.predict(X_train)\n",
    "\n",
    "tpr_train, fpr_train, thresh = roc_curve(y_train, logreg1.predict_proba(X_train)[:, 0])\n",
    "tpr_test, fpr_test, thresh = roc_curve(y_test, logreg1.predict_proba(X_test)[:, 0])\n",
    "print('На train:',\n",
    "     f'f1_score:{f1_score(y_train, y_pred_train)}',\n",
    "     f'ROC-AUC:{auc(fpr_train, tpr_train)}',\n",
    "     f'accuracy:{accuracy_score(y_train, y_pred_train)}',\n",
    "     'На test:',\n",
    "     f'f1_score:{f1_score(y_test, y_pred_test)}', \n",
    "     f'ROC-AUC:{auc(fpr_test, tpr_test)}',\n",
    "     f'accuracy:{accuracy_score(y_test, y_pred_test)}', sep='\\n')"
   ]
  },
  {
   "cell_type": "code",
   "execution_count": 12,
   "metadata": {},
   "outputs": [
    {
     "data": {
      "text/plain": [
       "(0.854463615903976, 0.8575712143928036)"
      ]
     },
     "execution_count": 12,
     "metadata": {},
     "output_type": "execute_result"
    }
   ],
   "source": [
    "1 - y_train.mean(), 1 - y_test.mean()"
   ]
  },
  {
   "cell_type": "markdown",
   "metadata": {},
   "source": [
    "Алгоритм немного переобучен, если судить по более низким значениям F-1 показателя на тесте. Однако важнее то, что качество модели в целом оставляет желать лучшего:\n",
    "* получаем низкие значения F-1 score - алгоритм плохо различает классы \n",
    "* accuracy равно как на обучающей, так и на тестовой выборке, слабо отличается от accuracy от константного прогноза $\\alpha(x_i) = 0$"
   ]
  },
  {
   "cell_type": "markdown",
   "metadata": {},
   "source": [
    "### В: Метод опорных векторов "
   ]
  },
  {
   "cell_type": "code",
   "execution_count": 13,
   "metadata": {},
   "outputs": [
    {
     "name": "stdout",
     "output_type": "stream",
     "text": [
      "{'C': 0.9}\n",
      "best estimator: SVC(C=0.9, kernel='linear', probability=True)\n",
      "best f1-score: 0.0\n"
     ]
    }
   ],
   "source": [
    "gcv2 = GridSearchCV(estimator=SVC(kernel='linear', probability=True),\n",
    "                  param_grid=params,\n",
    "                  scoring='f1',\n",
    "                  cv=5)\n",
    "gcv2.fit(X_train, y_train)\n",
    "print(gcv2.best_params_,  f'best estimator: {gcv2.best_estimator_}', f'best f1-score: {gcv2.best_score_}', sep='\\n')\n",
    "svm1 = gcv2.best_estimator_"
   ]
  },
  {
   "cell_type": "code",
   "execution_count": 14,
   "metadata": {},
   "outputs": [
    {
     "name": "stdout",
     "output_type": "stream",
     "text": [
      "На train:\n",
      "f1_score:0.0\n",
      "ROC-AUC:0.8113126001285265\n",
      "accuracy:0.854463615903976\n",
      "На test:\n",
      "f1_score:0.0\n",
      "ROC-AUC:0.7689363268310638\n",
      "accuracy:0.8575712143928036\n"
     ]
    }
   ],
   "source": [
    "svm1.fit(X_train, y_train)\n",
    "y_pred_test = svm1.predict(X_test)\n",
    "y_pred_train = svm1.predict(X_train)\n",
    "\n",
    "tpr_train, fpr_train, thresh = roc_curve(y_train, svm1.predict_proba(X_train)[:, 0])\n",
    "tpr_test, fpr_test, thresh = roc_curve(y_test, svm1.predict_proba(X_test)[:, 0])\n",
    "print('На train:',\n",
    "     f'f1_score:{f1_score(y_train, y_pred_train)}',\n",
    "     f'ROC-AUC:{auc(fpr_train, tpr_train)}',\n",
    "     f'accuracy:{accuracy_score(y_train, y_pred_train)}',\n",
    "     'На test:',\n",
    "     f'f1_score:{f1_score(y_test, y_pred_test)}', \n",
    "     f'ROC-AUC:{auc(fpr_test, tpr_test)}',\n",
    "     f'accuracy:{accuracy_score(y_test, y_pred_test)}', sep='\\n')"
   ]
  },
  {
   "cell_type": "markdown",
   "metadata": {},
   "source": [
    "SVM дает константный прогноз.\n",
    "\n",
    "Что же, модель не просто недообучилась, а решила не обучаться вовсе"
   ]
  },
  {
   "cell_type": "markdown",
   "metadata": {},
   "source": [
    "### C, D: Корреляции и полиномиальные признаки\n",
    "\n",
    "Прежде чем создавать новые признаки, попробуем исключить те, \n",
    "* что слишком слабо коррелируют с объясняемой переменной (добавление новых признаков, не имеющих линейной связи с $y$, может лишь усугубить ситуацию) \n",
    "* что сильно коррелируют друг с другом (мультиколлинеарность до добра не доводит) "
   ]
  },
  {
   "cell_type": "code",
   "execution_count": 15,
   "metadata": {},
   "outputs": [],
   "source": [
    "import seaborn as sns"
   ]
  },
  {
   "cell_type": "code",
   "execution_count": 16,
   "metadata": {},
   "outputs": [
    {
     "data": {
      "image/png": "[encoded data removed]",
      "text/plain": [
       "<Figure size 864x720 with 2 Axes>"
      ]
     },
     "metadata": {
      "needs_background": "light"
     },
     "output_type": "display_data"
    }
   ],
   "source": [
    "corr = df.corr()\n",
    "fig, ax = plt.subplots(figsize = (12, 10))\n",
    "ax = sns.heatmap(corr, annot=True, fmt='.2f', cmap='RdBu', )"
   ]
  },
  {
   "cell_type": "code",
   "execution_count": 17,
   "metadata": {},
   "outputs": [
    {
     "data": {
      "text/plain": [
       "{'Voice mail plan': array(['Number vmail messages'], dtype=object),\n",
       " 'Number vmail messages': array(['Voice mail plan'], dtype=object),\n",
       " 'Total day minutes': array(['Total day charge'], dtype=object),\n",
       " 'Total day charge': array(['Total day minutes'], dtype=object),\n",
       " 'Total eve minutes': array(['Total eve charge'], dtype=object),\n",
       " 'Total eve charge': array(['Total eve minutes'], dtype=object),\n",
       " 'Total night minutes': array(['Total night charge'], dtype=object),\n",
       " 'Total night charge': array(['Total night minutes'], dtype=object),\n",
       " 'Total intl minutes': array(['Total intl charge'], dtype=object),\n",
       " 'Total intl charge': array(['Total intl minutes'], dtype=object)}"
      ]
     },
     "execution_count": 17,
     "metadata": {},
     "output_type": "execute_result"
    }
   ],
   "source": [
    "corr_table = corr.drop('Churn', axis=0).reset_index().drop('Churn', axis=1)\n",
    "d = {}\n",
    "for col in corr_table.columns[1:]:\n",
    "    val = corr_table.loc[(corr_table[col].abs() > 0.05) & (corr_table['index'] != col)]['index'].values\n",
    "    if val.shape[0] > 0:\n",
    "        d[col] = val\n",
    "d"
   ]
  },
  {
   "cell_type": "code",
   "execution_count": 18,
   "metadata": {},
   "outputs": [
    {
     "data": {
      "text/plain": [
       "Account length            False\n",
       "Area code                 False\n",
       "International plan         True\n",
       "Voice mail plan            True\n",
       "Number vmail messages      True\n",
       "Total day minutes          True\n",
       "Total day calls           False\n",
       "Total day charge           True\n",
       "Total eve minutes          True\n",
       "Total eve calls           False\n",
       "Total eve charge           True\n",
       "Total night minutes       False\n",
       "Total night calls         False\n",
       "Total night charge        False\n",
       "Total intl minutes        False\n",
       "Total intl calls          False\n",
       "Total intl charge         False\n",
       "Customer service calls     True\n",
       "Churn                      True\n",
       "Name: Churn, dtype: bool"
      ]
     },
     "execution_count": 18,
     "metadata": {},
     "output_type": "execute_result"
    }
   ],
   "source": [
    "corr.Churn.abs() > 0.07"
   ]
  },
  {
   "cell_type": "code",
   "execution_count": 19,
   "metadata": {},
   "outputs": [
    {
     "data": {
      "text/plain": [
       "0.08666188856292753"
      ]
     },
     "execution_count": 19,
     "metadata": {},
     "output_type": "execute_result"
    }
   ],
   "source": [
    "np.corrcoef(X_test['State'], y_test)[1, 0]"
   ]
  },
  {
   "cell_type": "markdown",
   "metadata": {},
   "source": [
    "### Итого:\n",
    "1. Выбираем признаки, линейно не связанные между собой (ну, почти) и коррелирующие с объяснеямой переменной\n",
    "2. Проводим преобразования данных \n",
    "3. Запускаем снова поиск по сетке"
   ]
  },
  {
   "cell_type": "code",
   "execution_count": 80,
   "metadata": {},
   "outputs": [
    {
     "name": "stderr",
     "output_type": "stream",
     "text": [
      "<ipython-input-80-f28a41db3547>:7: SettingWithCopyWarning: \n",
      "A value is trying to be set on a copy of a slice from a DataFrame.\n",
      "Try using .loc[row_indexer,col_indexer] = value instead\n",
      "\n",
      "See the caveats in the documentation: https://pandas.pydata.org/pandas-docs/stable/user_guide/indexing.html#returning-a-view-versus-a-copy\n",
      "  X_train[nums] = sc.fit_transform(X_train[nums])\n",
      "C:\\Users\\ruattar\\Anaconda3\\lib\\site-packages\\pandas\\core\\indexing.py:1738: SettingWithCopyWarning: \n",
      "A value is trying to be set on a copy of a slice from a DataFrame.\n",
      "Try using .loc[row_indexer,col_indexer] = value instead\n",
      "\n",
      "See the caveats in the documentation: https://pandas.pydata.org/pandas-docs/stable/user_guide/indexing.html#returning-a-view-versus-a-copy\n",
      "  self._setitem_single_column(loc, value[:, i].tolist(), pi)\n",
      "<ipython-input-80-f28a41db3547>:8: SettingWithCopyWarning: \n",
      "A value is trying to be set on a copy of a slice from a DataFrame.\n",
      "Try using .loc[row_indexer,col_indexer] = value instead\n",
      "\n",
      "See the caveats in the documentation: https://pandas.pydata.org/pandas-docs/stable/user_guide/indexing.html#returning-a-view-versus-a-copy\n",
      "  X_test[nums] = sc.transform(X_test[nums])\n",
      "C:\\Users\\ruattar\\Anaconda3\\lib\\site-packages\\pandas\\core\\indexing.py:1738: SettingWithCopyWarning: \n",
      "A value is trying to be set on a copy of a slice from a DataFrame.\n",
      "Try using .loc[row_indexer,col_indexer] = value instead\n",
      "\n",
      "See the caveats in the documentation: https://pandas.pydata.org/pandas-docs/stable/user_guide/indexing.html#returning-a-view-versus-a-copy\n",
      "  self._setitem_single_column(loc, value[:, i].tolist(), pi)\n"
     ]
    }
   ],
   "source": [
    "X = df[['International plan', 'Voice mail plan', 'Total day minutes', 'Customer service calls', 'Total eve charge']]\n",
    "\n",
    "X_train, X_test, y_train, y_test = train_test_split(X, y, test_size=0.2, random_state=10)\n",
    "\n",
    "nums = ['Total day minutes', 'Customer service calls', 'Total eve charge']\n",
    "sc = StandardScaler()\n",
    "X_train[nums] = sc.fit_transform(X_train[nums])\n",
    "X_test[nums] = sc.transform(X_test[nums])"
   ]
  },
  {
   "cell_type": "code",
   "execution_count": 81,
   "metadata": {},
   "outputs": [],
   "source": [
    "from sklearn.preprocessing import PolynomialFeatures\n",
    "\n",
    "poly = PolynomialFeatures(3, include_bias=False)\n",
    "X_train = poly.fit_transform(X_train)\n",
    "X_test = poly.transform(X_test)"
   ]
  },
  {
   "cell_type": "code",
   "execution_count": 82,
   "metadata": {},
   "outputs": [
    {
     "data": {
      "text/plain": [
       "(2666, 55)"
      ]
     },
     "execution_count": 82,
     "metadata": {},
     "output_type": "execute_result"
    }
   ],
   "source": [
    "X_train.shape"
   ]
  },
  {
   "cell_type": "markdown",
   "metadata": {},
   "source": [
    "### Снова лог рег"
   ]
  },
  {
   "cell_type": "code",
   "execution_count": 83,
   "metadata": {},
   "outputs": [
    {
     "name": "stdout",
     "output_type": "stream",
     "text": [
      "{'C': 2.1}\n",
      "best estimator: LogisticRegression(C=2.1, max_iter=5000)\n",
      "best f1-score: 0.6422174685642996\n",
      "На train:\n",
      "f1_score: 0.6857142857142857\n",
      "ROC-AUC: 0.9141315858548374\n",
      "accuracy: 0.9216054013503376\n",
      "На test:\n",
      "f1_score: 0.6341463414634145\n",
      "ROC-AUC: 0.8881302907618698\n",
      "accuracy: 0.9100449775112444\n"
     ]
    }
   ],
   "source": [
    "params = {'C': np.arange(0.1, 4, 0.4)}\n",
    "gcv = GridSearchCV(estimator=LogisticRegression(max_iter=5000, penalty='l2'),\n",
    "                  param_grid=params,\n",
    "                  scoring='f1',\n",
    "                  cv=5)\n",
    "gcv.fit(X_train, y_train)\n",
    "print(gcv.best_params_, f'best estimator: {gcv.best_estimator_}', f'best f1-score: {gcv.best_score_}',sep='\\n')\n",
    "logreg2 = gcv.best_estimator_\n",
    "\n",
    "logreg2.fit(X_train, y_train)\n",
    "y_pred_test = logreg2.predict(X_test)\n",
    "y_pred_train = logreg2.predict(X_train)\n",
    "\n",
    "tpr_train, fpr_train, thresh = roc_curve(y_train, logreg2.predict_proba(X_train)[:, 0])\n",
    "tpr_test, fpr_test, thresh = roc_curve(y_test, logreg2.predict_proba(X_test)[:, 0])\n",
    "print('На train:',\n",
    "     f'f1_score: {f1_score(y_train, y_pred_train)}',\n",
    "     f'ROC-AUC: {auc(fpr_train, tpr_train)}',\n",
    "     f'accuracy: {accuracy_score(y_train, y_pred_train)}',\n",
    "     'На test:',\n",
    "     f'f1_score: {f1_score(y_test, y_pred_test)}', \n",
    "     f'ROC-AUC: {auc(fpr_test, tpr_test)}',\n",
    "     f'accuracy: {accuracy_score(y_test, y_pred_test)}', sep='\\n')"
   ]
  },
  {
   "cell_type": "markdown",
   "metadata": {},
   "source": [
    "### Снова SVM "
   ]
  },
  {
   "cell_type": "code",
   "execution_count": 84,
   "metadata": {},
   "outputs": [
    {
     "name": "stdout",
     "output_type": "stream",
     "text": [
      "{'C': 1.7000000000000002}\n",
      "best estimator: SVC(C=1.7000000000000002, kernel='linear', probability=True)\n",
      "best f1-score: 0.6256367036177354\n",
      "На train:\n",
      "f1_score:0.6697530864197532\n",
      "ROC-AUC:0.9081849696333373\n",
      "accuracy:0.9197299324831207\n",
      "На test:\n",
      "f1_score:0.6329113924050633\n",
      "ROC-AUC:0.8781560544718441\n",
      "accuracy:0.9130434782608695\n"
     ]
    }
   ],
   "source": [
    "gcv2 = GridSearchCV(estimator=SVC(kernel='linear', probability=True),\n",
    "                  param_grid=params,\n",
    "                  scoring='f1',\n",
    "                  cv=5)\n",
    "gcv2.fit(X_train, y_train)\n",
    "print(gcv2.best_params_,  f'best estimator: {gcv2.best_estimator_}', f'best f1-score: {gcv2.best_score_}', sep='\\n')\n",
    "svm2 = gcv2.best_estimator_\n",
    "\n",
    "svm2.fit(X_train, y_train)\n",
    "y_pred_test = svm2.predict(X_test)\n",
    "y_pred_train = svm2.predict(X_train)\n",
    "\n",
    "tpr_train, fpr_train, thresh = roc_curve(y_train, svm2.predict_proba(X_train)[:, 0])\n",
    "tpr_test, fpr_test, thresh = roc_curve(y_test, svm2.predict_proba(X_test)[:, 0])\n",
    "print('На train:',\n",
    "     f'f1_score:{f1_score(y_train, y_pred_train)}',\n",
    "     f'ROC-AUC:{auc(fpr_train, tpr_train)}',\n",
    "     f'accuracy:{accuracy_score(y_train, y_pred_train)}',\n",
    "     'На test:',\n",
    "     f'f1_score:{f1_score(y_test, y_pred_test)}', \n",
    "     f'ROC-AUC:{auc(fpr_test, tpr_test)}',\n",
    "     f'accuracy:{accuracy_score(y_test, y_pred_test)}', sep='\\n')"
   ]
  },
  {
   "cell_type": "markdown",
   "metadata": {},
   "source": [
    "### E. Мини-отчет о проведенной работе. \n",
    "\n",
    "Для этого ответьте на вопросы: \n",
    "\n",
    "a) какой классификатор дал наилучший результат? \n",
    "\n",
    "**Ответ**: Лучший результат дала логит-модель `LogisticRegression(C=2.1, max_iter=5000)`. Чуть лучше чем svm на тесте по кросс-валидации на обучающей. \n",
    "\n",
    "чему равны значения метрик accuracy, f1-score и ROC-AUC? \n",
    "\n",
    "**Ответ**: На тестовой подвыборке **f1_score = 0.63, ROC-AUC = 0.89, accuracy = 0.91**\n",
    "F1-score почти в два раза больше первоначального, а значение accuracy уже заметно отличается от константного предсказания. \n",
    "\n",
    "b) какие новые признаки вы добавили и какие признаки удалили?\n",
    "\n",
    "**Ответ**:\n",
    "Удалил все признаки кроме `'International plan', 'Voice mail plan', 'Total day minutes', 'Customer service calls', 'Total eve charge'`. Добавил полиномиальные признаки третьей степени от них. \n",
    "\n",
    "c) удалось ли добиться того, что алгоритм не переобучился и не недообучился?\n",
    "\n",
    "**Ответ**:Проблему \"недообучения\", кажется, удалось преодолеть: получили модель заметно лучшего качества по сравнению с пунктами A и В по всем метрикам; кроме того, как было сказано ранее, доля верных ответов больше на 6 процентных пунктов, чем при константном прогнозе \"все нули\". \n",
    "\n",
    "Переобучения также избежали: f1-score на тесте сопоставим со значением данной метрики, посчитанной по кросс-валидации на обучающей выборке (разница порядка 1.5%) "
   ]
  },
  {
   "cell_type": "markdown",
   "metadata": {},
   "source": [
    "## Часть 2. Оценка качества моделей классификации (5 баллов).\n",
    "\n",
    "* Колонки 0, 1, ..., 13 - анонимизированные характеристики клиентов (некоторые числовые, некоторые категориальные). \n",
    "* Target - целевая переменная: 1 - выдать кредит, 0 - не выдать кредит.\n",
    "\n",
    "На этих данных было обучено три различных алгоритма классификации и получены предсказания:\n",
    "* pred1_probs - предсказанные вероятности положительного класса, полученные алгоритмом 1.\n",
    "* pred1_classes - предсказанные алгоритмом 1 классы\n",
    "* pred2_probs, pred2_classes, pred3_probs, pred3_classes - аналогичные величины для алгоритмов 2 и 3\n",
    "\n",
    "Наша задача - оценить качество каждого из трех алгоритмов и разобраться, какой из алгоритмов лучше всего работает в данной задаче."
   ]
  },
  {
   "cell_type": "code",
   "execution_count": 5,
   "metadata": {},
   "outputs": [
    {
     "data": {
      "text/html": [
       "<div>\n",
       "<style scoped>\n",
       "    .dataframe tbody tr th:only-of-type {\n",
       "        vertical-align: middle;\n",
       "    }\n",
       "\n",
       "    .dataframe tbody tr th {\n",
       "        vertical-align: top;\n",
       "    }\n",
       "\n",
       "    .dataframe thead th {\n",
       "        text-align: right;\n",
       "    }\n",
       "</style>\n",
       "<table border=\"1\" class=\"dataframe\">\n",
       "  <thead>\n",
       "    <tr style=\"text-align: right;\">\n",
       "      <th></th>\n",
       "      <th>0</th>\n",
       "      <th>1</th>\n",
       "      <th>2</th>\n",
       "      <th>3</th>\n",
       "      <th>4</th>\n",
       "      <th>5</th>\n",
       "      <th>6</th>\n",
       "      <th>7</th>\n",
       "      <th>8</th>\n",
       "      <th>9</th>\n",
       "      <th>...</th>\n",
       "      <th>11</th>\n",
       "      <th>12</th>\n",
       "      <th>13</th>\n",
       "      <th>target</th>\n",
       "      <th>pred1_probs</th>\n",
       "      <th>pred1_classes</th>\n",
       "      <th>pred2_probs</th>\n",
       "      <th>pred2_classes</th>\n",
       "      <th>pred3_probs</th>\n",
       "      <th>pred3_classes</th>\n",
       "    </tr>\n",
       "  </thead>\n",
       "  <tbody>\n",
       "    <tr>\n",
       "      <th>0</th>\n",
       "      <td>1</td>\n",
       "      <td>22.08</td>\n",
       "      <td>11.46</td>\n",
       "      <td>2</td>\n",
       "      <td>4</td>\n",
       "      <td>4</td>\n",
       "      <td>1.585</td>\n",
       "      <td>0</td>\n",
       "      <td>0</td>\n",
       "      <td>0</td>\n",
       "      <td>...</td>\n",
       "      <td>2</td>\n",
       "      <td>100</td>\n",
       "      <td>1213</td>\n",
       "      <td>0</td>\n",
       "      <td>0.506772</td>\n",
       "      <td>1</td>\n",
       "      <td>0.610853</td>\n",
       "      <td>1</td>\n",
       "      <td>0.375494</td>\n",
       "      <td>0</td>\n",
       "    </tr>\n",
       "    <tr>\n",
       "      <th>1</th>\n",
       "      <td>0</td>\n",
       "      <td>22.67</td>\n",
       "      <td>7.00</td>\n",
       "      <td>2</td>\n",
       "      <td>8</td>\n",
       "      <td>4</td>\n",
       "      <td>0.165</td>\n",
       "      <td>0</td>\n",
       "      <td>0</td>\n",
       "      <td>0</td>\n",
       "      <td>...</td>\n",
       "      <td>2</td>\n",
       "      <td>160</td>\n",
       "      <td>1</td>\n",
       "      <td>0</td>\n",
       "      <td>0.358519</td>\n",
       "      <td>0</td>\n",
       "      <td>0.185941</td>\n",
       "      <td>0</td>\n",
       "      <td>0.200975</td>\n",
       "      <td>0</td>\n",
       "    </tr>\n",
       "    <tr>\n",
       "      <th>2</th>\n",
       "      <td>0</td>\n",
       "      <td>29.58</td>\n",
       "      <td>1.75</td>\n",
       "      <td>1</td>\n",
       "      <td>4</td>\n",
       "      <td>4</td>\n",
       "      <td>1.250</td>\n",
       "      <td>0</td>\n",
       "      <td>0</td>\n",
       "      <td>0</td>\n",
       "      <td>...</td>\n",
       "      <td>2</td>\n",
       "      <td>280</td>\n",
       "      <td>1</td>\n",
       "      <td>0</td>\n",
       "      <td>0.358753</td>\n",
       "      <td>0</td>\n",
       "      <td>0.523009</td>\n",
       "      <td>1</td>\n",
       "      <td>0.160465</td>\n",
       "      <td>0</td>\n",
       "    </tr>\n",
       "    <tr>\n",
       "      <th>3</th>\n",
       "      <td>0</td>\n",
       "      <td>21.67</td>\n",
       "      <td>11.50</td>\n",
       "      <td>1</td>\n",
       "      <td>5</td>\n",
       "      <td>3</td>\n",
       "      <td>0.000</td>\n",
       "      <td>1</td>\n",
       "      <td>1</td>\n",
       "      <td>11</td>\n",
       "      <td>...</td>\n",
       "      <td>2</td>\n",
       "      <td>0</td>\n",
       "      <td>1</td>\n",
       "      <td>1</td>\n",
       "      <td>0.408729</td>\n",
       "      <td>0</td>\n",
       "      <td>0.185941</td>\n",
       "      <td>0</td>\n",
       "      <td>0.357771</td>\n",
       "      <td>0</td>\n",
       "    </tr>\n",
       "    <tr>\n",
       "      <th>4</th>\n",
       "      <td>1</td>\n",
       "      <td>20.17</td>\n",
       "      <td>8.17</td>\n",
       "      <td>2</td>\n",
       "      <td>6</td>\n",
       "      <td>4</td>\n",
       "      <td>1.960</td>\n",
       "      <td>1</td>\n",
       "      <td>1</td>\n",
       "      <td>14</td>\n",
       "      <td>...</td>\n",
       "      <td>2</td>\n",
       "      <td>60</td>\n",
       "      <td>159</td>\n",
       "      <td>1</td>\n",
       "      <td>0.480904</td>\n",
       "      <td>0</td>\n",
       "      <td>0.526646</td>\n",
       "      <td>1</td>\n",
       "      <td>0.260169</td>\n",
       "      <td>0</td>\n",
       "    </tr>\n",
       "  </tbody>\n",
       "</table>\n",
       "<p>5 rows × 21 columns</p>\n",
       "</div>"
      ],
      "text/plain": [
       "   0      1      2  3  4  5      6  7  8   9  ...  11   12    13  target  \\\n",
       "0  1  22.08  11.46  2  4  4  1.585  0  0   0  ...   2  100  1213       0   \n",
       "1  0  22.67   7.00  2  8  4  0.165  0  0   0  ...   2  160     1       0   \n",
       "2  0  29.58   1.75  1  4  4  1.250  0  0   0  ...   2  280     1       0   \n",
       "3  0  21.67  11.50  1  5  3  0.000  1  1  11  ...   2    0     1       1   \n",
       "4  1  20.17   8.17  2  6  4  1.960  1  1  14  ...   2   60   159       1   \n",
       "\n",
       "   pred1_probs  pred1_classes  pred2_probs  pred2_classes  pred3_probs  \\\n",
       "0     0.506772              1     0.610853              1     0.375494   \n",
       "1     0.358519              0     0.185941              0     0.200975   \n",
       "2     0.358753              0     0.523009              1     0.160465   \n",
       "3     0.408729              0     0.185941              0     0.357771   \n",
       "4     0.480904              0     0.526646              1     0.260169   \n",
       "\n",
       "   pred3_classes  \n",
       "0              0  \n",
       "1              0  \n",
       "2              0  \n",
       "3              0  \n",
       "4              0  \n",
       "\n",
       "[5 rows x 21 columns]"
      ]
     },
     "execution_count": 5,
     "metadata": {},
     "output_type": "execute_result"
    }
   ],
   "source": [
    "df = pd.read_csv(\"credit_scoring_example1.csv\")\n",
    "df.head()"
   ]
  },
  {
   "cell_type": "code",
   "execution_count": 6,
   "metadata": {},
   "outputs": [
    {
     "data": {
      "text/plain": [
       "(689, 21)"
      ]
     },
     "execution_count": 6,
     "metadata": {},
     "output_type": "execute_result"
    }
   ],
   "source": [
    "df.shape"
   ]
  },
  {
   "cell_type": "markdown",
   "metadata": {},
   "source": [
    "**Задание 1.** Проверьте target на сбалансированность по классам, сделайте вывод."
   ]
  },
  {
   "cell_type": "code",
   "execution_count": 7,
   "metadata": {},
   "outputs": [
    {
     "data": {
      "text/plain": [
       "0    0.554427\n",
       "1    0.445573\n",
       "Name: target, dtype: float64"
      ]
     },
     "execution_count": 7,
     "metadata": {},
     "output_type": "execute_result"
    }
   ],
   "source": [
    "df.target.value_counts(normalize=True)"
   ]
  },
  {
   "cell_type": "markdown",
   "metadata": {},
   "source": [
    "Доли близки к половине, выборка сбалансирована по классам"
   ]
  },
  {
   "cell_type": "markdown",
   "metadata": {},
   "source": [
    "**Задание 2.** Вычислите accuracy - долю правильных ответов каждого из алгоритмов. Какой алгоритм имеет наибольшую accuracy?"
   ]
  },
  {
   "cell_type": "code",
   "execution_count": 8,
   "metadata": {},
   "outputs": [
    {
     "name": "stdout",
     "output_type": "stream",
     "text": [
      "accuracy 1-го алгоритма: 0.6618287373004355\n",
      "accuracy 2-го алгоритма: 0.6719883889695211\n",
      "accuracy 3-го алгоритма: 0.6400580551523948\n"
     ]
    }
   ],
   "source": [
    "#your code here\n",
    "from sklearn.metrics import accuracy_score, precision_score, recall_score\n",
    "for i in [1, 2, 3]:\n",
    "    col = f'pred{i}_classes'\n",
    "    print(f'accuracy {i}-го алгоритма: {accuracy_score(df.target, df[col])}')"
   ]
  },
  {
   "cell_type": "markdown",
   "metadata": {},
   "source": [
    "Наибольшая доля верных ответов у 2-го алгоритма "
   ]
  },
  {
   "cell_type": "markdown",
   "metadata": {},
   "source": [
    "**Задание 3.** Теперь вычислите точность и полноту каждого из алгоритмов."
   ]
  },
  {
   "cell_type": "code",
   "execution_count": 9,
   "metadata": {},
   "outputs": [
    {
     "name": "stdout",
     "output_type": "stream",
     "text": [
      "precision 1-го алгоритма: 0.6907216494845361\n",
      "recall 1-го алгоритма: 0.4364820846905538\n",
      "\n",
      "precision 2-го алгоритма: 0.6103542234332425\n",
      "recall 2-го алгоритма: 0.7296416938110749\n",
      "\n",
      "precision 3-го алгоритма: 0.6903225806451613\n",
      "recall 3-го алгоритма: 0.3485342019543974\n",
      "\n"
     ]
    }
   ],
   "source": [
    "for i in [1, 2, 3]:\n",
    "    col = f'pred{i}_classes'\n",
    "    print(f'precision {i}-го алгоритма: {precision_score(df.target, df[col])}')\n",
    "    print(f'recall {i}-го алгоритма: {recall_score(df.target, df[col])}\\n')"
   ]
  },
  {
   "cell_type": "markdown",
   "metadata": {},
   "source": [
    "Самым полезным инструментом в практических задачах является ***матрица ошибок***. Смотря на неё и регулируя порог, определяющий классы, мы можем достичь оптимального решения нашей задачи.\n",
    "\n",
    "**Задание 4.** Используя функцию plot_confusion_matrix для визуализации матрицы ошибок, нарисуйте матрицы ошибок всех трех алгоритмов."
   ]
  },
  {
   "cell_type": "code",
   "execution_count": 10,
   "metadata": {},
   "outputs": [],
   "source": [
    "import itertools\n",
    "from sklearn.metrics import confusion_matrix\n",
    "\n",
    "def plot_confusion_matrix(cm, classes,\n",
    "                          normalize=False,\n",
    "                          title='Confusion matrix',\n",
    "                          cmap=plt.cm.Blues):\n",
    " \n",
    "    plt.imshow(cm, interpolation='nearest', cmap=cmap)\n",
    "    plt.title(title)\n",
    "    plt.colorbar()\n",
    "    tick_marks = np.arange(len(classes))\n",
    "    plt.xticks(tick_marks, classes, rotation=45)\n",
    "    plt.yticks(tick_marks, classes)\n",
    " \n",
    "    fmt = '.2f' if normalize else 'd'\n",
    "    thresh = cm.max() / 2.\n",
    "    for i, j in itertools.product(range(cm.shape[0]), range(cm.shape[1])):\n",
    "        plt.text(j, i, format(cm[i, j], fmt),\n",
    "                 horizontalalignment=\"center\",\n",
    "                 color=\"white\" if cm[i, j] > thresh else \"black\")\n",
    " \n",
    "    plt.tight_layout()\n",
    "    plt.ylabel('True label')\n",
    "    plt.xlabel('Predicted label')"
   ]
  },
  {
   "cell_type": "markdown",
   "metadata": {},
   "source": [
    "Первая модель:"
   ]
  },
  {
   "cell_type": "code",
   "execution_count": 11,
   "metadata": {},
   "outputs": [
    {
     "data": {
      "image/png": "[encoded data removed]",
      "text/plain": [
       "<Figure size 432x288 with 2 Axes>"
      ]
     },
     "metadata": {
      "needs_background": "light"
     },
     "output_type": "display_data"
    }
   ],
   "source": [
    "plot_confusion_matrix(confusion_matrix(df.target, df.pred1_classes), ['Не выдавать (0)', 'Кредиту быть(1)'])"
   ]
  },
  {
   "cell_type": "markdown",
   "metadata": {},
   "source": [
    "Вторая модель:"
   ]
  },
  {
   "cell_type": "code",
   "execution_count": 12,
   "metadata": {},
   "outputs": [
    {
     "data": {
      "image/png": "[encoded data removed]",
      "text/plain": [
       "<Figure size 432x288 with 2 Axes>"
      ]
     },
     "metadata": {
      "needs_background": "light"
     },
     "output_type": "display_data"
    }
   ],
   "source": [
    "plot_confusion_matrix(confusion_matrix(df.target, df.pred2_classes), ['Не выдавать (0)', 'Кредиту быть(1)'])"
   ]
  },
  {
   "cell_type": "markdown",
   "metadata": {},
   "source": [
    "Третья:"
   ]
  },
  {
   "cell_type": "code",
   "execution_count": 13,
   "metadata": {},
   "outputs": [
    {
     "data": {
      "image/png": "[encoded data removed]",
      "text/plain": [
       "<Figure size 432x288 with 2 Axes>"
      ]
     },
     "metadata": {
      "needs_background": "light"
     },
     "output_type": "display_data"
    }
   ],
   "source": [
    "plot_confusion_matrix(confusion_matrix(df.target, df.pred3_classes), ['Не выдавать (0)', 'Кредиту быть(1)'])"
   ]
  },
  {
   "cell_type": "markdown",
   "metadata": {},
   "source": [
    "Давайте определимся с целями нашего предсказания:\n",
    "    \n",
    "* **Вариант 1**: хотим выдать кредит максимальному числу людей среди тех, кто мог бы его вернуть. При этом не хотим много ошибаться (общее число ошибок не более 35%).\n",
    "  \n",
    "1) Мы не хотим, чтобы алгоритм много ошибался: accuracy $\\geq$ 0.65.\n",
    "\n",
    "2) Кроме того полнота должна быть как можно больше (число в левом нижнем квадрате матрицы ошибок минимально).\n",
    "\n",
    "**Задание 5.** Для каждого алгоритма найдите такой порог принятия решения, чтобы выполнялись перечисленные выше условия. Какой максимальной полноты можно добиться у каждой из моделей при условии, что accuracy $\\geq$ 0.65?\n",
    "\n",
    "**Комментарий:** порог можно искать в цикле с небольшим шагом."
   ]
  },
  {
   "cell_type": "code",
   "execution_count": 14,
   "metadata": {},
   "outputs": [
    {
     "name": "stdout",
     "output_type": "stream",
     "text": [
      "При accuracy >= 0.65:\n",
      "\n",
      "max recall для 1-го алгоритма равен 0.743 (порог 0.36)\n",
      "max recall для 2-го алгоритма равен 0.837 (порог 0.27)\n",
      "max recall для 3-го алгоритма равен Not_found (порог Not_found)\n"
     ]
    }
   ],
   "source": [
    "def max_recall(y_true, probas, fix_accuracy=0.65):\n",
    "    recall = []\n",
    "    thresh = []\n",
    "    for t in np.arange(0, 1.01, 0.01):\n",
    "        pred_classes = np.zeros(y_true.shape[0])\n",
    "        pred_classes[probas >= t] = 1\n",
    "        if accuracy_score(y_true, pred_classes) >= fix_accuracy:\n",
    "            thresh.append(t)\n",
    "            recall.append(recall_score(y_true, pred_classes))\n",
    "    try: \n",
    "        return (round(np.max(recall), 3), thresh[np.argmax(recall)])\n",
    "    except: \n",
    "        return ('Not_found', 'Not_found')\n",
    "\n",
    "print('При accuracy >= 0.65:\\n') \n",
    "for i in [1, 2, 3]:\n",
    "    col = f'pred{i}_probs'\n",
    "    res = max_recall(df.target, df[col])\n",
    "    print(f'max recall для {i}-го алгоритма равен {res[0]} (порог {res[1]})')\n"
   ]
  },
  {
   "cell_type": "markdown",
   "metadata": {},
   "source": [
    "Добиться значения accuracy 0.65 на третьем алгоритме не удается. Попробуем то же самое на уровне 0.64: "
   ]
  },
  {
   "cell_type": "code",
   "execution_count": 15,
   "metadata": {},
   "outputs": [
    {
     "name": "stdout",
     "output_type": "stream",
     "text": [
      "При accuracy >= 0.64:\n",
      "\n",
      "max recall для 1-го алгоритма равен 0.821 (порог 0.34)\n",
      "max recall для 2-го алгоритма равен 0.837 (порог 0.27)\n",
      "max recall для 3-го алгоритма равен 0.642 (порог 0.23)\n"
     ]
    }
   ],
   "source": [
    "print('При accuracy >= 0.64:\\n') \n",
    "for i in [1, 2, 3]:\n",
    "    col = f'pred{i}_probs'\n",
    "    res = max_recall(df.target, df[col], fix_accuracy=0.64)\n",
    "    print(f'max recall для {i}-го алгоритма равен {res[0]} (порог {res[1]})')"
   ]
  },
  {
   "cell_type": "markdown",
   "metadata": {},
   "source": [
    "В любом случае максимальной полноты достигаем на втором алгоритме. Для дальнейшего выполнения заданий в 3-м алгоритме можем использовать ограничение 0.64 (чтобы матрицу нарисовать и все такое)"
   ]
  },
  {
   "cell_type": "markdown",
   "metadata": {},
   "source": [
    "**Задание 6.** Визуализируйте матрицу ошибок для каждого из трех алгоритмов с подобранным порогом."
   ]
  },
  {
   "cell_type": "code",
   "execution_count": 16,
   "metadata": {},
   "outputs": [],
   "source": [
    "def max_recall_plot(y_true, probas, thresh):\n",
    "    pred_classes = np.zeros(y_true.shape[0])\n",
    "    pred_classes[probas >= thresh] = 1\n",
    "    plot_confusion_matrix(confusion_matrix(df.target, pred_classes), ['Не выдавать (0)', 'Кредиту быть(1)'])"
   ]
  },
  {
   "cell_type": "markdown",
   "metadata": {},
   "source": [
    "**1-й  алгоритм** (0.65)"
   ]
  },
  {
   "cell_type": "code",
   "execution_count": 17,
   "metadata": {},
   "outputs": [
    {
     "data": {
      "image/png": "[encoded data removed]",
      "text/plain": [
       "<Figure size 432x288 with 2 Axes>"
      ]
     },
     "metadata": {
      "needs_background": "light"
     },
     "output_type": "display_data"
    }
   ],
   "source": [
    "t1 = max_recall(df.target, df.pred1_probs)[1]\n",
    "max_recall_plot(df.target, df.pred1_probs, t1)"
   ]
  },
  {
   "cell_type": "markdown",
   "metadata": {},
   "source": [
    "**2-й алгоритм** (0.65)"
   ]
  },
  {
   "cell_type": "code",
   "execution_count": 18,
   "metadata": {},
   "outputs": [
    {
     "data": {
      "image/png": "[encoded data removed]",
      "text/plain": [
       "<Figure size 432x288 with 2 Axes>"
      ]
     },
     "metadata": {
      "needs_background": "light"
     },
     "output_type": "display_data"
    }
   ],
   "source": [
    "t2 = max_recall(df.target, df.pred2_probs)[1]\n",
    "max_recall_plot(df.target, df.pred2_probs, t2)"
   ]
  },
  {
   "cell_type": "markdown",
   "metadata": {},
   "source": [
    "**3-й алгоритм** (0.64)"
   ]
  },
  {
   "cell_type": "code",
   "execution_count": 19,
   "metadata": {},
   "outputs": [
    {
     "data": {
      "image/png": "[encoded data removed]",
      "text/plain": [
       "<Figure size 432x288 with 2 Axes>"
      ]
     },
     "metadata": {
      "needs_background": "light"
     },
     "output_type": "display_data"
    }
   ],
   "source": [
    "t3 = max_recall(df.target, df.pred3_probs, fix_accuracy=0.64)[1]\n",
    "max_recall_plot(df.target, df.pred3_probs, t3)"
   ]
  },
  {
   "cell_type": "markdown",
   "metadata": {},
   "source": [
    "**Выводы:** 2-я модель лучше всего справилась с поставленной задачей. "
   ]
  },
  {
   "cell_type": "markdown",
   "metadata": {},
   "source": [
    "Наша цель может звучать и по-другому:\n",
    "    \n",
    "* **Вариант 2**: среди тех, кому модель выдает кредит, должно быть меньше всего ошибок (мало людей, кто его на самом деле не вернет - на них будем терять деньги). \n",
    "    При этом не хотим много ошибаться (общее число ошибок не более 35%).\n",
    "  \n",
    "1) Мы не хотим, чтобы алгоритм много ошибался: accuracy $\\geq$ 0.65.\n",
    "\n",
    "2) Кроме того точность должна быть как можно больше (число в правом верхнем квадрате матрицы ошибок минимально).\n",
    "\n",
    "**Задание 7.** Для каждого алгоритма найдите порог принятия решения, чтобы выполнялись перечисленные выше условия. Какой максимальной точности можно добиться у каждой из моделей при условии, что accuracy $\\geq$ 0.65? "
   ]
  },
  {
   "cell_type": "code",
   "execution_count": 20,
   "metadata": {},
   "outputs": [
    {
     "name": "stdout",
     "output_type": "stream",
     "text": [
      "При accuracy >= 0.64:\n",
      "\n",
      "max precision для 1-го алгоритма равен 0.748 (порог 0.5700000000000001)\n",
      "max precision для 2-го алгоритма равен 0.837 (порог 0.73)\n",
      "max precision для 3-го алгоритма равен 0.714 (порог 0.56)\n"
     ]
    }
   ],
   "source": [
    "def max_precision(y_true, probas, fix_accuracy=0.64):\n",
    "    precision = []\n",
    "    thresh = []\n",
    "    for t in np.arange(0, 1.01, 0.01):\n",
    "        pred_classes = np.zeros(y_true.shape[0])\n",
    "        pred_classes[probas >= t] = 1\n",
    "        if accuracy_score(y_true, pred_classes) >= fix_accuracy:\n",
    "            thresh.append(t)\n",
    "            precision.append(precision_score(y_true, pred_classes))\n",
    "    return (round(np.max(precision), 3), thresh[np.argmax(precision)])\n",
    "\n",
    "print('При accuracy >= 0.64:\\n') \n",
    "for i in [1, 2, 3]:\n",
    "    col = f'pred{i}_probs'\n",
    "    res = max_precision(df.target, df[col], fix_accuracy=0.64)\n",
    "    print(f'max precision для {i}-го алгоритма равен {res[0]} (порог {res[1]})')"
   ]
  },
  {
   "cell_type": "markdown",
   "metadata": {},
   "source": [
    "**Задание 8.** Нарисуйте матрицы ошибок для каждого из алгоритмов с найденными значениями порога. Какая модель лучше всех справилась с этой задачей?"
   ]
  },
  {
   "cell_type": "code",
   "execution_count": 21,
   "metadata": {},
   "outputs": [
    {
     "data": {
      "image/png": "[encoded data removed]",
      "text/plain": [
       "<Figure size 432x288 with 2 Axes>"
      ]
     },
     "metadata": {
      "needs_background": "light"
     },
     "output_type": "display_data"
    }
   ],
   "source": [
    "# first\n",
    "t21 = max_precision(df.target, df.pred1_probs, fix_accuracy=0.65)[1]\n",
    "max_recall_plot(df.target, df.pred1_probs, t21)"
   ]
  },
  {
   "cell_type": "code",
   "execution_count": 22,
   "metadata": {},
   "outputs": [
    {
     "data": {
      "image/png": "[encoded data removed]",
      "text/plain": [
       "<Figure size 432x288 with 2 Axes>"
      ]
     },
     "metadata": {
      "needs_background": "light"
     },
     "output_type": "display_data"
    }
   ],
   "source": [
    "#second\n",
    "t22 = max_precision(df.target, df.pred2_probs, fix_accuracy=0.65)[1]\n",
    "max_recall_plot(df.target, df.pred2_probs, t22)"
   ]
  },
  {
   "cell_type": "code",
   "execution_count": 23,
   "metadata": {},
   "outputs": [
    {
     "data": {
      "image/png": "[encoded data removed]",
      "text/plain": [
       "<Figure size 432x288 with 2 Axes>"
      ]
     },
     "metadata": {
      "needs_background": "light"
     },
     "output_type": "display_data"
    }
   ],
   "source": [
    "# third\n",
    "t23 = max_precision(df.target, df.pred3_probs, fix_accuracy=0.64)[1]\n",
    "max_recall_plot(df.target, df.pred3_probs, t23)"
   ]
  },
  {
   "cell_type": "markdown",
   "metadata": {},
   "source": [
    "Снова с задачей лучше справляется вторая модель"
   ]
  },
  {
   "cell_type": "markdown",
   "metadata": {},
   "source": [
    "Также (**Вариант 3**) можно потребовать, чтобы и точность, и полнота были высокими, то есть обе ошибки в матрице ошибок были маленькие. Как вариант - можно максимизировать F1-score (среднее гармоническое между точностью и полнотой).\n",
    "\n",
    "**Задание 9.** Найдите пороги для достижения максимального F1-score для каждой из трех моделей и нарисуйте матрицы ошибок. Какая модель решает поставленную задачу лучше остальных?"
   ]
  },
  {
   "cell_type": "code",
   "execution_count": 29,
   "metadata": {},
   "outputs": [
    {
     "name": "stdout",
     "output_type": "stream",
     "text": [
      "При accuracy >= 0.64:\n",
      "\n",
      "max f1-score для 1-го алгоритма равен 0.672 (порог 0.34)\n",
      "max f1-score для 2-го алгоритма равен 0.699 (порог 0.32)\n",
      "max f1-score для 3-го алгоритма равен 0.614 (порог 0.23)\n"
     ]
    }
   ],
   "source": [
    "def max_f1(y_true, probas, fix_accuracy=0.64):\n",
    "    f1 = []\n",
    "    thresh = []\n",
    "    for t in np.arange(0, 1.01, 0.01):\n",
    "        pred_classes = np.zeros(y_true.shape[0])\n",
    "        pred_classes[probas >= t] = 1\n",
    "        if accuracy_score(y_true, pred_classes) >= fix_accuracy:\n",
    "            thresh.append(t)\n",
    "            f1.append(f1_score(y_true, pred_classes))\n",
    "    return (round(np.max(f1), 3), thresh[np.argmax(f1)])\n",
    "\n",
    "print('При accuracy >= 0.64:\\n') \n",
    "for i in [1, 2, 3]:\n",
    "    col = f'pred{i}_probs'\n",
    "    res = max_f1(df.target, df[col], fix_accuracy=0.64)\n",
    "    print(f'max f1-score для {i}-го алгоритма равен {res[0]} (порог {res[1]})')"
   ]
  },
  {
   "cell_type": "code",
   "execution_count": 30,
   "metadata": {},
   "outputs": [
    {
     "data": {
      "image/png": "[encoded data removed]",
      "text/plain": [
       "<Figure size 432x288 with 2 Axes>"
      ]
     },
     "metadata": {
      "needs_background": "light"
     },
     "output_type": "display_data"
    }
   ],
   "source": [
    "t31 = max_precision(df.target, df.pred1_probs, fix_accuracy=0.65)[1]\n",
    "max_recall_plot(df.target, df.pred1_probs, t31)"
   ]
  },
  {
   "cell_type": "code",
   "execution_count": 32,
   "metadata": {},
   "outputs": [
    {
     "data": {
      "image/png": "[encoded data removed]",
      "text/plain": [
       "<Figure size 432x288 with 2 Axes>"
      ]
     },
     "metadata": {
      "needs_background": "light"
     },
     "output_type": "display_data"
    }
   ],
   "source": [
    "t32 = max_precision(df.target, df.pred2_probs, fix_accuracy=0.65)[1]\n",
    "max_recall_plot(df.target, df.pred2_probs, t32)"
   ]
  },
  {
   "cell_type": "code",
   "execution_count": 33,
   "metadata": {},
   "outputs": [
    {
     "data": {
      "image/png": "[encoded data removed]",
      "text/plain": [
       "<Figure size 432x288 with 2 Axes>"
      ]
     },
     "metadata": {
      "needs_background": "light"
     },
     "output_type": "display_data"
    }
   ],
   "source": [
    "t33 = max_precision(df.target, df.pred3_probs, fix_accuracy=0.64)[1]\n",
    "max_recall_plot(df.target, df.pred3_probs, t33)"
   ]
  },
  {
   "cell_type": "markdown",
   "metadata": {},
   "source": [
    "В очередной раз лучшей для решения задачи оказывается вторая модель."
   ]
  },
  {
   "cell_type": "markdown",
   "metadata": {},
   "source": [
    "#### Кстати\n",
    "\n",
    "В python есть удобная функция classification_report, которая выводит значения нескольких метрик."
   ]
  },
  {
   "cell_type": "code",
   "execution_count": 25,
   "metadata": {},
   "outputs": [
    {
     "name": "stdout",
     "output_type": "stream",
     "text": [
      "              precision    recall  f1-score   support\n",
      "\n",
      "           0       0.65      0.84      0.73       382\n",
      "           1       0.69      0.44      0.53       307\n",
      "\n",
      "    accuracy                           0.66       689\n",
      "   macro avg       0.67      0.64      0.63       689\n",
      "weighted avg       0.67      0.66      0.65       689\n",
      "\n"
     ]
    }
   ],
   "source": [
    "from sklearn.metrics import classification_report\n",
    "\n",
    "print(classification_report(df['target'],df['pred1_classes']))"
   ]
  },
  {
   "cell_type": "markdown",
   "metadata": {},
   "source": [
    "### Обучим свою модель для предсказания target.\n",
    "\n",
    "**Задание 10.** Отнормируйте признаки в задаче и обучите логистическую регрессию предсказывать target."
   ]
  },
  {
   "cell_type": "code",
   "execution_count": 49,
   "metadata": {},
   "outputs": [
    {
     "name": "stdout",
     "output_type": "stream",
     "text": [
      "0.8780841799709724\n",
      "0.8670886075949367\n"
     ]
    }
   ],
   "source": [
    "sc = StandardScaler()\n",
    "\n",
    "y = df.target\n",
    "X = scaler.fit_transform(df.iloc[:, :14])\n",
    "\n",
    "\n",
    "lr = LogisticRegression()\n",
    "lr.fit(X, y)\n",
    "print(accuracy_score(y, lr.predict(X)),\n",
    "f1_score(y, lr.predict(X)), sep='\\n')"
   ]
  },
  {
   "cell_type": "markdown",
   "metadata": {},
   "source": [
    "**Задание 11.** Подберите порог для перевода предсказания в классы, чтобы максимизировать:\n",
    "    а) точность \n",
    "    б) полноту \n",
    "    в) f1-score. \n",
    "Лучше ли логистическая регрессия справилась с задачей, чем три готовые модели, предсказания которых мы анализировали выше?"
   ]
  },
  {
   "cell_type": "code",
   "execution_count": 57,
   "metadata": {},
   "outputs": [
    {
     "data": {
      "text/plain": [
       "(0.869, 0.52)"
      ]
     },
     "execution_count": 57,
     "metadata": {},
     "output_type": "execute_result"
    }
   ],
   "source": [
    "#нужны вероятности\n",
    "pred_probs = lr.predict_proba(X)[:, 1]\n",
    "#(a) \n",
    "max_precision(y_true=y, probas=pred_probs, fix_accuracy=0)\n",
    "max_recall(y, probas=pred_probs, fix_accuracy=0)\n",
    "max_f1(y, pred_probs, fix_accuracy=0)"
   ]
  }
 ],
 "metadata": {
  "kernelspec": {
   "display_name": "Python 3",
   "language": "python",
   "name": "python3"
  },
  "language_info": {
   "codemirror_mode": {
    "name": "ipython",
    "version": 3
   },
   "file_extension": ".py",
   "mimetype": "text/x-python",
   "name": "python",
   "nbconvert_exporter": "python",
   "pygments_lexer": "ipython3",
   "version": "3.7.4"
  }
 },
 "nbformat": 4,
 "nbformat_minor": 2
}
