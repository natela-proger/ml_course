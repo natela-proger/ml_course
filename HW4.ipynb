{
 "cells": [
  {
   "cell_type": "markdown",
   "metadata": {},
   "source": [
    "## Домашняя работа 4. \n",
    "\n",
    "#### Выполнила Нателочка Зурабовна Кордзахия БЭК181 \n",
    "\n",
    "Максимальный балл за задание - 10."
   ]
  },
  {
   "cell_type": "markdown",
   "metadata": {},
   "source": [
    "## Данные\n",
    "\n",
    "\n",
    "В этой домашней работе мы будем обучать модели машинного обучения, ставить эксперименты, подбирать гиперпараметры, сравнивать и смешивать модели. Вам предлагается решить задачу бинарной классификации, а именно построить алгоритм, определяющий превысит ли средний заработок человека порог $50k. Каждый объект выборки — человек, для которого известны следующие признаки:\n",
    " - age\n",
    " - workclass\n",
    " - fnlwgt\n",
    " - education\n",
    " - education-num\n",
    " - marital-status\n",
    " - occupation\n",
    " - relationship\n",
    " - race\n",
    " - sex\n",
    " - capital-gain\n",
    " - capital-loss\n",
    " - hours-per-week\n",
    " \n",
    "Более подробно про признаки можно почитать [здесь](http://archive.ics.uci.edu/ml/machine-learning-databases/adult/adult.names). Целевой признак записан в переменной *>50K,<=50K*."
   ]
  },
  {
   "cell_type": "markdown",
   "metadata": {},
   "source": [
    "## Метрика качества\n",
    "\n",
    "В задании мы будем оценивать качество моделей с помощью метрики AUC-ROC."
   ]
  },
  {
   "cell_type": "markdown",
   "metadata": {},
   "source": [
    "## Подбор гиперпараметров модели\n",
    "\n",
    "В задачах машинного обучения следует различать параметры модели и гиперпараметры (структурные параметры). Обычно параметры модели настраиваются в ходе обучения (например, веса в линейной модели или структура решающего дерева), в то время как гиперпараметры задаются заранее (например, регуляризация в линейной модели или максимальная глубина решающего дерева). Каждая модель обычно имеет множество гиперпараметров, и нет универсальных наборов гиперпараметров, оптимально работающих во всех задачах, для каждой задачи нужно подбирать свой набор.\n",
    "\n",
    "Для оптимизации гиперпараметров модели часто используют _перебор по сетке (grid search)_: для каждого гиперпараметра выбирается несколько значений, перебираются все комбинации значений и выбирается комбинация, на которой модель показывает лучшее качество (с точки зрения метрики, которая оптимизируется). Однако в этом случае нужно грамотно оценивать построенную модель, а именно делать разбиение на обучающую и тестовую выборку. Есть несколько схем, как это можно реализовать: \n",
    "\n",
    " - Разбить имеющуюся выборку на обучающую и тестовую. В этом случае сравнение большого числа моделей при переборе параметров приводит к ситуации, когда лучшая на тестовой подвыборке модель не сохраняет свои качества на новых данных. Можно сказать, что происходит _переобучение_ на тестовую выборку.\n",
    " - Для устранения описанной выше проблемы, можно разбить данные на 3 непересекающихся подвыборки: обучение (`train`), валидация (`validation`) и контроль (`test`). Валидационную подвыборку используют для сравнения моделей, а `test` — для окончательной оценки качества и сравнения семейств моделей с подобранными параметрами.\n",
    " - Другой способ сравнения моделей — [кросс-валидация](http://en.wikipedia.org/wiki/Cross-validation_(statistics). Существуют различные схемы кросс-валидации:\n",
    "  - Leave-One-Out\n",
    "  - K-Fold\n",
    "  - Многократное случайное разбиение выборки\n",
    "  \n",
    "Кросс-валидация вычислительно затратна, особенно если вы делаете перебор по сетке с очень большим числом комбинации. С учетом конечности времени на выполнение задания, возникает ряд компромиссов: \n",
    "  - сетку можно делать более разреженной, перебирая меньше значений каждого параметра; однако, надо не забывать, что в таком случае можно пропустить хорошую комбинацию параметров;\n",
    "  - кросс-валидацию можно делать с меньшим числом разбиений или фолдов, но в таком случае оценка качества кросс-валидации становится более шумной и увеличивается риск выбрать неоптимальный набор параметров из-за случайности разбиения;\n",
    "  - параметры можно оптимизировать последовательно (жадно) — один за другим, а не перебирать все комбинации; такая стратегия не всегда приводит к оптимальному набору;\n",
    "  - перебирать не все комбинации параметров, а небольшое число случайно выбранных."
   ]
  },
  {
   "cell_type": "markdown",
   "metadata": {},
   "source": [
    "## Задание"
   ]
  },
  {
   "cell_type": "markdown",
   "metadata": {},
   "source": [
    "Загрузите набор данных *data.adult.csv*. Чтобы лучше понимать, с чем вы работаете/корректно ли вы загрузили данные можно вывести несколько первых строк на экран."
   ]
  },
  {
   "cell_type": "code",
   "execution_count": 126,
   "metadata": {},
   "outputs": [],
   "source": [
    "import numpy as np\n",
    "import pandas as pd\n",
    "import seaborn as sns\n",
    "import matplotlib.pyplot as plt\n",
    "\n",
    "from sklearn.model_selection import KFold\n",
    "from sklearn.tree import DecisionTreeClassifier\n",
    "from sklearn.base import BaseEstimator, ClassifierMixin\n",
    "from sklearn.metrics import roc_auc_score\n",
    "from sklearn.ensemble import RandomForestClassifier, GradientBoostingClassifier \n",
    "from sklearn.neighbors import KNeighborsClassifier\n",
    "from sklearn.linear_model import SGDClassifier\n",
    "from sklearn.preprocessing import StandardScaler, LabelEncoder, OneHotEncoder\n",
    "from sklearn.model_selection import GridSearchCV, cross_val_score, train_test_split, learning_curve\n",
    "\n",
    "%matplotlib inline\n"
   ]
  },
  {
   "cell_type": "code",
   "execution_count": 20,
   "metadata": {},
   "outputs": [
    {
     "data": {
      "text/html": [
       "<div>\n",
       "<style scoped>\n",
       "    .dataframe tbody tr th:only-of-type {\n",
       "        vertical-align: middle;\n",
       "    }\n",
       "\n",
       "    .dataframe tbody tr th {\n",
       "        vertical-align: top;\n",
       "    }\n",
       "\n",
       "    .dataframe thead th {\n",
       "        text-align: right;\n",
       "    }\n",
       "</style>\n",
       "<table border=\"1\" class=\"dataframe\">\n",
       "  <thead>\n",
       "    <tr style=\"text-align: right;\">\n",
       "      <th></th>\n",
       "      <th>age</th>\n",
       "      <th>workclass</th>\n",
       "      <th>fnlwgt</th>\n",
       "      <th>education</th>\n",
       "      <th>education-num</th>\n",
       "      <th>marital-status</th>\n",
       "      <th>occupation</th>\n",
       "      <th>relationship</th>\n",
       "      <th>race</th>\n",
       "      <th>sex</th>\n",
       "      <th>capital-gain</th>\n",
       "      <th>capital-loss</th>\n",
       "      <th>hours-per-week</th>\n",
       "      <th>&gt;50K,&lt;=50K</th>\n",
       "    </tr>\n",
       "  </thead>\n",
       "  <tbody>\n",
       "    <tr>\n",
       "      <td>0</td>\n",
       "      <td>34</td>\n",
       "      <td>Local-gov</td>\n",
       "      <td>284843</td>\n",
       "      <td>HS-grad</td>\n",
       "      <td>9</td>\n",
       "      <td>Never-married</td>\n",
       "      <td>Farming-fishing</td>\n",
       "      <td>Not-in-family</td>\n",
       "      <td>Black</td>\n",
       "      <td>Male</td>\n",
       "      <td>594</td>\n",
       "      <td>0</td>\n",
       "      <td>60</td>\n",
       "      <td>&lt;=50K</td>\n",
       "    </tr>\n",
       "    <tr>\n",
       "      <td>1</td>\n",
       "      <td>40</td>\n",
       "      <td>Private</td>\n",
       "      <td>190290</td>\n",
       "      <td>Some-college</td>\n",
       "      <td>10</td>\n",
       "      <td>Divorced</td>\n",
       "      <td>Sales</td>\n",
       "      <td>Not-in-family</td>\n",
       "      <td>White</td>\n",
       "      <td>Male</td>\n",
       "      <td>0</td>\n",
       "      <td>0</td>\n",
       "      <td>40</td>\n",
       "      <td>&lt;=50K</td>\n",
       "    </tr>\n",
       "    <tr>\n",
       "      <td>2</td>\n",
       "      <td>36</td>\n",
       "      <td>Local-gov</td>\n",
       "      <td>177858</td>\n",
       "      <td>Bachelors</td>\n",
       "      <td>13</td>\n",
       "      <td>Married-civ-spouse</td>\n",
       "      <td>Prof-specialty</td>\n",
       "      <td>Own-child</td>\n",
       "      <td>White</td>\n",
       "      <td>Male</td>\n",
       "      <td>0</td>\n",
       "      <td>0</td>\n",
       "      <td>40</td>\n",
       "      <td>&lt;=50K</td>\n",
       "    </tr>\n",
       "    <tr>\n",
       "      <td>3</td>\n",
       "      <td>22</td>\n",
       "      <td>Private</td>\n",
       "      <td>184756</td>\n",
       "      <td>Some-college</td>\n",
       "      <td>10</td>\n",
       "      <td>Never-married</td>\n",
       "      <td>Sales</td>\n",
       "      <td>Own-child</td>\n",
       "      <td>White</td>\n",
       "      <td>Female</td>\n",
       "      <td>0</td>\n",
       "      <td>0</td>\n",
       "      <td>30</td>\n",
       "      <td>&lt;=50K</td>\n",
       "    </tr>\n",
       "    <tr>\n",
       "      <td>4</td>\n",
       "      <td>47</td>\n",
       "      <td>Private</td>\n",
       "      <td>149700</td>\n",
       "      <td>Bachelors</td>\n",
       "      <td>13</td>\n",
       "      <td>Married-civ-spouse</td>\n",
       "      <td>Tech-support</td>\n",
       "      <td>Husband</td>\n",
       "      <td>White</td>\n",
       "      <td>Male</td>\n",
       "      <td>15024</td>\n",
       "      <td>0</td>\n",
       "      <td>40</td>\n",
       "      <td>&gt;50K</td>\n",
       "    </tr>\n",
       "  </tbody>\n",
       "</table>\n",
       "</div>"
      ],
      "text/plain": [
       "   age  workclass  fnlwgt     education  education-num      marital-status  \\\n",
       "0   34  Local-gov  284843       HS-grad              9       Never-married   \n",
       "1   40    Private  190290  Some-college             10            Divorced   \n",
       "2   36  Local-gov  177858     Bachelors             13  Married-civ-spouse   \n",
       "3   22    Private  184756  Some-college             10       Never-married   \n",
       "4   47    Private  149700     Bachelors             13  Married-civ-spouse   \n",
       "\n",
       "        occupation   relationship   race     sex  capital-gain  capital-loss  \\\n",
       "0  Farming-fishing  Not-in-family  Black    Male           594             0   \n",
       "1            Sales  Not-in-family  White    Male             0             0   \n",
       "2   Prof-specialty      Own-child  White    Male             0             0   \n",
       "3            Sales      Own-child  White  Female             0             0   \n",
       "4     Tech-support        Husband  White    Male         15024             0   \n",
       "\n",
       "   hours-per-week >50K,<=50K  \n",
       "0              60      <=50K  \n",
       "1              40      <=50K  \n",
       "2              40      <=50K  \n",
       "3              30      <=50K  \n",
       "4              40       >50K  "
      ]
     },
     "execution_count": 20,
     "metadata": {},
     "output_type": "execute_result"
    }
   ],
   "source": [
    "df = pd.read_csv('data.adult.csv')\n",
    "df.head()"
   ]
  },
  {
   "cell_type": "markdown",
   "metadata": {},
   "source": [
    "Иногда в данных встречаются пропуски. Как задаются пропуски обычно либо прописывается в описании к данным, либо просто на месте пропуска после чтения данных оказывается значение numpy.nan. Более подробно о работе с пропусками в Pandas можно прочитать например [здесь](http://pandas.pydata.org/pandas-docs/stable/missing_data.html). \n",
    "\n",
    "В данном датасете пропущенные значения обозначены как \"?\". \n",
    "\n",
    "**(0.5 балла)** Найдите все признаки, имеющие пропущенные значения. Удалите из выборки все объекты с пропусками."
   ]
  },
  {
   "cell_type": "code",
   "execution_count": 21,
   "metadata": {},
   "outputs": [],
   "source": [
    "df = df.replace('?', np.nan)"
   ]
  },
  {
   "cell_type": "code",
   "execution_count": 22,
   "metadata": {},
   "outputs": [
    {
     "data": {
      "text/plain": [
       "age                 0\n",
       "workclass         929\n",
       "fnlwgt              0\n",
       "education           0\n",
       "education-num       0\n",
       "marital-status      0\n",
       "occupation        933\n",
       "relationship        0\n",
       "race                0\n",
       "sex                 0\n",
       "capital-gain        0\n",
       "capital-loss        0\n",
       "hours-per-week      0\n",
       ">50K,<=50K          0\n",
       "dtype: int64"
      ]
     },
     "execution_count": 22,
     "metadata": {},
     "output_type": "execute_result"
    }
   ],
   "source": [
    "df.isnull().sum()"
   ]
  },
  {
   "cell_type": "code",
   "execution_count": 23,
   "metadata": {},
   "outputs": [
    {
     "data": {
      "text/plain": [
       "(16280, 14)"
      ]
     },
     "execution_count": 23,
     "metadata": {},
     "output_type": "execute_result"
    }
   ],
   "source": [
    "df.shape"
   ]
  },
  {
   "cell_type": "code",
   "execution_count": 24,
   "metadata": {},
   "outputs": [
    {
     "data": {
      "text/plain": [
       "(15347, 14)"
      ]
     },
     "execution_count": 24,
     "metadata": {},
     "output_type": "execute_result"
    }
   ],
   "source": [
    "df.dropna(inplace = True)\n",
    "df.shape"
   ]
  },
  {
   "cell_type": "code",
   "execution_count": 25,
   "metadata": {},
   "outputs": [
    {
     "data": {
      "text/plain": [
       "age               0\n",
       "workclass         0\n",
       "fnlwgt            0\n",
       "education         0\n",
       "education-num     0\n",
       "marital-status    0\n",
       "occupation        0\n",
       "relationship      0\n",
       "race              0\n",
       "sex               0\n",
       "capital-gain      0\n",
       "capital-loss      0\n",
       "hours-per-week    0\n",
       ">50K,<=50K        0\n",
       "dtype: int64"
      ]
     },
     "execution_count": 25,
     "metadata": {},
     "output_type": "execute_result"
    }
   ],
   "source": [
    "df.isnull().sum()"
   ]
  },
  {
   "cell_type": "markdown",
   "metadata": {},
   "source": [
    "Гууууууд. Хочу индексы почистить потому что я чистюля"
   ]
  },
  {
   "cell_type": "code",
   "execution_count": 26,
   "metadata": {},
   "outputs": [
    {
     "data": {
      "text/html": [
       "<div>\n",
       "<style scoped>\n",
       "    .dataframe tbody tr th:only-of-type {\n",
       "        vertical-align: middle;\n",
       "    }\n",
       "\n",
       "    .dataframe tbody tr th {\n",
       "        vertical-align: top;\n",
       "    }\n",
       "\n",
       "    .dataframe thead th {\n",
       "        text-align: right;\n",
       "    }\n",
       "</style>\n",
       "<table border=\"1\" class=\"dataframe\">\n",
       "  <thead>\n",
       "    <tr style=\"text-align: right;\">\n",
       "      <th></th>\n",
       "      <th>age</th>\n",
       "      <th>workclass</th>\n",
       "      <th>fnlwgt</th>\n",
       "      <th>education</th>\n",
       "      <th>education-num</th>\n",
       "      <th>marital-status</th>\n",
       "      <th>occupation</th>\n",
       "      <th>relationship</th>\n",
       "      <th>race</th>\n",
       "      <th>sex</th>\n",
       "      <th>capital-gain</th>\n",
       "      <th>capital-loss</th>\n",
       "      <th>hours-per-week</th>\n",
       "      <th>&gt;50K,&lt;=50K</th>\n",
       "    </tr>\n",
       "  </thead>\n",
       "  <tbody>\n",
       "    <tr>\n",
       "      <td>0</td>\n",
       "      <td>34</td>\n",
       "      <td>Local-gov</td>\n",
       "      <td>284843</td>\n",
       "      <td>HS-grad</td>\n",
       "      <td>9</td>\n",
       "      <td>Never-married</td>\n",
       "      <td>Farming-fishing</td>\n",
       "      <td>Not-in-family</td>\n",
       "      <td>Black</td>\n",
       "      <td>Male</td>\n",
       "      <td>594</td>\n",
       "      <td>0</td>\n",
       "      <td>60</td>\n",
       "      <td>&lt;=50K</td>\n",
       "    </tr>\n",
       "    <tr>\n",
       "      <td>1</td>\n",
       "      <td>40</td>\n",
       "      <td>Private</td>\n",
       "      <td>190290</td>\n",
       "      <td>Some-college</td>\n",
       "      <td>10</td>\n",
       "      <td>Divorced</td>\n",
       "      <td>Sales</td>\n",
       "      <td>Not-in-family</td>\n",
       "      <td>White</td>\n",
       "      <td>Male</td>\n",
       "      <td>0</td>\n",
       "      <td>0</td>\n",
       "      <td>40</td>\n",
       "      <td>&lt;=50K</td>\n",
       "    </tr>\n",
       "    <tr>\n",
       "      <td>2</td>\n",
       "      <td>36</td>\n",
       "      <td>Local-gov</td>\n",
       "      <td>177858</td>\n",
       "      <td>Bachelors</td>\n",
       "      <td>13</td>\n",
       "      <td>Married-civ-spouse</td>\n",
       "      <td>Prof-specialty</td>\n",
       "      <td>Own-child</td>\n",
       "      <td>White</td>\n",
       "      <td>Male</td>\n",
       "      <td>0</td>\n",
       "      <td>0</td>\n",
       "      <td>40</td>\n",
       "      <td>&lt;=50K</td>\n",
       "    </tr>\n",
       "    <tr>\n",
       "      <td>3</td>\n",
       "      <td>22</td>\n",
       "      <td>Private</td>\n",
       "      <td>184756</td>\n",
       "      <td>Some-college</td>\n",
       "      <td>10</td>\n",
       "      <td>Never-married</td>\n",
       "      <td>Sales</td>\n",
       "      <td>Own-child</td>\n",
       "      <td>White</td>\n",
       "      <td>Female</td>\n",
       "      <td>0</td>\n",
       "      <td>0</td>\n",
       "      <td>30</td>\n",
       "      <td>&lt;=50K</td>\n",
       "    </tr>\n",
       "    <tr>\n",
       "      <td>4</td>\n",
       "      <td>47</td>\n",
       "      <td>Private</td>\n",
       "      <td>149700</td>\n",
       "      <td>Bachelors</td>\n",
       "      <td>13</td>\n",
       "      <td>Married-civ-spouse</td>\n",
       "      <td>Tech-support</td>\n",
       "      <td>Husband</td>\n",
       "      <td>White</td>\n",
       "      <td>Male</td>\n",
       "      <td>15024</td>\n",
       "      <td>0</td>\n",
       "      <td>40</td>\n",
       "      <td>&gt;50K</td>\n",
       "    </tr>\n",
       "  </tbody>\n",
       "</table>\n",
       "</div>"
      ],
      "text/plain": [
       "   age  workclass  fnlwgt     education  education-num      marital-status  \\\n",
       "0   34  Local-gov  284843       HS-grad              9       Never-married   \n",
       "1   40    Private  190290  Some-college             10            Divorced   \n",
       "2   36  Local-gov  177858     Bachelors             13  Married-civ-spouse   \n",
       "3   22    Private  184756  Some-college             10       Never-married   \n",
       "4   47    Private  149700     Bachelors             13  Married-civ-spouse   \n",
       "\n",
       "        occupation   relationship   race     sex  capital-gain  capital-loss  \\\n",
       "0  Farming-fishing  Not-in-family  Black    Male           594             0   \n",
       "1            Sales  Not-in-family  White    Male             0             0   \n",
       "2   Prof-specialty      Own-child  White    Male             0             0   \n",
       "3            Sales      Own-child  White  Female             0             0   \n",
       "4     Tech-support        Husband  White    Male         15024             0   \n",
       "\n",
       "   hours-per-week >50K,<=50K  \n",
       "0              60      <=50K  \n",
       "1              40      <=50K  \n",
       "2              40      <=50K  \n",
       "3              30      <=50K  \n",
       "4              40       >50K  "
      ]
     },
     "execution_count": 26,
     "metadata": {},
     "output_type": "execute_result"
    }
   ],
   "source": [
    "df.reset_index(inplace = True)\n",
    "df.drop(['index'],inplace = True, axis = 1)\n",
    "df.head()"
   ]
  },
  {
   "cell_type": "markdown",
   "metadata": {},
   "source": [
    "Обычно после загрузки датасета всегда необходима его некоторая предобработка. В данном случае она будет заключаться в следующем: \n",
    "\n",
    " - Выделите целевую переменную в отдельную переменную, удалите ее из датасета и преобразуйте к бинарному формату.\n",
    " - Обратите внимание, что не все признаки являются вещественными. В начале мы будем работать только с вещественными признаками. Выделите их отдельно."
   ]
  },
  {
   "cell_type": "code",
   "execution_count": 29,
   "metadata": {},
   "outputs": [
    {
     "name": "stdout",
     "output_type": "stream",
     "text": [
      "categorical_columns: ['workclass', 'education', 'marital-status', 'occupation', 'relationship', 'race', 'sex', '>50K,<=50K']\n",
      "numerical_columns: ['age', 'fnlwgt', 'education-num', 'capital-gain', 'capital-loss', 'hours-per-week']\n"
     ]
    }
   ],
   "source": [
    "cat_columns = [c for c in df.columns if df[c].dtype.name == 'object']\n",
    "num_columns = [c for c in df.columns if df[c].dtype.name != 'object']\n",
    "\n",
    "print('categorical_columns:', cat_columns)\n",
    "print('numerical_columns:', num_columns)"
   ]
  },
  {
   "cell_type": "code",
   "execution_count": 32,
   "metadata": {},
   "outputs": [],
   "source": [
    "y = df['>50K,<=50K'].map(lambda x: 0 if x == '<=50K' else 1)\n",
    "X = df.drop('>50K,<=50K', axis=1)\n",
    "X_num = X[num_columns]"
   ]
  },
  {
   "cell_type": "markdown",
   "metadata": {},
   "source": [
    "## Обучение классификаторов на вещественных признаках\n",
    "\n",
    "В данном разделе необходимо будет работать только с вещественными признаками и целевой переменной.\n",
    "\n",
    "В начале посмотрим как работает подбор параметров по сетке и как влияет на качество разбиение выборки. Сейчас и далее будем рассматривать 5 алгоритмов:\n",
    " - [kNN](http://scikit-learn.org/stable/modules/generated/sklearn.neighbors.KNeighborsClassifier.html)\n",
    " - [DecisonTree](http://scikit-learn.org/stable/modules/generated/sklearn.tree.DecisionTreeClassifier.html#sklearn.tree.DecisionTreeClassifier)\n",
    " - [SGD Linear Classifier](http://scikit-learn.org/stable/modules/generated/sklearn.linear_model.SGDClassifier.html)\n",
    " - [RandomForest](http://scikit-learn.org/stable/modules/generated/sklearn.ensemble.RandomForestClassifier.html)\n",
    " - [GradientBoosting](https://scikit-learn.org/stable/modules/generated/sklearn.ensemble.GradientBoostingClassifier.html)\n",
    "\n",
    "Для начала у первых трёх алгоритмов выберем один гиперпараметр, который будем оптимизировать:\n",
    " - kNN — число соседей (*n_neighbors*)\n",
    " - DecisonTree — глубина дерева (*max_depth*)\n",
    " - SGD Linear Classifier — оптимизируемая функция (*loss*)\n",
    " \n",
    "Остальные параметры оставляйте в значениях по умолчанию. Для подбора гиперпараметров воспользуйтесь перебором по сетке, который реализован в классе [GridSearchCV](https://scikit-learn.org/stable/modules/generated/sklearn.model_selection.GridSearchCV.html). В качестве схемы кросс-валидации используйте 5-fold cv, которую можно задать с помощью класса [KFold](https://scikit-learn.org/stable/modules/generated/sklearn.model_selection.KFold.html).\n",
    "\n",
    "**(1 балл)** Для каждого из первых трех алгоритмов подберите оптимальные значения указанных гиперпараметров. Постройте график среднего качества по кросс-валидации алгоритма при заданном значении гиперпараметра, на котором также отобразите доверительный интервал [m-std, m+std]."
   ]
  },
  {
   "cell_type": "code",
   "execution_count": 87,
   "metadata": {},
   "outputs": [],
   "source": [
    "def plot_params_score(optimizer, title):\n",
    "    res = optimizer.cv_results_\n",
    "    param_name = list(res['params'][0].keys())[0]\n",
    "    params = list(map(lambda x: x[param_name], res['params']))\n",
    "\n",
    "    means = np.zeros(len(params))\n",
    "    stds = np.zeros(len(params))\n",
    "    for i, param in enumerate(params):\n",
    "        scores = []\n",
    "        for split_number in range(5):\n",
    "            scores.append(res[f'split{split_number}_test_score'][i])\n",
    "        means[i] = np.mean(scores)\n",
    "        stds[i] = np.std(scores)\n",
    "\n",
    "    plt.figure(figsize=(10, 7))\n",
    "    plt.errorbar(range(len(params)), means, xerr=0.5, yerr=2*stds, linestyle='', fmt='o')\n",
    "    plt.xticks(range(len(params)), params, rotation='vertical')\n",
    "    plt.title(title, fontsize=14)\n",
    "    plt.xlabel(param_name)\n",
    "    plt.ylabel('roc_auc')\n",
    "    plt.show()"
   ]
  },
  {
   "cell_type": "code",
   "execution_count": 88,
   "metadata": {},
   "outputs": [
    {
     "data": {
      "image/png": "[encoded data removed]",
      "text/plain": [
       "<Figure size 720x504 with 1 Axes>"
      ]
     },
     "metadata": {
      "needs_background": "light"
     },
     "output_type": "display_data"
    },
    {
     "data": {
      "text/plain": [
       "(KNeighborsClassifier(algorithm='auto', leaf_size=30, metric='minkowski',\n",
       "                      metric_params=None, n_jobs=None, n_neighbors=4, p=2,\n",
       "                      weights='uniform'), 0.6407160528708574)"
      ]
     },
     "execution_count": 88,
     "metadata": {},
     "output_type": "execute_result"
    }
   ],
   "source": [
    "grid = {'n_neighbors': list(range(1, 11))}\n",
    "optimizer = GridSearchCV(KNeighborsClassifier(), grid, cv=5, return_train_score=True, scoring='roc_auc')\n",
    "optimizer.fit(X_num, y)\n",
    "plot_params_score(optimizer, title = 'kNN CV-results')\n",
    "optimizer.best_estimator_, optimizer.best_score_"
   ]
  },
  {
   "cell_type": "code",
   "execution_count": 89,
   "metadata": {},
   "outputs": [
    {
     "data": {
      "image/png": "[encoded data removed]",
      "text/plain": [
       "<Figure size 720x504 with 1 Axes>"
      ]
     },
     "metadata": {
      "needs_background": "light"
     },
     "output_type": "display_data"
    },
    {
     "data": {
      "text/plain": [
       "(DecisionTreeClassifier(class_weight=None, criterion='gini', max_depth=7,\n",
       "                        max_features=None, max_leaf_nodes=None,\n",
       "                        min_impurity_decrease=0.0, min_impurity_split=None,\n",
       "                        min_samples_leaf=1, min_samples_split=2,\n",
       "                        min_weight_fraction_leaf=0.0, presort=False,\n",
       "                        random_state=42, splitter='best'), 0.8414346274576933)"
      ]
     },
     "execution_count": 89,
     "metadata": {},
     "output_type": "execute_result"
    }
   ],
   "source": [
    "grid = {'max_depth': list(range(3, 40, 2))}\n",
    "optimizer = GridSearchCV(DecisionTreeClassifier(random_state=42), grid, cv=5, return_train_score=True, scoring='roc_auc')\n",
    "optimizer.fit(X_num, y)\n",
    "optimizer.best_estimator_\n",
    "plot_params_score(optimizer, title = 'Decision Tree CV-results')\n",
    "optimizer.best_estimator_, optimizer.best_score_"
   ]
  },
  {
   "cell_type": "code",
   "execution_count": 90,
   "metadata": {},
   "outputs": [
    {
     "data": {
      "image/png": "[encoded data removed]",
      "text/plain": [
       "<Figure size 720x504 with 1 Axes>"
      ]
     },
     "metadata": {
      "needs_background": "light"
     },
     "output_type": "display_data"
    },
    {
     "data": {
      "text/plain": [
       "(SGDClassifier(alpha=0.0001, average=False, class_weight=None,\n",
       "               early_stopping=False, epsilon=0.1, eta0=0.0, fit_intercept=True,\n",
       "               l1_ratio=0.15, learning_rate='optimal', loss='log', max_iter=5,\n",
       "               n_iter_no_change=5, n_jobs=None, penalty='l2', power_t=0.5,\n",
       "               random_state=42, shuffle=True, tol=None, validation_fraction=0.1,\n",
       "               verbose=0, warm_start=False), 0.5845279280987187)"
      ]
     },
     "execution_count": 90,
     "metadata": {},
     "output_type": "execute_result"
    }
   ],
   "source": [
    "grid = {'loss': ['hinge', 'log', 'modified_huber', 'squared_hinge', 'perceptron']}\n",
    "optimizer = GridSearchCV(SGDClassifier(random_state=42, max_iter=5, tol=None), grid, cv=5,\n",
    "                         return_train_score=True, scoring='roc_auc')\n",
    "optimizer.fit(X_num, y)\n",
    "plot_params_score(optimizer, title='SGDClassifier CV-results')\n",
    "optimizer.best_estimator_, optimizer.best_score_"
   ]
  },
  {
   "cell_type": "markdown",
   "metadata": {},
   "source": [
    "Что вы можете сказать о получившихся графиках?\n",
    "\n",
    "Decision Tree покакзал себя лучше всего. Наибольшее среднее значение качества получилось у дерева решений с max_depth=7, наибольший доверительный интервал - у SGDClassifier'а с loss='squared_hinge'\n",
    "\n",
    "* С ростом k в алгоритме \"ближайших соседей\" после оптимального k=4 качество модели постепенно снижается.\n",
    "\n",
    "* Если говорить про Decision Tree, то качество модели логично убывает при слишком больших значениях max_depth, так как вместе с тем растет и степень переобучения модели\n",
    "\n",
    "* Модель с loss вида 'log' показывает не только наиболее высокие результаты по среднему значению ROC-AUC на кросс-валидации, но и имеет меньшую дисперсию этой метрики, т.е. обладает более стабильным качеством"
   ]
  },
  {
   "cell_type": "markdown",
   "metadata": {},
   "source": [
    "**(0.5 балла)** Также подберём число деревьев (*n_estimators*) в алгоритме RandomForest. Как известно, в общем случае Random Forest не переобучается с увеличением количества деревьев, так что при увеличении этого гиперпараметра его качество не будет становиться хуже. Поэтому подберите такое количество деревьев, при котором качество на кросс-валидации стабилизируется. Обратите внимание, что для проведения этого эксперимента не нужно с нуля обучать много случайных лесов с различными количествами деревьев. Обучите один случайный лес с максимальным интересным количеством деревьев, а затем рассмотрите подмножества разных размеров, состоящие из деревьев построенного леса (поле [*estimators_*](http://scikit-learn.org/stable/modules/generated/sklearn.ensemble.RandomForestClassifier.html)). В дальнейших экспериментах используйте это количество деревьев."
   ]
  },
  {
   "cell_type": "code",
   "execution_count": 58,
   "metadata": {},
   "outputs": [],
   "source": [
    "from sklearn.metrics import mean_squared_error as mse\n",
    "\n",
    "def get_scores_list(X, y, clf, score, print_train=True):\n",
    "    predictions = list()\n",
    "    scores = list()\n",
    "    for i, tree in enumerate(clf.estimators_):\n",
    "        predictions.append(tree.predict(X))\n",
    "        rf_prediction = np.mean(predictions, axis=0)\n",
    "        scores.append(score(y, rf_prediction))\n",
    "    if print_train:\n",
    "        print('Last score', scores[-1])\n",
    "    return scores\n",
    "\n",
    "def plot_score_graph(clf, X_train, X_test, y_train, y_test, score, print_train=True):\n",
    "    clf.fit(X_train, y_train)\n",
    "    train_mses = get_scores_list(X_train, y_train, clf, score, False)\n",
    "    test_mses = get_scores_list(X_test, y_test, clf, score)\n",
    "    if print_train:\n",
    "        plt.plot(train_mses, label='train set score')\n",
    "    plt.plot(test_mses, label='test set score')\n",
    "    plt.xlabel('n_estimators')\n",
    "    plt.ylabel('score')\n",
    "    plt.legend()"
   ]
  },
  {
   "cell_type": "code",
   "execution_count": 60,
   "metadata": {},
   "outputs": [
    {
     "name": "stdout",
     "output_type": "stream",
     "text": [
      "Last score 0.8161539417332335\n"
     ]
    },
    {
     "data": {
      "image/png": "[encoded data removed]",
      "text/plain": [
       "<Figure size 432x288 with 1 Axes>"
      ]
     },
     "metadata": {
      "needs_background": "light"
     },
     "output_type": "display_data"
    }
   ],
   "source": [
    "X_train, X_test, y_train, y_test = train_test_split(X_num, y, test_size=0.8, random_state=1543)\n",
    "plot_score_graph(RandomForestClassifier(n_estimators=100, n_jobs=-1, random_state=42),\n",
    "                 X_train, X_test, y_train, y_test, roc_auc_score)"
   ]
  },
  {
   "cell_type": "markdown",
   "metadata": {},
   "source": [
    "**(0.5 балла)** Подберём число деревьев (*n_estimators*) в алгоритме GradientBoosting. Мы знаем, что ошибка бустинга на тестовых данных, как правило, имеет U-образную форму, то есть сначала уменьшается, а при достижении некоторого числа деревьев начинает расти. Нарисуйте график ошибки в зависимости от числа деревьев. Подберите n_estimators, соответствующий минимуму ошибки."
   ]
  },
  {
   "cell_type": "code",
   "execution_count": 136,
   "metadata": {},
   "outputs": [
    {
     "name": "stdout",
     "output_type": "stream",
     "text": [
      "Collecting catboost\n",
      "  Downloading catboost-1.0.3-cp37-none-macosx_10_6_intel.macosx_10_9_intel.macosx_10_9_x86_64.macosx_10_10_intel.macosx_10_10_x86_64.whl (12.8 MB)\n",
      "\u001b[K     |████████████████████████████████| 12.8 MB 2.4 MB/s eta 0:00:01\n",
      "\u001b[?25hRequirement already satisfied: plotly in /opt/anaconda3/lib/python3.7/site-packages (from catboost) (4.7.1)\n",
      "Requirement already satisfied: numpy>=1.16.0 in /opt/anaconda3/lib/python3.7/site-packages (from catboost) (1.17.2)\n",
      "Requirement already satisfied: scipy in /opt/anaconda3/lib/python3.7/site-packages (from catboost) (1.3.1)\n",
      "Requirement already satisfied: pandas>=0.24.0 in /opt/anaconda3/lib/python3.7/site-packages (from catboost) (0.25.1)\n",
      "Requirement already satisfied: matplotlib in /opt/anaconda3/lib/python3.7/site-packages (from catboost) (3.1.2)\n",
      "Requirement already satisfied: six in /opt/anaconda3/lib/python3.7/site-packages (from catboost) (1.12.0)\n",
      "Collecting graphviz\n",
      "  Downloading graphviz-0.18.2-py3-none-any.whl (39 kB)\n",
      "Requirement already satisfied: cycler>=0.10 in /opt/anaconda3/lib/python3.7/site-packages (from matplotlib->catboost) (0.10.0)\n",
      "Requirement already satisfied: numpy>=1.16.0 in /opt/anaconda3/lib/python3.7/site-packages (from catboost) (1.17.2)\n",
      "Requirement already satisfied: pyparsing!=2.0.4,!=2.1.2,!=2.1.6,>=2.0.1 in /opt/anaconda3/lib/python3.7/site-packages (from matplotlib->catboost) (2.4.2)\n",
      "Requirement already satisfied: kiwisolver>=1.0.1 in /opt/anaconda3/lib/python3.7/site-packages (from matplotlib->catboost) (1.1.0)\n",
      "Requirement already satisfied: python-dateutil>=2.1 in /opt/anaconda3/lib/python3.7/site-packages (from matplotlib->catboost) (2.8.0)\n",
      "Requirement already satisfied: six in /opt/anaconda3/lib/python3.7/site-packages (from catboost) (1.12.0)\n",
      "Requirement already satisfied: setuptools in /opt/anaconda3/lib/python3.7/site-packages (from kiwisolver>=1.0.1->matplotlib->catboost) (41.4.0)\n",
      "Requirement already satisfied: pytz>=2017.2 in /opt/anaconda3/lib/python3.7/site-packages (from pandas>=0.24.0->catboost) (2019.3)\n",
      "Requirement already satisfied: numpy>=1.16.0 in /opt/anaconda3/lib/python3.7/site-packages (from catboost) (1.17.2)\n",
      "Requirement already satisfied: python-dateutil>=2.1 in /opt/anaconda3/lib/python3.7/site-packages (from matplotlib->catboost) (2.8.0)\n",
      "Requirement already satisfied: six in /opt/anaconda3/lib/python3.7/site-packages (from catboost) (1.12.0)\n",
      "Requirement already satisfied: retrying>=1.3.3 in /opt/anaconda3/lib/python3.7/site-packages (from plotly->catboost) (1.3.3)\n",
      "Requirement already satisfied: six in /opt/anaconda3/lib/python3.7/site-packages (from catboost) (1.12.0)\n",
      "Requirement already satisfied: six in /opt/anaconda3/lib/python3.7/site-packages (from catboost) (1.12.0)\n",
      "Installing collected packages: graphviz, catboost\n",
      "Successfully installed catboost-1.0.3 graphviz-0.18.2\n",
      "\u001b[33mWARNING: You are using pip version 20.3.1; however, version 21.3.1 is available.\n",
      "You should consider upgrading via the '/opt/anaconda3/bin/python -m pip install --upgrade pip' command.\u001b[0m\n"
     ]
    }
   ],
   "source": [
    "!pip install catboost"
   ]
  },
  {
   "cell_type": "code",
   "execution_count": 137,
   "metadata": {},
   "outputs": [],
   "source": [
    "X_train, X_test, y_train, y_test = train_test_split(X_num, y, test_size=0.8, random_state=1543)"
   ]
  },
  {
   "cell_type": "code",
   "execution_count": 144,
   "metadata": {
    "scrolled": true
   },
   "outputs": [
    {
     "name": "stderr",
     "output_type": "stream",
     "text": [
      "\n",
      "  0%|          | 0/26 [00:00<?, ?it/s]\u001b[A\n",
      "  8%|▊         | 2/26 [00:00<00:02, 11.85it/s]\u001b[A\n",
      " 12%|█▏        | 3/26 [00:00<00:02, 11.12it/s]\u001b[A\n",
      " 15%|█▌        | 4/26 [00:00<00:02, 10.44it/s]\u001b[A\n",
      " 19%|█▉        | 5/26 [00:00<00:02,  9.73it/s]\u001b[A\n",
      " 23%|██▎       | 6/26 [00:00<00:02,  8.95it/s]\u001b[A\n",
      " 27%|██▋       | 7/26 [00:00<00:02,  8.22it/s]\u001b[A\n",
      " 31%|███       | 8/26 [00:00<00:02,  7.57it/s]\u001b[A\n",
      " 35%|███▍      | 9/26 [00:01<00:02,  6.89it/s]\u001b[A\n",
      " 38%|███▊      | 10/26 [00:01<00:02,  6.41it/s]\u001b[A\n",
      " 42%|████▏     | 11/26 [00:01<00:02,  6.00it/s]\u001b[A\n",
      " 46%|████▌     | 12/26 [00:01<00:02,  5.62it/s]\u001b[A\n",
      " 50%|█████     | 13/26 [00:01<00:02,  5.27it/s]\u001b[A\n",
      " 54%|█████▍    | 14/26 [00:02<00:02,  4.93it/s]\u001b[A\n",
      " 58%|█████▊    | 15/26 [00:02<00:02,  4.57it/s]\u001b[A\n",
      " 62%|██████▏   | 16/26 [00:02<00:02,  4.38it/s]\u001b[A\n",
      " 65%|██████▌   | 17/26 [00:02<00:02,  4.19it/s]\u001b[A\n",
      " 69%|██████▉   | 18/26 [00:03<00:02,  4.00it/s]\u001b[A\n",
      " 73%|███████▎  | 19/26 [00:03<00:01,  3.82it/s]\u001b[A\n",
      " 77%|███████▋  | 20/26 [00:03<00:01,  3.65it/s]\u001b[A\n",
      " 81%|████████  | 21/26 [00:04<00:01,  3.50it/s]\u001b[A\n",
      " 85%|████████▍ | 22/26 [00:04<00:01,  3.31it/s]\u001b[A\n",
      " 88%|████████▊ | 23/26 [00:04<00:00,  3.19it/s]\u001b[A\n",
      " 92%|█████████▏| 24/26 [00:05<00:00,  3.07it/s]\u001b[A\n",
      " 96%|█████████▌| 25/26 [00:05<00:00,  2.91it/s]\u001b[A\n",
      "100%|██████████| 26/26 [00:05<00:00,  4.39it/s]\u001b[A\n"
     ]
    },
    {
     "data": {
      "text/plain": [
       "Text(0, 0.5, 'error')"
      ]
     },
     "execution_count": 144,
     "metadata": {},
     "output_type": "execute_result"
    },
    {
     "data": {
      "image/png": "[encoded data removed]",
      "text/plain": [
       "<Figure size 432x288 with 1 Axes>"
      ]
     },
     "metadata": {
      "needs_background": "light"
     },
     "output_type": "display_data"
    }
   ],
   "source": [
    "from sklearn.ensemble import GradientBoostingClassifier\n",
    "from tqdm import tqdm\n",
    "from sklearn.metrics import accuracy_score\n",
    "\n",
    "n_estimators = np.arange(40, 300, 10)\n",
    "\n",
    "error_scores = []\n",
    "auc_scores = []\n",
    "for n in tqdm(n_estimators):\n",
    "    gradboost = GradientBoostingClassifier(learning_rate=0.1, n_estimators=n)\n",
    "    gradboost.fit(X_train, y_train)\n",
    "    y_predicted = gradboost.predict(X_test)\n",
    "    error_scores.append(1 - accuracy_score(y_test, y_predicted))\n",
    "\n",
    "plt.plot(n_estimators, error_scores)\n",
    "plt.xlabel('n_estimators', fontsize=14)\n",
    "plt.ylabel('error', fontsize=14)"
   ]
  },
  {
   "cell_type": "code",
   "execution_count": 145,
   "metadata": {},
   "outputs": [
    {
     "name": "stdout",
     "output_type": "stream",
     "text": [
      "Оптимальное количество деревьев: 110\n",
      "Значение accuracy: 0.8266004235217462\n",
      "Доля класса 0: 0.7432723007753959\n"
     ]
    }
   ],
   "source": [
    "n_best = n_estimators[np.array(error_scores).argmin()]\n",
    "\n",
    "print(f'Оптимальное количество деревьев: {n_best}')\n",
    "print(f'Значение accuracy: {1 - np.array(error_scores).min()}')\n",
    "print(f'Доля класса 0: {1 - y.mean()}')"
   ]
  },
  {
   "cell_type": "markdown",
   "metadata": {},
   "source": [
    "При обучении алгоритмов стоит обращать внимание не только на качество, но и каким образом они работают с данными. В этой задаче получилось так, что некоторые из используемых алгоритмов чувствительны к масштабу признаков. Чтобы убедиться, что это как-то могло повлиять на качество давайте посмотрим на сами признаки.\n",
    "\n",
    "**(0.5 балла)** Постройте гистограммы для признаков *age*, *fnlwgt*, *capital-gain*. Глядя на получившиеся графики в чем заключается особенность данных? На какие алгоритмы это может повлиять? Может ли масшитабирование повлиять на работу этих алгоритмов?"
   ]
  },
  {
   "cell_type": "code",
   "execution_count": 115,
   "metadata": {},
   "outputs": [
    {
     "data": {
      "text/plain": [
       "Text(0.5, 1.0, 'Capital gain')"
      ]
     },
     "execution_count": 115,
     "metadata": {},
     "output_type": "execute_result"
    },
    {
     "data": {
      "image/png": "[encoded data removed]",
      "text/plain": [
       "<Figure size 1296x360 with 3 Axes>"
      ]
     },
     "metadata": {
      "needs_background": "light"
     },
     "output_type": "display_data"
    }
   ],
   "source": [
    "fig, (ax1, ax2, ax3) = plt.subplots(1, 3, figsize=(18, 5))\n",
    "\n",
    "fig.suptitle('Гистограммы для вещественных признаков')\n",
    "ax1.hist(X_num.age, bins=15)\n",
    "ax1.set_title('Age')\n",
    "ax1.set_ylabel('frequency')\n",
    "ax2.hist(X_num.fnlwgt, bins=20)\n",
    "ax2.set_title('final weight')\n",
    "ax3.hist(X_num['capital-gain'], bins=15)\n",
    "ax3.set_title('Capital gain')\n"
   ]
  },
  {
   "cell_type": "markdown",
   "metadata": {},
   "source": [
    "Масштабирование признаков можно выполнить, например, одним из следующих способов способами:\n",
    " - $x_{new} = \\dfrac{x - \\mu}{\\sigma}$, где $\\mu, \\sigma$ — среднее и стандартное отклонение значения признака по всей выборке (см. функцию [scale](http://scikit-learn.org/stable/modules/generated/sklearn.preprocessing.scale.html))\n",
    " - $x_{new} = \\dfrac{x - x_{min}}{x_{max} - x_{min}}$, где $[x_{min}, x_{max}]$ — минимальный интервал значений признака\n",
    "\n",
    "Похожие схемы масштабирования приведены в классах [StandardScaler](http://scikit-learn.org/stable/modules/generated/sklearn.preprocessing.StandardScaler.html#sklearn.preprocessing.StandardScaler) и [MinMaxScaler](http://scikit-learn.org/stable/modules/generated/sklearn.preprocessing.MinMaxScaler.html#sklearn.preprocessing.MinMaxScaler).\n",
    " \n",
    "**(1 балл)** Масштабируйте все вещественные признаки одним из указанных способов и подберите оптимальные значения гиперпараметров аналогично пункту выше."
   ]
  },
  {
   "cell_type": "code",
   "execution_count": 116,
   "metadata": {},
   "outputs": [],
   "source": [
    "from sklearn.preprocessing import StandardScaler\n",
    "sc = StandardScaler()\n",
    "\n",
    "X_num_sc = sc.fit_transform(X_num)"
   ]
  },
  {
   "cell_type": "code",
   "execution_count": 117,
   "metadata": {},
   "outputs": [
    {
     "data": {
      "text/plain": [
       "array([[-0.3429185 ,  0.90025802, -0.45078777, -0.06559951, -0.21874041,\n",
       "         1.58822305],\n",
       "       [ 0.11476013,  0.01068271, -0.05908582, -0.15043862, -0.21874041,\n",
       "        -0.07417817],\n",
       "       [-0.19035896, -0.10628026,  1.11602004, -0.15043862, -0.21874041,\n",
       "        -0.07417817],\n",
       "       ...,\n",
       "       [-0.8768769 , -0.79685293,  1.11602004, -0.15043862, -0.21874041,\n",
       "        -0.07417817],\n",
       "       [ 1.56407578,  0.74838115, -0.45078777, -0.15043862, -0.21874041,\n",
       "        -0.07417817],\n",
       "       [-0.41919828, -1.22374144,  1.11602004, -0.15043862,  4.47344431,\n",
       "         0.34142214]])"
      ]
     },
     "execution_count": 117,
     "metadata": {},
     "output_type": "execute_result"
    }
   ],
   "source": [
    "X_num_sc"
   ]
  },
  {
   "cell_type": "code",
   "execution_count": 118,
   "metadata": {},
   "outputs": [
    {
     "data": {
      "text/plain": [
       "Text(0.5, 1.0, 'Capital gain')"
      ]
     },
     "execution_count": 118,
     "metadata": {},
     "output_type": "execute_result"
    },
    {
     "data": {
      "image/png": "[encoded data removed]",
      "text/plain": [
       "<Figure size 1296x288 with 3 Axes>"
      ]
     },
     "metadata": {
      "needs_background": "light"
     },
     "output_type": "display_data"
    }
   ],
   "source": [
    "fig, (ax1, ax2, ax3) = plt.subplots(1, 3, figsize=(18, 4))\n",
    "\n",
    "fig.suptitle('Гистограммы для вещественных признаков')\n",
    "ax1.hist(X_num_sc[:, 0], bins=15)\n",
    "ax1.set_title('Age')\n",
    "ax1.set_ylabel('frequency')\n",
    "ax2.hist(X_num_sc[:, 1], bins=20)\n",
    "ax2.set_title('final weight')\n",
    "ax3.hist(X_num_sc[:, 2], bins=15)\n",
    "ax3.set_title('Capital gain')"
   ]
  },
  {
   "cell_type": "code",
   "execution_count": 121,
   "metadata": {},
   "outputs": [
    {
     "data": {
      "image/png": "[encoded data removed]",
      "text/plain": [
       "<Figure size 720x504 with 1 Axes>"
      ]
     },
     "metadata": {
      "needs_background": "light"
     },
     "output_type": "display_data"
    },
    {
     "data": {
      "text/plain": [
       "(KNeighborsClassifier(algorithm='auto', leaf_size=30, metric='minkowski',\n",
       "                      metric_params=None, n_jobs=None, n_neighbors=10, p=2,\n",
       "                      weights='uniform'), 0.8083185448744348)"
      ]
     },
     "execution_count": 121,
     "metadata": {},
     "output_type": "execute_result"
    }
   ],
   "source": [
    "grid = {'n_neighbors': list(range(1, 11))}\n",
    "optimizer = GridSearchCV(KNeighborsClassifier(), grid, cv=5, return_train_score=True, scoring='roc_auc')\n",
    "optimizer.fit(X_num_sc, y)\n",
    "plot_params_score(optimizer, title='kNN CV-results')\n",
    "optimizer.best_estimator_, optimizer.best_score_"
   ]
  },
  {
   "cell_type": "code",
   "execution_count": 122,
   "metadata": {},
   "outputs": [
    {
     "data": {
      "image/png": "[encoded data removed]",
      "text/plain": [
       "<Figure size 720x504 with 1 Axes>"
      ]
     },
     "metadata": {
      "needs_background": "light"
     },
     "output_type": "display_data"
    },
    {
     "data": {
      "text/plain": [
       "(DecisionTreeClassifier(class_weight=None, criterion='gini', max_depth=7,\n",
       "                        max_features=None, max_leaf_nodes=None,\n",
       "                        min_impurity_decrease=0.0, min_impurity_split=None,\n",
       "                        min_samples_leaf=1, min_samples_split=2,\n",
       "                        min_weight_fraction_leaf=0.0, presort=False,\n",
       "                        random_state=42, splitter='best'), 0.8414035871444119)"
      ]
     },
     "execution_count": 122,
     "metadata": {},
     "output_type": "execute_result"
    }
   ],
   "source": [
    "grid = {'max_depth': list(range(3, 40, 2))}\n",
    "optimizer = GridSearchCV(DecisionTreeClassifier(random_state=42), grid, cv=5, return_train_score=True, scoring='roc_auc')\n",
    "optimizer.fit(X_num_sc, y)\n",
    "optimizer.best_estimator_\n",
    "plot_params_score(optimizer, title='Decision Tree CV-results')\n",
    "optimizer.best_estimator_, optimizer.best_score_"
   ]
  },
  {
   "cell_type": "code",
   "execution_count": 155,
   "metadata": {},
   "outputs": [
    {
     "name": "stderr",
     "output_type": "stream",
     "text": [
      "\n",
      "  0%|          | 0/26 [00:00<?, ?it/s]\u001b[A\n",
      "  8%|▊         | 2/26 [00:00<00:01, 12.27it/s]\u001b[A\n",
      " 15%|█▌        | 4/26 [00:00<00:01, 11.62it/s]\u001b[A\n",
      " 19%|█▉        | 5/26 [00:00<00:02, 10.39it/s]\u001b[A\n",
      " 23%|██▎       | 6/26 [00:00<00:02,  9.38it/s]\u001b[A\n",
      " 27%|██▋       | 7/26 [00:00<00:02,  8.52it/s]\u001b[A\n",
      " 31%|███       | 8/26 [00:00<00:02,  7.75it/s]\u001b[A\n",
      " 35%|███▍      | 9/26 [00:01<00:02,  7.03it/s]\u001b[A\n",
      " 38%|███▊      | 10/26 [00:01<00:02,  6.53it/s]\u001b[A\n",
      " 42%|████▏     | 11/26 [00:01<00:02,  6.05it/s]\u001b[A\n",
      " 46%|████▌     | 12/26 [00:01<00:02,  5.68it/s]\u001b[A\n",
      " 50%|█████     | 13/26 [00:01<00:02,  5.29it/s]\u001b[A\n",
      " 54%|█████▍    | 14/26 [00:02<00:02,  4.98it/s]\u001b[A\n",
      " 58%|█████▊    | 15/26 [00:02<00:02,  4.72it/s]\u001b[A\n",
      " 62%|██████▏   | 16/26 [00:02<00:02,  4.40it/s]\u001b[A\n",
      " 65%|██████▌   | 17/26 [00:02<00:02,  4.19it/s]\u001b[A\n",
      " 69%|██████▉   | 18/26 [00:03<00:01,  4.00it/s]\u001b[A\n",
      " 73%|███████▎  | 19/26 [00:03<00:01,  3.83it/s]\u001b[A\n",
      " 77%|███████▋  | 20/26 [00:03<00:01,  3.68it/s]\u001b[A\n",
      " 81%|████████  | 21/26 [00:04<00:01,  3.52it/s]\u001b[A\n",
      " 85%|████████▍ | 22/26 [00:04<00:01,  3.38it/s]\u001b[A\n",
      " 88%|████████▊ | 23/26 [00:04<00:00,  3.12it/s]\u001b[A\n",
      " 92%|█████████▏| 24/26 [00:05<00:00,  2.95it/s]\u001b[A\n",
      " 96%|█████████▌| 25/26 [00:05<00:00,  2.83it/s]\u001b[A\n",
      "100%|██████████| 26/26 [00:05<00:00,  4.40it/s]\u001b[A\n"
     ]
    },
    {
     "data": {
      "text/plain": [
       "Text(0, 0.5, 'error')"
      ]
     },
     "execution_count": 155,
     "metadata": {},
     "output_type": "execute_result"
    },
    {
     "data": {
      "image/png": "[encoded data removed]",
      "text/plain": [
       "<Figure size 432x288 with 1 Axes>"
      ]
     },
     "metadata": {
      "needs_background": "light"
     },
     "output_type": "display_data"
    }
   ],
   "source": [
    "from sklearn.ensemble import GradientBoostingClassifier\n",
    "from tqdm import tqdm\n",
    "from sklearn.metrics import accuracy_score\n",
    "\n",
    "n_estimators = np.arange(40, 300, 10)\n",
    "\n",
    "sc2 = StandardScaler()\n",
    "X_num_train_sc = sc2.fit_transform(X_train)\n",
    "X_num_test_sc = sc2.transform(X_test)\n",
    "\n",
    "error_scores = []\n",
    "\n",
    "for n in tqdm(n_estimators):\n",
    "    gradboost = GradientBoostingClassifier(learning_rate=0.099, n_estimators=n)\n",
    "    gradboost.fit(X_num_train_sc, y_train)\n",
    "    y_predicted = gradboost.predict(X_num_test_sc)\n",
    "    error_scores.append(1 - accuracy_score(y_test, y_predicted))\n",
    "\n",
    "plt.plot(n_estimators, error_scores)\n",
    "plt.xlabel('n_estimators', fontsize=14)\n",
    "plt.ylabel('error', fontsize=14)"
   ]
  },
  {
   "cell_type": "code",
   "execution_count": 156,
   "metadata": {},
   "outputs": [
    {
     "name": "stdout",
     "output_type": "stream",
     "text": [
      "Оптимальное количество деревьев: 210\n",
      "Значение accuracy: 0.827089102459684\n",
      "Доля класса 0: 0.7432723007753959\n"
     ]
    }
   ],
   "source": [
    "# лучшее количество деревьев\n",
    "\n",
    "n_best = n_estimators[np.array(error_scores).argmin()]\n",
    "\n",
    "print(f'Оптимальное количество деревьев: {n_best}')\n",
    "print(f'Значение accuracy: {1 - np.array(error_scores).min()}')\n",
    "print(f'Доля класса 0: {1 - y.mean()}')"
   ]
  },
  {
   "cell_type": "code",
   "execution_count": null,
   "metadata": {},
   "outputs": [],
   "source": [
    "X_train, X_test, y_train, y_test = train_test_split(X_num_sc, y, test_size=0.8, random_state=1543)\n",
    "plot_score_graph(RandomForestClassifier(n_estimators=100, n_jobs=-1, random_state=42),\n",
    "                 X_train, X_test, y_train, y_test, roc_auc_score)"
   ]
  },
  {
   "cell_type": "markdown",
   "metadata": {},
   "source": [
    "Изменилось ли качество у некоторых алгоритмов?\n",
    "\n",
    "Изменилось только качество kNN модели от масштабирования, собственно так и думали хех"
   ]
  },
  {
   "cell_type": "markdown",
   "metadata": {},
   "source": [
    "**(1.25 балла)** Теперь сделайте перебор нескольких гиперпараметров по сетке и найдите оптимальные комбинации (лучшее среднее значение качества) для каждого алгоритма в данном случае: \n",
    " - KNN — число соседей (*n_neighbors*) и метрика (*metric*)\n",
    " - DecisonTree — глубина дерева (*max_depth*) и критерий разбиения (*criterion*)\n",
    " - RandomForest — критерий разбиения в деревьях (*criterion*) и *max_features* (при фиксированном количестве деревьев, найденном ранее)\n",
    " - GradientBoosting — критерий разбиения в деревьях (*criterion*) и *max_features* (при фиксированном количестве деревьев, найденном ранее)\n",
    " - SGDClassifier — оптимизируемая функция (*loss*) и *penalty*\n",
    " \n",
    "Обратите внимание, что эта операция может быть ресурсо- и трудоемкой. Как оптимизировать подбор параметров по сетке сказано в разделе \"Подбор гиперпараметров модели\""
   ]
  },
  {
   "cell_type": "code",
   "execution_count": 157,
   "metadata": {},
   "outputs": [
    {
     "name": "stderr",
     "output_type": "stream",
     "text": [
      "/opt/anaconda3/lib/python3.7/site-packages/sklearn/model_selection/_split.py:431: FutureWarning: The default value of n_split will change from 3 to 5 in version 0.22. Specify it explicitly to silence this warning.\n",
      "  warnings.warn(NSPLIT_WARNING, FutureWarning)\n"
     ]
    },
    {
     "data": {
      "text/plain": [
       "0.8326078731190306"
      ]
     },
     "execution_count": 157,
     "metadata": {},
     "output_type": "execute_result"
    }
   ],
   "source": [
    "knn_grid = {'n_neighbors': np.arange(20, 60, 3), 'metric': ['euclidean', 'manhattan', 'chebyshev']}\n",
    "\n",
    "def setka(alg=KNeighborsClassifier(), grid=knn_grid, X=X_num_sc, y=y):\n",
    "        cv = GridSearchCV(alg,\n",
    "                      grid,\n",
    "                      scoring='roc_auc',\n",
    "                      cv=KFold()\n",
    "                     )\n",
    "        cv.fit(X, y)\n",
    "\n",
    "        return cv.best_params_, cv.best_score_, cv.cv_results_\n",
    "\n",
    "\n",
    "kNN_best = setka()\n",
    "kNN_best[1]"
   ]
  },
  {
   "cell_type": "code",
   "execution_count": 158,
   "metadata": {},
   "outputs": [
    {
     "name": "stderr",
     "output_type": "stream",
     "text": [
      "/opt/anaconda3/lib/python3.7/site-packages/sklearn/model_selection/_split.py:431: FutureWarning: The default value of n_split will change from 3 to 5 in version 0.22. Specify it explicitly to silence this warning.\n",
      "  warnings.warn(NSPLIT_WARNING, FutureWarning)\n"
     ]
    },
    {
     "name": "stdout",
     "output_type": "stream",
     "text": [
      "({'criterion': 'gini', 'max_depth': 7}, 0.8379622988010984)\n"
     ]
    }
   ],
   "source": [
    "tree_grid = {'max_depth': np.arange(2, 35), 'criterion': ['gini', 'entropy']}\n",
    "tree_best = setka(alg=DecisionTreeClassifier(), grid=tree_grid)\n",
    "print(tree_best[:2])"
   ]
  },
  {
   "cell_type": "code",
   "execution_count": 159,
   "metadata": {},
   "outputs": [
    {
     "name": "stderr",
     "output_type": "stream",
     "text": [
      "/opt/anaconda3/lib/python3.7/site-packages/sklearn/model_selection/_split.py:431: FutureWarning: The default value of n_split will change from 3 to 5 in version 0.22. Specify it explicitly to silence this warning.\n",
      "  warnings.warn(NSPLIT_WARNING, FutureWarning)\n"
     ]
    },
    {
     "name": "stdout",
     "output_type": "stream",
     "text": [
      "({'criterion': 'entropy', 'max_features': 4}, 0.8170012651928139)\n"
     ]
    }
   ],
   "source": [
    "RF_grid = {'criterion': ['gini', 'entropy'], 'max_features': [2, 3, 4, 5]}\n",
    "RF_best = setka(RandomForestClassifier(n_estimators=80), RF_grid)\n",
    "print(RF_best[:2])"
   ]
  },
  {
   "cell_type": "code",
   "execution_count": 162,
   "metadata": {},
   "outputs": [
    {
     "name": "stderr",
     "output_type": "stream",
     "text": [
      "/opt/anaconda3/lib/python3.7/site-packages/sklearn/model_selection/_split.py:431: FutureWarning: The default value of n_split will change from 3 to 5 in version 0.22. Specify it explicitly to silence this warning.\n",
      "  warnings.warn(NSPLIT_WARNING, FutureWarning)\n"
     ]
    },
    {
     "name": "stdout",
     "output_type": "stream",
     "text": [
      "({'criterion': 'friedman_mse', 'max_features': 5}, 0.8643962881067294)\n"
     ]
    }
   ],
   "source": [
    "GB_grid = {'criterion': ['friedman_mse'], 'max_features': [2, 3, 4, 5]}\n",
    "GB_best = setka(alg=GradientBoostingClassifier(n_estimators=175), grid=GB_grid)\n",
    "print(GB_best[:2])"
   ]
  },
  {
   "cell_type": "code",
   "execution_count": 163,
   "metadata": {},
   "outputs": [
    {
     "name": "stderr",
     "output_type": "stream",
     "text": [
      "/opt/anaconda3/lib/python3.7/site-packages/sklearn/model_selection/_split.py:431: FutureWarning: The default value of n_split will change from 3 to 5 in version 0.22. Specify it explicitly to silence this warning.\n",
      "  warnings.warn(NSPLIT_WARNING, FutureWarning)\n"
     ]
    },
    {
     "name": "stdout",
     "output_type": "stream",
     "text": [
      "({'loss': 'log', 'penalty': 'l2'}, 0.8203663509124997)\n"
     ]
    }
   ],
   "source": [
    "SGD_grid = {'loss': ['log', 'hinge', 'modified_huber'], 'penalty': ['l2', 'l1', 'elasticnet']}\n",
    "SGD_best = setka(SGDClassifier(), SGD_grid)\n",
    "print(SGD_best[0:2])"
   ]
  },
  {
   "cell_type": "markdown",
   "metadata": {},
   "source": [
    "Какой из алгоритмов имеет наилучшее качество? \n",
    "\n",
    "Градиентный бустинг\n"
   ]
  },
  {
   "cell_type": "markdown",
   "metadata": {},
   "source": [
    "**(0.5 балла)** Сравните алгоритмы с точки зрения времени обучения. Обучение какого из алгоритмов работает дольше всего и, как вы думаете, почему?\n",
    "\n",
    "Время сравнивать - дело неблагодарное, у разный моделей разный набор параметров и по сетке их проверка может по-разному времени занимать. Но давайте посмотрим."
   ]
  },
  {
   "cell_type": "code",
   "execution_count": 169,
   "metadata": {},
   "outputs": [
    {
     "name": "stderr",
     "output_type": "stream",
     "text": [
      "/opt/anaconda3/lib/python3.7/site-packages/ipykernel_launcher.py:11: UserWarning: Matplotlib is currently using module://ipykernel.pylab.backend_inline, which is a non-GUI backend, so cannot show the figure.\n",
      "  # This is added back by InteractiveShellApp.init_path()\n"
     ]
    },
    {
     "data": {
      "image/png": "[encoded data removed]",
      "text/plain": [
       "<Figure size 864x576 with 1 Axes>"
      ]
     },
     "metadata": {
      "needs_background": "light"
     },
     "output_type": "display_data"
    }
   ],
   "source": [
    "fig, ax = plt.subplots(figsize=(12, 8))\n",
    "\n",
    "ax.plot(kNN_best[2]['mean_fit_time'], label='kNN')\n",
    "ax.plot(tree_best[2]['mean_fit_time'], label='Decision Tree')\n",
    "ax.plot(RF_best[2]['mean_fit_time'], label='Random Forest')\n",
    "ax.plot(GB_best[2]['mean_fit_time'], label='Gradient Boosting')\n",
    "ax.plot(SGD_best[2]['mean_fit_time'], label='SGDClassifier')\n",
    "ax.set_ylabel('mean_fit_time')\n",
    "ax.legend()\n",
    "\n",
    "fig.show()"
   ]
  },
  {
   "cell_type": "markdown",
   "metadata": {},
   "source": [
    "Рассмотрим отдельно в масштабе, но даже тут видно, что случайный лес - самый длинный, что логично."
   ]
  },
  {
   "cell_type": "code",
   "execution_count": 171,
   "metadata": {},
   "outputs": [
    {
     "name": "stderr",
     "output_type": "stream",
     "text": [
      "/opt/anaconda3/lib/python3.7/site-packages/ipykernel_launcher.py:8: UserWarning: Matplotlib is currently using module://ipykernel.pylab.backend_inline, which is a non-GUI backend, so cannot show the figure.\n",
      "  \n"
     ]
    },
    {
     "data": {
      "image/png": "[encoded data removed]",
      "text/plain": [
       "<Figure size 720x432 with 1 Axes>"
      ]
     },
     "metadata": {
      "needs_background": "light"
     },
     "output_type": "display_data"
    }
   ],
   "source": [
    "fig, ax = plt.subplots(figsize=(10, 6))\n",
    "\n",
    "ax.plot(kNN_best[2]['mean_fit_time'], label='kNN')\n",
    "ax.set_ylabel('mean_fit_time')\n",
    "\n",
    "ax.legend()\n",
    "\n",
    "fig.show()"
   ]
  },
  {
   "cell_type": "code",
   "execution_count": 172,
   "metadata": {},
   "outputs": [
    {
     "name": "stderr",
     "output_type": "stream",
     "text": [
      "/opt/anaconda3/lib/python3.7/site-packages/ipykernel_launcher.py:9: UserWarning: Matplotlib is currently using module://ipykernel.pylab.backend_inline, which is a non-GUI backend, so cannot show the figure.\n",
      "  if __name__ == '__main__':\n"
     ]
    },
    {
     "data": {
      "image/png": "[encoded data removed]",
      "text/plain": [
       "<Figure size 720x432 with 1 Axes>"
      ]
     },
     "metadata": {
      "needs_background": "light"
     },
     "output_type": "display_data"
    }
   ],
   "source": [
    "fig, ax = plt.subplots(figsize=(10, 6))\n",
    "\n",
    "ax.set_ylabel('mean_fit_time')\n",
    "ax.plot(kNN_best[2]['mean_fit_time'], label='kNN')\n",
    "ax.plot(tree_best[2]['mean_fit_time'], label='Decision Tree')\n",
    "ax.plot(SGD_best[2]['mean_fit_time'], label='SGDClassifier')\n",
    "ax.legend()\n",
    "\n",
    "fig.show()"
   ]
  },
  {
   "cell_type": "code",
   "execution_count": 173,
   "metadata": {},
   "outputs": [
    {
     "name": "stderr",
     "output_type": "stream",
     "text": [
      "/opt/anaconda3/lib/python3.7/site-packages/ipykernel_launcher.py:7: UserWarning: Matplotlib is currently using module://ipykernel.pylab.backend_inline, which is a non-GUI backend, so cannot show the figure.\n",
      "  import sys\n"
     ]
    },
    {
     "data": {
      "image/png": "[encoded data removed]",
      "text/plain": [
       "<Figure size 720x432 with 1 Axes>"
      ]
     },
     "metadata": {
      "needs_background": "light"
     },
     "output_type": "display_data"
    }
   ],
   "source": [
    "fig, ax = plt.subplots(figsize=(10, 6))\n",
    "\n",
    "ax.plot(RF_best[2]['mean_fit_time'], label='Random Forest')\n",
    "ax.plot(GB_best[2]['mean_fit_time'], label='Gradient Boosting')\n",
    "ax.plot(SGD_best[2]['mean_fit_time'], label='SGDClassifier')\n",
    "ax.legend()\n",
    "fig.show()\n"
   ]
  },
  {
   "cell_type": "markdown",
   "metadata": {},
   "source": [
    "Что и следовало доказать"
   ]
  },
  {
   "cell_type": "markdown",
   "metadata": {},
   "source": [
    "## Добавление категориальных признаков в модели\n",
    "\n",
    "Пока мы не использовали нечисловые признаки, которые есть в датасете. Давайте посмотрим, правильно ли мы сделали и увеличится ли качество моделей после добавлениях этих признаков. \n",
    "\n",
    "**(0.5 балла)** Преобразуйте все категориальные признаки с помощью метода one-hot-encoding (например, это можно сделать с помощью функции [pandas.get_dummies](http://pandas.pydata.org/pandas-docs/stable/generated/pandas.get_dummies.html) или [DictVectorizer](http://scikit-learn.org/stable/modules/generated/sklearn.feature_extraction.DictVectorizer.html) из sklearn)."
   ]
  },
  {
   "cell_type": "code",
   "execution_count": 176,
   "metadata": {},
   "outputs": [
    {
     "data": {
      "text/html": [
       "<div>\n",
       "<style scoped>\n",
       "    .dataframe tbody tr th:only-of-type {\n",
       "        vertical-align: middle;\n",
       "    }\n",
       "\n",
       "    .dataframe tbody tr th {\n",
       "        vertical-align: top;\n",
       "    }\n",
       "\n",
       "    .dataframe thead th {\n",
       "        text-align: right;\n",
       "    }\n",
       "</style>\n",
       "<table border=\"1\" class=\"dataframe\">\n",
       "  <thead>\n",
       "    <tr style=\"text-align: right;\">\n",
       "      <th></th>\n",
       "      <th>workclass_Local-gov</th>\n",
       "      <th>workclass_Private</th>\n",
       "      <th>workclass_Self-emp-inc</th>\n",
       "      <th>workclass_Self-emp-not-inc</th>\n",
       "      <th>workclass_State-gov</th>\n",
       "      <th>workclass_Without-pay</th>\n",
       "      <th>education_11th</th>\n",
       "      <th>education_12th</th>\n",
       "      <th>education_1st-4th</th>\n",
       "      <th>education_5th-6th</th>\n",
       "      <th>...</th>\n",
       "      <th>relationship_Not-in-family</th>\n",
       "      <th>relationship_Other-relative</th>\n",
       "      <th>relationship_Own-child</th>\n",
       "      <th>relationship_Unmarried</th>\n",
       "      <th>relationship_Wife</th>\n",
       "      <th>race_Asian-Pac-Islander</th>\n",
       "      <th>race_Black</th>\n",
       "      <th>race_Other</th>\n",
       "      <th>race_White</th>\n",
       "      <th>sex_Male</th>\n",
       "    </tr>\n",
       "  </thead>\n",
       "  <tbody>\n",
       "    <tr>\n",
       "      <td>0</td>\n",
       "      <td>1</td>\n",
       "      <td>0</td>\n",
       "      <td>0</td>\n",
       "      <td>0</td>\n",
       "      <td>0</td>\n",
       "      <td>0</td>\n",
       "      <td>0</td>\n",
       "      <td>0</td>\n",
       "      <td>0</td>\n",
       "      <td>0</td>\n",
       "      <td>...</td>\n",
       "      <td>1</td>\n",
       "      <td>0</td>\n",
       "      <td>0</td>\n",
       "      <td>0</td>\n",
       "      <td>0</td>\n",
       "      <td>0</td>\n",
       "      <td>1</td>\n",
       "      <td>0</td>\n",
       "      <td>0</td>\n",
       "      <td>1</td>\n",
       "    </tr>\n",
       "    <tr>\n",
       "      <td>1</td>\n",
       "      <td>0</td>\n",
       "      <td>1</td>\n",
       "      <td>0</td>\n",
       "      <td>0</td>\n",
       "      <td>0</td>\n",
       "      <td>0</td>\n",
       "      <td>0</td>\n",
       "      <td>0</td>\n",
       "      <td>0</td>\n",
       "      <td>0</td>\n",
       "      <td>...</td>\n",
       "      <td>1</td>\n",
       "      <td>0</td>\n",
       "      <td>0</td>\n",
       "      <td>0</td>\n",
       "      <td>0</td>\n",
       "      <td>0</td>\n",
       "      <td>0</td>\n",
       "      <td>0</td>\n",
       "      <td>1</td>\n",
       "      <td>1</td>\n",
       "    </tr>\n",
       "    <tr>\n",
       "      <td>2</td>\n",
       "      <td>1</td>\n",
       "      <td>0</td>\n",
       "      <td>0</td>\n",
       "      <td>0</td>\n",
       "      <td>0</td>\n",
       "      <td>0</td>\n",
       "      <td>0</td>\n",
       "      <td>0</td>\n",
       "      <td>0</td>\n",
       "      <td>0</td>\n",
       "      <td>...</td>\n",
       "      <td>0</td>\n",
       "      <td>0</td>\n",
       "      <td>1</td>\n",
       "      <td>0</td>\n",
       "      <td>0</td>\n",
       "      <td>0</td>\n",
       "      <td>0</td>\n",
       "      <td>0</td>\n",
       "      <td>1</td>\n",
       "      <td>1</td>\n",
       "    </tr>\n",
       "    <tr>\n",
       "      <td>3</td>\n",
       "      <td>0</td>\n",
       "      <td>1</td>\n",
       "      <td>0</td>\n",
       "      <td>0</td>\n",
       "      <td>0</td>\n",
       "      <td>0</td>\n",
       "      <td>0</td>\n",
       "      <td>0</td>\n",
       "      <td>0</td>\n",
       "      <td>0</td>\n",
       "      <td>...</td>\n",
       "      <td>0</td>\n",
       "      <td>0</td>\n",
       "      <td>1</td>\n",
       "      <td>0</td>\n",
       "      <td>0</td>\n",
       "      <td>0</td>\n",
       "      <td>0</td>\n",
       "      <td>0</td>\n",
       "      <td>1</td>\n",
       "      <td>0</td>\n",
       "    </tr>\n",
       "    <tr>\n",
       "      <td>4</td>\n",
       "      <td>0</td>\n",
       "      <td>1</td>\n",
       "      <td>0</td>\n",
       "      <td>0</td>\n",
       "      <td>0</td>\n",
       "      <td>0</td>\n",
       "      <td>0</td>\n",
       "      <td>0</td>\n",
       "      <td>0</td>\n",
       "      <td>0</td>\n",
       "      <td>...</td>\n",
       "      <td>0</td>\n",
       "      <td>0</td>\n",
       "      <td>0</td>\n",
       "      <td>0</td>\n",
       "      <td>0</td>\n",
       "      <td>0</td>\n",
       "      <td>0</td>\n",
       "      <td>0</td>\n",
       "      <td>1</td>\n",
       "      <td>1</td>\n",
       "    </tr>\n",
       "  </tbody>\n",
       "</table>\n",
       "<p>5 rows × 50 columns</p>\n",
       "</div>"
      ],
      "text/plain": [
       "   workclass_Local-gov  workclass_Private  workclass_Self-emp-inc  \\\n",
       "0                    1                  0                       0   \n",
       "1                    0                  1                       0   \n",
       "2                    1                  0                       0   \n",
       "3                    0                  1                       0   \n",
       "4                    0                  1                       0   \n",
       "\n",
       "   workclass_Self-emp-not-inc  workclass_State-gov  workclass_Without-pay  \\\n",
       "0                           0                    0                      0   \n",
       "1                           0                    0                      0   \n",
       "2                           0                    0                      0   \n",
       "3                           0                    0                      0   \n",
       "4                           0                    0                      0   \n",
       "\n",
       "   education_11th  education_12th  education_1st-4th  education_5th-6th  ...  \\\n",
       "0               0               0                  0                  0  ...   \n",
       "1               0               0                  0                  0  ...   \n",
       "2               0               0                  0                  0  ...   \n",
       "3               0               0                  0                  0  ...   \n",
       "4               0               0                  0                  0  ...   \n",
       "\n",
       "   relationship_Not-in-family  relationship_Other-relative  \\\n",
       "0                           1                            0   \n",
       "1                           1                            0   \n",
       "2                           0                            0   \n",
       "3                           0                            0   \n",
       "4                           0                            0   \n",
       "\n",
       "   relationship_Own-child  relationship_Unmarried  relationship_Wife  \\\n",
       "0                       0                       0                  0   \n",
       "1                       0                       0                  0   \n",
       "2                       1                       0                  0   \n",
       "3                       1                       0                  0   \n",
       "4                       0                       0                  0   \n",
       "\n",
       "   race_Asian-Pac-Islander  race_Black  race_Other  race_White  sex_Male  \n",
       "0                        0           1           0           0         1  \n",
       "1                        0           0           0           1         1  \n",
       "2                        0           0           0           1         1  \n",
       "3                        0           0           0           1         0  \n",
       "4                        0           0           0           1         1  \n",
       "\n",
       "[5 rows x 50 columns]"
      ]
     },
     "execution_count": 176,
     "metadata": {},
     "output_type": "execute_result"
    }
   ],
   "source": [
    "ohe = pd.get_dummies(df.loc[:, df.columns[df.dtypes == 'object']].iloc[:, :-1], drop_first=True)\n",
    "ohe.head()"
   ]
  },
  {
   "cell_type": "markdown",
   "metadata": {},
   "source": [
    "Так как после кодирования признаков получилось достаточно много, в этой работе мы не будем добавлять их и подбирать заново оптимальные гиперпараметры. \n",
    "\n",
    "**(0.5 балла)** Добавьте к масштабированным вещественным признакам закодированные категориальные и обучите алгоритмы с наилучшими гиперпараметрами из предыдущего пункта. Дало ли добавление новых признаков прирост качества? Измеряйте качество как и раньше используя 5-Fold CV. Для этого удобно воспользоваться функцией [cross_val_score](https://scikit-learn.org/stable/modules/generated/sklearn.model_selection.cross_val_score.html).\n",
    "\n",
    "Как же много всего надо делать как же грустно((("
   ]
  },
  {
   "cell_type": "code",
   "execution_count": 188,
   "metadata": {},
   "outputs": [],
   "source": [
    "df1 = pd.DataFrame(data=X_num_sc, columns={0: 'age', 1:'fnlwgt', 2:'education-num', 3:'capital-gain', 4:'capital-loss',\n",
    "       5:'hours-per-week'})"
   ]
  },
  {
   "cell_type": "code",
   "execution_count": 189,
   "metadata": {},
   "outputs": [
    {
     "data": {
      "text/html": [
       "<div>\n",
       "<style scoped>\n",
       "    .dataframe tbody tr th:only-of-type {\n",
       "        vertical-align: middle;\n",
       "    }\n",
       "\n",
       "    .dataframe tbody tr th {\n",
       "        vertical-align: top;\n",
       "    }\n",
       "\n",
       "    .dataframe thead th {\n",
       "        text-align: right;\n",
       "    }\n",
       "</style>\n",
       "<table border=\"1\" class=\"dataframe\">\n",
       "  <thead>\n",
       "    <tr style=\"text-align: right;\">\n",
       "      <th></th>\n",
       "      <th>workclass_Local-gov</th>\n",
       "      <th>workclass_Private</th>\n",
       "      <th>workclass_Self-emp-inc</th>\n",
       "      <th>workclass_Self-emp-not-inc</th>\n",
       "      <th>workclass_State-gov</th>\n",
       "      <th>workclass_Without-pay</th>\n",
       "      <th>education_11th</th>\n",
       "      <th>education_12th</th>\n",
       "      <th>education_1st-4th</th>\n",
       "      <th>education_5th-6th</th>\n",
       "      <th>...</th>\n",
       "      <th>race_Black</th>\n",
       "      <th>race_Other</th>\n",
       "      <th>race_White</th>\n",
       "      <th>sex_Male</th>\n",
       "      <th>0</th>\n",
       "      <th>1</th>\n",
       "      <th>2</th>\n",
       "      <th>3</th>\n",
       "      <th>4</th>\n",
       "      <th>5</th>\n",
       "    </tr>\n",
       "  </thead>\n",
       "  <tbody>\n",
       "    <tr>\n",
       "      <td>0</td>\n",
       "      <td>1</td>\n",
       "      <td>0</td>\n",
       "      <td>0</td>\n",
       "      <td>0</td>\n",
       "      <td>0</td>\n",
       "      <td>0</td>\n",
       "      <td>0</td>\n",
       "      <td>0</td>\n",
       "      <td>0</td>\n",
       "      <td>0</td>\n",
       "      <td>...</td>\n",
       "      <td>1</td>\n",
       "      <td>0</td>\n",
       "      <td>0</td>\n",
       "      <td>1</td>\n",
       "      <td>-0.342919</td>\n",
       "      <td>0.900258</td>\n",
       "      <td>-0.450788</td>\n",
       "      <td>-0.065600</td>\n",
       "      <td>-0.21874</td>\n",
       "      <td>1.588223</td>\n",
       "    </tr>\n",
       "    <tr>\n",
       "      <td>1</td>\n",
       "      <td>0</td>\n",
       "      <td>1</td>\n",
       "      <td>0</td>\n",
       "      <td>0</td>\n",
       "      <td>0</td>\n",
       "      <td>0</td>\n",
       "      <td>0</td>\n",
       "      <td>0</td>\n",
       "      <td>0</td>\n",
       "      <td>0</td>\n",
       "      <td>...</td>\n",
       "      <td>0</td>\n",
       "      <td>0</td>\n",
       "      <td>1</td>\n",
       "      <td>1</td>\n",
       "      <td>0.114760</td>\n",
       "      <td>0.010683</td>\n",
       "      <td>-0.059086</td>\n",
       "      <td>-0.150439</td>\n",
       "      <td>-0.21874</td>\n",
       "      <td>-0.074178</td>\n",
       "    </tr>\n",
       "    <tr>\n",
       "      <td>2</td>\n",
       "      <td>1</td>\n",
       "      <td>0</td>\n",
       "      <td>0</td>\n",
       "      <td>0</td>\n",
       "      <td>0</td>\n",
       "      <td>0</td>\n",
       "      <td>0</td>\n",
       "      <td>0</td>\n",
       "      <td>0</td>\n",
       "      <td>0</td>\n",
       "      <td>...</td>\n",
       "      <td>0</td>\n",
       "      <td>0</td>\n",
       "      <td>1</td>\n",
       "      <td>1</td>\n",
       "      <td>-0.190359</td>\n",
       "      <td>-0.106280</td>\n",
       "      <td>1.116020</td>\n",
       "      <td>-0.150439</td>\n",
       "      <td>-0.21874</td>\n",
       "      <td>-0.074178</td>\n",
       "    </tr>\n",
       "    <tr>\n",
       "      <td>3</td>\n",
       "      <td>0</td>\n",
       "      <td>1</td>\n",
       "      <td>0</td>\n",
       "      <td>0</td>\n",
       "      <td>0</td>\n",
       "      <td>0</td>\n",
       "      <td>0</td>\n",
       "      <td>0</td>\n",
       "      <td>0</td>\n",
       "      <td>0</td>\n",
       "      <td>...</td>\n",
       "      <td>0</td>\n",
       "      <td>0</td>\n",
       "      <td>1</td>\n",
       "      <td>0</td>\n",
       "      <td>-1.258276</td>\n",
       "      <td>-0.041382</td>\n",
       "      <td>-0.059086</td>\n",
       "      <td>-0.150439</td>\n",
       "      <td>-0.21874</td>\n",
       "      <td>-0.905379</td>\n",
       "    </tr>\n",
       "    <tr>\n",
       "      <td>4</td>\n",
       "      <td>0</td>\n",
       "      <td>1</td>\n",
       "      <td>0</td>\n",
       "      <td>0</td>\n",
       "      <td>0</td>\n",
       "      <td>0</td>\n",
       "      <td>0</td>\n",
       "      <td>0</td>\n",
       "      <td>0</td>\n",
       "      <td>0</td>\n",
       "      <td>...</td>\n",
       "      <td>0</td>\n",
       "      <td>0</td>\n",
       "      <td>1</td>\n",
       "      <td>1</td>\n",
       "      <td>0.648719</td>\n",
       "      <td>-0.371197</td>\n",
       "      <td>1.116020</td>\n",
       "      <td>1.995391</td>\n",
       "      <td>-0.21874</td>\n",
       "      <td>-0.074178</td>\n",
       "    </tr>\n",
       "  </tbody>\n",
       "</table>\n",
       "<p>5 rows × 56 columns</p>\n",
       "</div>"
      ],
      "text/plain": [
       "   workclass_Local-gov  workclass_Private  workclass_Self-emp-inc  \\\n",
       "0                    1                  0                       0   \n",
       "1                    0                  1                       0   \n",
       "2                    1                  0                       0   \n",
       "3                    0                  1                       0   \n",
       "4                    0                  1                       0   \n",
       "\n",
       "   workclass_Self-emp-not-inc  workclass_State-gov  workclass_Without-pay  \\\n",
       "0                           0                    0                      0   \n",
       "1                           0                    0                      0   \n",
       "2                           0                    0                      0   \n",
       "3                           0                    0                      0   \n",
       "4                           0                    0                      0   \n",
       "\n",
       "   education_11th  education_12th  education_1st-4th  education_5th-6th  ...  \\\n",
       "0               0               0                  0                  0  ...   \n",
       "1               0               0                  0                  0  ...   \n",
       "2               0               0                  0                  0  ...   \n",
       "3               0               0                  0                  0  ...   \n",
       "4               0               0                  0                  0  ...   \n",
       "\n",
       "   race_Black  race_Other  race_White  sex_Male         0         1         2  \\\n",
       "0           1           0           0         1 -0.342919  0.900258 -0.450788   \n",
       "1           0           0           1         1  0.114760  0.010683 -0.059086   \n",
       "2           0           0           1         1 -0.190359 -0.106280  1.116020   \n",
       "3           0           0           1         0 -1.258276 -0.041382 -0.059086   \n",
       "4           0           0           1         1  0.648719 -0.371197  1.116020   \n",
       "\n",
       "          3        4         5  \n",
       "0 -0.065600 -0.21874  1.588223  \n",
       "1 -0.150439 -0.21874 -0.074178  \n",
       "2 -0.150439 -0.21874 -0.074178  \n",
       "3 -0.150439 -0.21874 -0.905379  \n",
       "4  1.995391 -0.21874 -0.074178  \n",
       "\n",
       "[5 rows x 56 columns]"
      ]
     },
     "execution_count": 189,
     "metadata": {},
     "output_type": "execute_result"
    }
   ],
   "source": [
    "X_new = pd.concat([ohe, df1], axis=1)\n",
    "\n",
    "X_new.head()"
   ]
  },
  {
   "cell_type": "code",
   "execution_count": 196,
   "metadata": {},
   "outputs": [
    {
     "name": "stdout",
     "output_type": "stream",
     "text": [
      "KNN: 0.8296083669520676\n",
      "decisionTree 0.844008711683399\n",
      "SGD 0.8396430841991418\n",
      "RF 0.8457679028384083\n"
     ]
    }
   ],
   "source": [
    "clf = KNeighborsClassifier(n_neighbors = 10, metric =  'minkowski')\n",
    "print(\"KNN:\",cross_val_score(clf, X_new, y,cv = 5).mean())\n",
    "\n",
    "\n",
    "clf = DecisionTreeClassifier(max_depth = 7,criterion = 'gini',random_state=42)\n",
    "print(\"decisionTree\",cross_val_score(clf, X_new, y,cv = 5).mean())\n",
    "\n",
    "\n",
    "clf = SGDClassifier(loss = 'log',penalty = 'l2')\n",
    "print(\"SGD\",cross_val_score(clf, X_new, y,cv = 5).mean())\n",
    "\n",
    "\n",
    "clf = RandomForestClassifier(n_estimators = 80,max_features =  0.9, criterion = 'entropy', n_jobs=4, random_state=7)\n",
    "print(\"RF\",cross_val_score(clf, X_new, y,cv = 5).mean())"
   ]
  },
  {
   "cell_type": "markdown",
   "metadata": {},
   "source": [
    "Ну вообще кажется чуть лучше стало но не то чтобы прям совсем где то лучше где то хуже, вот если бы было 90... другое дело совсем...\n",
    "\n",
    "Отличается ли теперь наилучший классификатор от наилучшего в предыдущем пункте?\n",
    "\n",
    "Неа"
   ]
  },
  {
   "cell_type": "markdown",
   "metadata": {},
   "source": [
    "## Поиск новых полезных признаков\n",
    "\n",
    "**(1.25 балла).** Попробуем улучшить качество модели, добавив в неё новые информативные признаки. Поступим так же, как действовали на [семинаре](https://github.com/Murcha1990/ML_Econom_2021-2022/blob/main/Семинары/Семинар%207/Seminar7.ipynb):\n",
    "* добавьте к модели полиномиальных признаков степени 2 (для создания полиномиальных признаков используйте только исходные числовые признаки)\n",
    "* затем снизьте размерность с помощью:\n",
    "a) фильтрационных методов\n",
    "b) жадного отбора признаков (RFE)\n",
    "с) встроенного в модель метода отбора признаков.\n",
    "\n",
    "Для каждого пункта выше выберите один метод и подберите для него оптимальные гиперпараметры, а также количество финальных признаков (по кросс-валидации).\n",
    "\n",
    "* Затем можно добавить к модели закодированные в предыдущем пункте категориальные признаки.\n",
    "\n",
    "Позволил ли этот подход улучшить качество моделей? "
   ]
  },
  {
   "cell_type": "code",
   "execution_count": 198,
   "metadata": {},
   "outputs": [],
   "source": [
    "pd.options.mode.chained_assignment = None \n",
    "from sklearn.preprocessing import PolynomialFeatures\n",
    "\n",
    "poly = PolynomialFeatures(2, include_bias=False)\n",
    "\n",
    "\n",
    "#X2 = pd.concat([pd.DataFrame(poly.fit_transform(X_r_sc)), ohe.reset_index(drop=True)], axis=1)\n",
    "#X2.head()\n",
    "X_poly = pd.DataFrame(poly.fit_transform(X_num_sc))"
   ]
  },
  {
   "cell_type": "code",
   "execution_count": 202,
   "metadata": {},
   "outputs": [
    {
     "name": "stderr",
     "output_type": "stream",
     "text": [
      "\n",
      "  0%|          | 0/5 [00:03<?, ?it/s]\u001b[A\n"
     ]
    },
    {
     "ename": "TypeError",
     "evalue": "estimator should be an estimator implementing 'fit' method, {'mean_fit_time': array([0.07046286, 0.06812604, 0.06820114, 0.07147996, 0.06783334,\n       0.06436698, 0.07204994, 0.07144992, 0.07552608, 0.068096  ,\n       0.06518793, 0.06613064, 0.06826822, 0.06419706, 0.06674369,\n       0.06777962, 0.06801271, 0.06939658, 0.06461255, 0.06656679,\n       0.06619461, 0.06497542, 0.06722736, 0.07082335, 0.07277298,\n       0.07075906, 0.06395483, 0.06741134, 0.0676109 , 0.06776722,\n       0.06518825, 0.073071  , 0.06496366, 0.06422798, 0.06415081,\n       0.06576761, 0.06345463, 0.06855416, 0.0648102 , 0.06272499,\n       0.06929247, 0.07287073]), 'std_fit_time': array([0.00727096, 0.00329457, 0.00215081, 0.00329287, 0.00750171,\n       0.00278194, 0.00832492, 0.01073203, 0.00305845, 0.00339673,\n       0.00205501, 0.00020644, 0.00274908, 0.00228731, 0.00230093,\n       0.00235545, 0.00145634, 0.00409054, 0.0028337 , 0.00138602,\n       0.00133033, 0.00256931, 0.00023857, 0.00709701, 0.00935974,\n       0.007302  , 0.00074231, 0.00112566, 0.0020504 , 0.00116711,\n       0.00093727, 0.01205208, 0.00206108, 0.00046383, 0.00118433,\n       0.00359983, 0.00152665, 0.00347239, 0.00238477, 0.00058005,\n       0.00105832, 0.00119093]), 'mean_score_time': array([0.18991677, 0.20414527, 0.21494492, 0.23327708, 0.22529912,\n       0.22736287, 0.24412831, 0.26828241, 0.28181664, 0.27204593,\n       0.27427379, 0.28327854, 0.2918117 , 0.30598934, 0.25731111,\n       0.27704167, 0.283638  , 0.27994506, 0.28858503, 0.29615458,\n       0.31651489, 0.32253194, 0.34357254, 0.37482921, 0.37676334,\n       0.36845271, 0.36483312, 0.39233772, 0.13970057, 0.15073021,\n       0.15139699, 0.16639566, 0.19332139, 0.17859006, 0.17786423,\n       0.18685651, 0.19087362, 0.19818465, 0.19959911, 0.21027891,\n       0.22705825, 0.24211804]), 'std_score_time': array([0.00763849, 0.00142569, 0.00307545, 0.00194314, 0.00523493,\n       0.00337228, 0.00762369, 0.01059372, 0.01274372, 0.00818724,\n       0.00384239, 0.00194093, 0.00268115, 0.01157708, 0.01808024,\n       0.01813826, 0.0103004 , 0.01049076, 0.00279207, 0.00432452,\n       0.00607906, 0.01649993, 0.00934569, 0.02632171, 0.01033166,\n       0.00562976, 0.00159811, 0.00793384, 0.00568394, 0.0033382 ,\n       0.00351505, 0.00120046, 0.04247149, 0.00900563, 0.00137318,\n       0.0050233 , 0.00160505, 0.00055621, 0.00285845, 0.00366937,\n       0.00490352, 0.00465579]), 'param_metric': masked_array(data=['euclidean', 'euclidean', 'euclidean', 'euclidean',\n                   'euclidean', 'euclidean', 'euclidean', 'euclidean',\n                   'euclidean', 'euclidean', 'euclidean', 'euclidean',\n                   'euclidean', 'euclidean', 'manhattan', 'manhattan',\n                   'manhattan', 'manhattan', 'manhattan', 'manhattan',\n                   'manhattan', 'manhattan', 'manhattan', 'manhattan',\n                   'manhattan', 'manhattan', 'manhattan', 'manhattan',\n                   'chebyshev', 'chebyshev', 'chebyshev', 'chebyshev',\n                   'chebyshev', 'chebyshev', 'chebyshev', 'chebyshev',\n                   'chebyshev', 'chebyshev', 'chebyshev', 'chebyshev',\n                   'chebyshev', 'chebyshev'],\n             mask=[False, False, False, False, False, False, False, False,\n                   False, False, False, False, False, False, False, False,\n                   False, False, False, False, False, False, False, False,\n                   False, False, False, False, False, False, False, False,\n                   False, False, False, False, False, False, False, False,\n                   False, False],\n       fill_value='?',\n            dtype=object), 'param_n_neighbors': masked_array(data=[20, 23, 26, 29, 32, 35, 38, 41, 44, 47, 50, 53, 56, 59,\n                   20, 23, 26, 29, 32, 35, 38, 41, 44, 47, 50, 53, 56, 59,\n                   20, 23, 26, 29, 32, 35, 38, 41, 44, 47, 50, 53, 56, 59],\n             mask=[False, False, False, False, False, False, False, False,\n                   False, False, False, False, False, False, False, False,\n                   False, False, False, False, False, False, False, False,\n                   False, False, False, False, False, False, False, False,\n                   False, False, False, False, False, False, False, False,\n                   False, False],\n       fill_value='?',\n            dtype=object), 'params': [{'metric': 'euclidean', 'n_neighbors': 20}, {'metric': 'euclidean', 'n_neighbors': 23}, {'metric': 'euclidean', 'n_neighbors': 26}, {'metric': 'euclidean', 'n_neighbors': 29}, {'metric': 'euclidean', 'n_neighbors': 32}, {'metric': 'euclidean', 'n_neighbors': 35}, {'metric': 'euclidean', 'n_neighbors': 38}, {'metric': 'euclidean', 'n_neighbors': 41}, {'metric': 'euclidean', 'n_neighbors': 44}, {'metric': 'euclidean', 'n_neighbors': 47}, {'metric': 'euclidean', 'n_neighbors': 50}, {'metric': 'euclidean', 'n_neighbors': 53}, {'metric': 'euclidean', 'n_neighbors': 56}, {'metric': 'euclidean', 'n_neighbors': 59}, {'metric': 'manhattan', 'n_neighbors': 20}, {'metric': 'manhattan', 'n_neighbors': 23}, {'metric': 'manhattan', 'n_neighbors': 26}, {'metric': 'manhattan', 'n_neighbors': 29}, {'metric': 'manhattan', 'n_neighbors': 32}, {'metric': 'manhattan', 'n_neighbors': 35}, {'metric': 'manhattan', 'n_neighbors': 38}, {'metric': 'manhattan', 'n_neighbors': 41}, {'metric': 'manhattan', 'n_neighbors': 44}, {'metric': 'manhattan', 'n_neighbors': 47}, {'metric': 'manhattan', 'n_neighbors': 50}, {'metric': 'manhattan', 'n_neighbors': 53}, {'metric': 'manhattan', 'n_neighbors': 56}, {'metric': 'manhattan', 'n_neighbors': 59}, {'metric': 'chebyshev', 'n_neighbors': 20}, {'metric': 'chebyshev', 'n_neighbors': 23}, {'metric': 'chebyshev', 'n_neighbors': 26}, {'metric': 'chebyshev', 'n_neighbors': 29}, {'metric': 'chebyshev', 'n_neighbors': 32}, {'metric': 'chebyshev', 'n_neighbors': 35}, {'metric': 'chebyshev', 'n_neighbors': 38}, {'metric': 'chebyshev', 'n_neighbors': 41}, {'metric': 'chebyshev', 'n_neighbors': 44}, {'metric': 'chebyshev', 'n_neighbors': 47}, {'metric': 'chebyshev', 'n_neighbors': 50}, {'metric': 'chebyshev', 'n_neighbors': 53}, {'metric': 'chebyshev', 'n_neighbors': 56}, {'metric': 'chebyshev', 'n_neighbors': 59}], 'split0_test_score': array([0.83074198, 0.83182759, 0.83368113, 0.83595907, 0.83691336,\n       0.83621013, 0.83718751, 0.83748475, 0.83897239, 0.83845389,\n       0.83808717, 0.83838787, 0.8378238 , 0.83737723, 0.83465454,\n       0.83627188, 0.83652253, 0.83658865, 0.83712454, 0.8363206 ,\n       0.83657217, 0.83620708, 0.83669811, 0.83622539, 0.83724122,\n       0.83787558, 0.8384661 , 0.8380655 , 0.82870401, 0.82926574,\n       0.829222  , 0.83052306, 0.83162251, 0.8321285 , 0.83411194,\n       0.8345813 , 0.83694245, 0.83570934, 0.83650127, 0.83631206,\n       0.8368331 , 0.83617463]), 'split1_test_score': array([0.82342356, 0.82565027, 0.82596754, 0.82812231, 0.82839465,\n       0.82834675, 0.82830608, 0.82843918, 0.82848757, 0.82905847,\n       0.82906283, 0.82830974, 0.8284844 , 0.82870845, 0.82688965,\n       0.82808876, 0.82727283, 0.82857218, 0.82773874, 0.8283799 ,\n       0.82853655, 0.82963343, 0.82953131, 0.82919959, 0.82959998,\n       0.82918732, 0.82957633, 0.82959612, 0.81771285, 0.82227028,\n       0.82469976, 0.82514825, 0.82627026, 0.82550886, 0.82692261,\n       0.82767045, 0.82691489, 0.82765007, 0.82811261, 0.8271522 ,\n       0.82695368, 0.82703938]), 'split2_test_score': array([0.82553971, 0.8278182 , 0.82952874, 0.82984259, 0.8306824 ,\n       0.82956036, 0.82938218, 0.82865102, 0.82853919, 0.82847933,\n       0.82889464, 0.82880545, 0.82929948, 0.82948863, 0.82567888,\n       0.82731529, 0.82822473, 0.82842975, 0.83010217, 0.83016911,\n       0.83087035, 0.83093839, 0.83003014, 0.82994993, 0.828911  ,\n       0.8293338 , 0.82978064, 0.82968945, 0.82433447, 0.82544593,\n       0.82695634, 0.82728846, 0.82845628, 0.8292468 , 0.82956615,\n       0.83015205, 0.83032824, 0.82964925, 0.82890023, 0.82943745,\n       0.83034081, 0.83008631]), 'mean_test_score': array([0.82656848, 0.82843206, 0.82972582, 0.83130808, 0.83199689,\n       0.83137253, 0.8316254 , 0.83152517, 0.83199994, 0.83199746,\n       0.83201508, 0.83183455, 0.8318694 , 0.83185826, 0.82907458,\n       0.83055885, 0.83067352, 0.83119704, 0.83165525, 0.8316233 ,\n       0.8319931 , 0.83225972, 0.83208665, 0.83179176, 0.8319176 ,\n       0.83213241, 0.83260787, 0.83245054, 0.82358373, 0.82566066,\n       0.82695937, 0.82765328, 0.82878304, 0.82896137, 0.83020027,\n       0.83080131, 0.83139526, 0.83100297, 0.83117152, 0.83096734,\n       0.83137593, 0.83110017]), 'std_test_score': array([0.00307509, 0.00255904, 0.00315224, 0.00336305, 0.0035999 ,\n       0.00345656, 0.00395765, 0.00421515, 0.00493055, 0.00457173,\n       0.00429437, 0.00463854, 0.00422373, 0.00391567, 0.00397666,\n       0.00405224, 0.00415429, 0.00381308, 0.0039861 , 0.00340102,\n       0.00337531, 0.00284172, 0.0032673 , 0.00315013, 0.00377505,\n       0.00406167, 0.00414343, 0.00397075, 0.00451855, 0.00286001,\n       0.00184626, 0.00220944, 0.0021973 , 0.00271007, 0.00296917,\n       0.00285853, 0.0041628 , 0.00342668, 0.00378258, 0.00389292,\n       0.00409925, 0.00379784]), 'rank_test_score': array([40, 37, 33, 23,  9, 22, 17, 19,  7,  8,  6, 14, 12, 13, 34, 31, 30,\n       24, 16, 18, 10,  3,  5, 15, 11,  4,  1,  2, 42, 41, 39, 38, 36, 35,\n       32, 29, 20, 27, 25, 28, 21, 26], dtype=int32)} was passed",
     "output_type": "error",
     "traceback": [
      "\u001b[0;31m---------------------------------------------------------------------------\u001b[0m",
      "\u001b[0;31mTypeError\u001b[0m                                 Traceback (most recent call last)",
      "\u001b[0;32m<ipython-input-202-1c7e94a531a9>\u001b[0m in \u001b[0;36m<module>\u001b[0;34m\u001b[0m\n\u001b[1;32m      6\u001b[0m     \u001b[0;32mfor\u001b[0m \u001b[0mk\u001b[0m \u001b[0;32min\u001b[0m \u001b[0mnp\u001b[0m\u001b[0;34m.\u001b[0m\u001b[0marange\u001b[0m\u001b[0;34m(\u001b[0m\u001b[0;36m6\u001b[0m\u001b[0;34m,\u001b[0m \u001b[0;36m27\u001b[0m\u001b[0;34m,\u001b[0m \u001b[0;36m3\u001b[0m\u001b[0;34m)\u001b[0m\u001b[0;34m:\u001b[0m\u001b[0;34m\u001b[0m\u001b[0;34m\u001b[0m\u001b[0m\n\u001b[1;32m      7\u001b[0m         \u001b[0mtrans_data\u001b[0m \u001b[0;34m=\u001b[0m \u001b[0mSelectKBest\u001b[0m\u001b[0;34m(\u001b[0m\u001b[0mscore_func\u001b[0m\u001b[0;34m=\u001b[0m\u001b[0mmutual_info_classif\u001b[0m\u001b[0;34m,\u001b[0m \u001b[0mk\u001b[0m\u001b[0;34m=\u001b[0m\u001b[0mk\u001b[0m\u001b[0;34m)\u001b[0m\u001b[0;34m.\u001b[0m\u001b[0mfit_transform\u001b[0m\u001b[0;34m(\u001b[0m\u001b[0mX_poly\u001b[0m\u001b[0;34m,\u001b[0m \u001b[0my\u001b[0m\u001b[0;34m)\u001b[0m\u001b[0;34m\u001b[0m\u001b[0;34m\u001b[0m\u001b[0m\n\u001b[0;32m----> 8\u001b[0;31m         \u001b[0malg_res\u001b[0m\u001b[0;34m.\u001b[0m\u001b[0mappend\u001b[0m\u001b[0;34m(\u001b[0m\u001b[0mcross_val_score\u001b[0m\u001b[0;34m(\u001b[0m\u001b[0malg\u001b[0m\u001b[0;34m,\u001b[0m \u001b[0mX\u001b[0m\u001b[0;34m=\u001b[0m\u001b[0mtrans_data\u001b[0m\u001b[0;34m,\u001b[0m \u001b[0my\u001b[0m\u001b[0;34m=\u001b[0m\u001b[0my\u001b[0m\u001b[0;34m,\u001b[0m \u001b[0mscoring\u001b[0m\u001b[0;34m=\u001b[0m\u001b[0;34m'roc_auc'\u001b[0m\u001b[0;34m)\u001b[0m\u001b[0;34m.\u001b[0m\u001b[0mmean\u001b[0m\u001b[0;34m(\u001b[0m\u001b[0;34m)\u001b[0m\u001b[0;34m)\u001b[0m\u001b[0;34m\u001b[0m\u001b[0;34m\u001b[0m\u001b[0m\n\u001b[0m\u001b[1;32m      9\u001b[0m     \u001b[0mres\u001b[0m\u001b[0;34m.\u001b[0m\u001b[0mappend\u001b[0m\u001b[0;34m(\u001b[0m\u001b[0mnp\u001b[0m\u001b[0;34m.\u001b[0m\u001b[0marray\u001b[0m\u001b[0;34m(\u001b[0m\u001b[0malg_res\u001b[0m\u001b[0;34m)\u001b[0m\u001b[0;34m)\u001b[0m\u001b[0;34m\u001b[0m\u001b[0;34m\u001b[0m\u001b[0m\n",
      "\u001b[0;32m/opt/anaconda3/lib/python3.7/site-packages/sklearn/model_selection/_validation.py\u001b[0m in \u001b[0;36mcross_val_score\u001b[0;34m(estimator, X, y, groups, scoring, cv, n_jobs, verbose, fit_params, pre_dispatch, error_score)\u001b[0m\n\u001b[1;32m    382\u001b[0m     \"\"\"\n\u001b[1;32m    383\u001b[0m     \u001b[0;31m# To ensure multimetric format is not supported\u001b[0m\u001b[0;34m\u001b[0m\u001b[0;34m\u001b[0m\u001b[0;34m\u001b[0m\u001b[0m\n\u001b[0;32m--> 384\u001b[0;31m     \u001b[0mscorer\u001b[0m \u001b[0;34m=\u001b[0m \u001b[0mcheck_scoring\u001b[0m\u001b[0;34m(\u001b[0m\u001b[0mestimator\u001b[0m\u001b[0;34m,\u001b[0m \u001b[0mscoring\u001b[0m\u001b[0;34m=\u001b[0m\u001b[0mscoring\u001b[0m\u001b[0;34m)\u001b[0m\u001b[0;34m\u001b[0m\u001b[0;34m\u001b[0m\u001b[0m\n\u001b[0m\u001b[1;32m    385\u001b[0m \u001b[0;34m\u001b[0m\u001b[0m\n\u001b[1;32m    386\u001b[0m     cv_results = cross_validate(estimator=estimator, X=X, y=y, groups=groups,\n",
      "\u001b[0;32m/opt/anaconda3/lib/python3.7/site-packages/sklearn/metrics/scorer.py\u001b[0m in \u001b[0;36mcheck_scoring\u001b[0;34m(estimator, scoring, allow_none)\u001b[0m\n\u001b[1;32m    268\u001b[0m     \u001b[0;32mif\u001b[0m \u001b[0;32mnot\u001b[0m \u001b[0mhasattr\u001b[0m\u001b[0;34m(\u001b[0m\u001b[0mestimator\u001b[0m\u001b[0;34m,\u001b[0m \u001b[0;34m'fit'\u001b[0m\u001b[0;34m)\u001b[0m\u001b[0;34m:\u001b[0m\u001b[0;34m\u001b[0m\u001b[0;34m\u001b[0m\u001b[0m\n\u001b[1;32m    269\u001b[0m         raise TypeError(\"estimator should be an estimator implementing \"\n\u001b[0;32m--> 270\u001b[0;31m                         \"'fit' method, %r was passed\" % estimator)\n\u001b[0m\u001b[1;32m    271\u001b[0m     \u001b[0;32mif\u001b[0m \u001b[0misinstance\u001b[0m\u001b[0;34m(\u001b[0m\u001b[0mscoring\u001b[0m\u001b[0;34m,\u001b[0m \u001b[0mstr\u001b[0m\u001b[0;34m)\u001b[0m\u001b[0;34m:\u001b[0m\u001b[0;34m\u001b[0m\u001b[0;34m\u001b[0m\u001b[0m\n\u001b[1;32m    272\u001b[0m         \u001b[0;32mreturn\u001b[0m \u001b[0mget_scorer\u001b[0m\u001b[0;34m(\u001b[0m\u001b[0mscoring\u001b[0m\u001b[0;34m)\u001b[0m\u001b[0;34m\u001b[0m\u001b[0;34m\u001b[0m\u001b[0m\n",
      "\u001b[0;31mTypeError\u001b[0m: estimator should be an estimator implementing 'fit' method, {'mean_fit_time': array([0.07046286, 0.06812604, 0.06820114, 0.07147996, 0.06783334,\n       0.06436698, 0.07204994, 0.07144992, 0.07552608, 0.068096  ,\n       0.06518793, 0.06613064, 0.06826822, 0.06419706, 0.06674369,\n       0.06777962, 0.06801271, 0.06939658, 0.06461255, 0.06656679,\n       0.06619461, 0.06497542, 0.06722736, 0.07082335, 0.07277298,\n       0.07075906, 0.06395483, 0.06741134, 0.0676109 , 0.06776722,\n       0.06518825, 0.073071  , 0.06496366, 0.06422798, 0.06415081,\n       0.06576761, 0.06345463, 0.06855416, 0.0648102 , 0.06272499,\n       0.06929247, 0.07287073]), 'std_fit_time': array([0.00727096, 0.00329457, 0.00215081, 0.00329287, 0.00750171,\n       0.00278194, 0.00832492, 0.01073203, 0.00305845, 0.00339673,\n       0.00205501, 0.00020644, 0.00274908, 0.00228731, 0.00230093,\n       0.00235545, 0.00145634, 0.00409054, 0.0028337 , 0.00138602,\n       0.00133033, 0.00256931, 0.00023857, 0.00709701, 0.00935974,\n       0.007302  , 0.00074231, 0.00112566, 0.0020504 , 0.00116711,\n       0.00093727, 0.01205208, 0.00206108, 0.00046383, 0.00118433,\n       0.00359983, 0.00152665, 0.00347239, 0.00238477, 0.00058005,\n       0.00105832, 0.00119093]), 'mean_score_time': array([0.18991677, 0.20414527, 0.21494492, 0.23327708, 0.22529912,\n       0.22736287, 0.24412831, 0.26828241, 0.28181664, 0.27204593,\n       0.27427379, 0.28327854, 0.2918117 , 0.30598934, 0.25731111,\n       0.27704167, 0.283638  , 0.27994506, 0.28858503, 0.29615458,\n       0.31651489, 0.32253194, 0.34357254, 0.37482921, 0.37676334,\n       0.36845271, 0.36483312, 0.39233772, 0.13970057, 0.15073021,\n       0.15139699, 0.16639566, 0.19332139, 0.17859006, 0.17786423,\n       0.18685651, 0.19087362, 0.19818465, 0.19959911, 0.21027891,\n       0.22705825, 0.24211804]), 'std_score_time': array([0.00763849, 0.00142569, 0.00307545, 0.00194314, 0.00523493,\n       0.00337228, 0.00762369, 0.01059372, 0.01274372, 0.00818724,\n       0.00384239, 0.00194093, 0.00268115, 0.01157708, 0.01808024,\n       0.01813826, 0.0103004 , 0.01049076, 0.00279207, 0.00432452,\n       0.00607906, 0.01649993, 0.00934569, 0.02632171, 0.01033166,\n       0.00562976, 0.00159811, 0.00793384, 0.00568394, 0.0033382 ,\n       0.00351505, 0.00120046, 0.04247149, 0.00900563, 0.00137318,\n       0.0050233 , 0.00160505, 0.00055621, 0.00285845, 0.00366937,\n       0.00490352, 0.00465579]), 'param_metric': masked_array(data=['euclidean', 'euclidean', 'euclidean', 'euclidean',\n                   'euclidean', 'euclidean', 'euclidean', 'euclidean',\n                   'euclidean', 'euclidean', 'euclidean', 'euclidean',\n                   'euclidean', 'euclidean', 'manhattan', 'manhattan',\n                   'manhattan', 'manhattan', 'manhattan', 'manhattan',\n                   'manhattan', 'manhattan', 'manhattan', 'manhattan',\n                   'manhattan', 'manhattan', 'manhattan', 'manhattan',\n                   'chebyshev', 'chebyshev', 'chebyshev', 'chebyshev',\n                   'chebyshev', 'chebyshev', 'chebyshev', 'chebyshev',\n                   'chebyshev', 'chebyshev', 'chebyshev', 'chebyshev',\n                   'chebyshev', 'chebyshev'],\n             mask=[False, False, False, False, False, False, False, False,\n                   False, False, False, False, False, False, False, False,\n                   False, False, False, False, False, False, False, False,\n                   False, False, False, False, False, False, False, False,\n                   False, False, False, False, False, False, False, False,\n                   False, False],\n       fill_value='?',\n            dtype=object), 'param_n_neighbors': masked_array(data=[20, 23, 26, 29, 32, 35, 38, 41, 44, 47, 50, 53, 56, 59,\n                   20, 23, 26, 29, 32, 35, 38, 41, 44, 47, 50, 53, 56, 59,\n                   20, 23, 26, 29, 32, 35, 38, 41, 44, 47, 50, 53, 56, 59],\n             mask=[False, False, False, False, False, False, False, False,\n                   False, False, False, False, False, False, False, False,\n                   False, False, False, False, False, False, False, False,\n                   False, False, False, False, False, False, False, False,\n                   False, False, False, False, False, False, False, False,\n                   False, False],\n       fill_value='?',\n            dtype=object), 'params': [{'metric': 'euclidean', 'n_neighbors': 20}, {'metric': 'euclidean', 'n_neighbors': 23}, {'metric': 'euclidean', 'n_neighbors': 26}, {'metric': 'euclidean', 'n_neighbors': 29}, {'metric': 'euclidean', 'n_neighbors': 32}, {'metric': 'euclidean', 'n_neighbors': 35}, {'metric': 'euclidean', 'n_neighbors': 38}, {'metric': 'euclidean', 'n_neighbors': 41}, {'metric': 'euclidean', 'n_neighbors': 44}, {'metric': 'euclidean', 'n_neighbors': 47}, {'metric': 'euclidean', 'n_neighbors': 50}, {'metric': 'euclidean', 'n_neighbors': 53}, {'metric': 'euclidean', 'n_neighbors': 56}, {'metric': 'euclidean', 'n_neighbors': 59}, {'metric': 'manhattan', 'n_neighbors': 20}, {'metric': 'manhattan', 'n_neighbors': 23}, {'metric': 'manhattan', 'n_neighbors': 26}, {'metric': 'manhattan', 'n_neighbors': 29}, {'metric': 'manhattan', 'n_neighbors': 32}, {'metric': 'manhattan', 'n_neighbors': 35}, {'metric': 'manhattan', 'n_neighbors': 38}, {'metric': 'manhattan', 'n_neighbors': 41}, {'metric': 'manhattan', 'n_neighbors': 44}, {'metric': 'manhattan', 'n_neighbors': 47}, {'metric': 'manhattan', 'n_neighbors': 50}, {'metric': 'manhattan', 'n_neighbors': 53}, {'metric': 'manhattan', 'n_neighbors': 56}, {'metric': 'manhattan', 'n_neighbors': 59}, {'metric': 'chebyshev', 'n_neighbors': 20}, {'metric': 'chebyshev', 'n_neighbors': 23}, {'metric': 'chebyshev', 'n_neighbors': 26}, {'metric': 'chebyshev', 'n_neighbors': 29}, {'metric': 'chebyshev', 'n_neighbors': 32}, {'metric': 'chebyshev', 'n_neighbors': 35}, {'metric': 'chebyshev', 'n_neighbors': 38}, {'metric': 'chebyshev', 'n_neighbors': 41}, {'metric': 'chebyshev', 'n_neighbors': 44}, {'metric': 'chebyshev', 'n_neighbors': 47}, {'metric': 'chebyshev', 'n_neighbors': 50}, {'metric': 'chebyshev', 'n_neighbors': 53}, {'metric': 'chebyshev', 'n_neighbors': 56}, {'metric': 'chebyshev', 'n_neighbors': 59}], 'split0_test_score': array([0.83074198, 0.83182759, 0.83368113, 0.83595907, 0.83691336,\n       0.83621013, 0.83718751, 0.83748475, 0.83897239, 0.83845389,\n       0.83808717, 0.83838787, 0.8378238 , 0.83737723, 0.83465454,\n       0.83627188, 0.83652253, 0.83658865, 0.83712454, 0.8363206 ,\n       0.83657217, 0.83620708, 0.83669811, 0.83622539, 0.83724122,\n       0.83787558, 0.8384661 , 0.8380655 , 0.82870401, 0.82926574,\n       0.829222  , 0.83052306, 0.83162251, 0.8321285 , 0.83411194,\n       0.8345813 , 0.83694245, 0.83570934, 0.83650127, 0.83631206,\n       0.8368331 , 0.83617463]), 'split1_test_score': array([0.82342356, 0.82565027, 0.82596754, 0.82812231, 0.82839465,\n       0.82834675, 0.82830608, 0.82843918, 0.82848757, 0.82905847,\n       0.82906283, 0.82830974, 0.8284844 , 0.82870845, 0.82688965,\n       0.82808876, 0.82727283, 0.82857218, 0.82773874, 0.8283799 ,\n       0.82853655, 0.82963343, 0.82953131, 0.82919959, 0.82959998,\n       0.82918732, 0.82957633, 0.82959612, 0.81771285, 0.82227028,\n       0.82469976, 0.82514825, 0.82627026, 0.82550886, 0.82692261,\n       0.82767045, 0.82691489, 0.82765007, 0.82811261, 0.8271522 ,\n       0.82695368, 0.82703938]), 'split2_test_score': array([0.82553971, 0.8278182 , 0.82952874, 0.82984259, 0.8306824 ,\n       0.82956036, 0.82938218, 0.82865102, 0.82853919, 0.82847933,\n       0.82889464, 0.82880545, 0.82929948, 0.82948863, 0.82567888,\n       0.82731529, 0.82822473, 0.82842975, 0.83010217, 0.83016911,\n       0.83087035, 0.83093839, 0.83003014, 0.82994993, 0.828911  ,\n       0.8293338 , 0.82978064, 0.82968945, 0.82433447, 0.82544593,\n       0.82695634, 0.82728846, 0.82845628, 0.8292468 , 0.82956615,\n       0.83015205, 0.83032824, 0.82964925, 0.82890023, 0.82943745,\n       0.83034081, 0.83008631]), 'mean_test_score': array([0.82656848, 0.82843206, 0.82972582, 0.83130808, 0.83199689,\n       0.83137253, 0.8316254 , 0.83152517, 0.83199994, 0.83199746,\n       0.83201508, 0.83183455, 0.8318694 , 0.83185826, 0.82907458,\n       0.83055885, 0.83067352, 0.83119704, 0.83165525, 0.8316233 ,\n       0.8319931 , 0.83225972, 0.83208665, 0.83179176, 0.8319176 ,\n       0.83213241, 0.83260787, 0.83245054, 0.82358373, 0.82566066,\n       0.82695937, 0.82765328, 0.82878304, 0.82896137, 0.83020027,\n       0.83080131, 0.83139526, 0.83100297, 0.83117152, 0.83096734,\n       0.83137593, 0.83110017]), 'std_test_score': array([0.00307509, 0.00255904, 0.00315224, 0.00336305, 0.0035999 ,\n       0.00345656, 0.00395765, 0.00421515, 0.00493055, 0.00457173,\n       0.00429437, 0.00463854, 0.00422373, 0.00391567, 0.00397666,\n       0.00405224, 0.00415429, 0.00381308, 0.0039861 , 0.00340102,\n       0.00337531, 0.00284172, 0.0032673 , 0.00315013, 0.00377505,\n       0.00406167, 0.00414343, 0.00397075, 0.00451855, 0.00286001,\n       0.00184626, 0.00220944, 0.0021973 , 0.00271007, 0.00296917,\n       0.00285853, 0.0041628 , 0.00342668, 0.00378258, 0.00389292,\n       0.00409925, 0.00379784]), 'rank_test_score': array([40, 37, 33, 23,  9, 22, 17, 19,  7,  8,  6, 14, 12, 13, 34, 31, 30,\n       24, 16, 18, 10,  3,  5, 15, 11,  4,  1,  2, 42, 41, 39, 38, 36, 35,\n       32, 29, 20, 27, 25, 28, 21, 26], dtype=int32)} was passed"
     ]
    }
   ],
   "source": [
    "from sklearn.feature_selection import SelectKBest\n",
    "from sklearn.feature_selection import mutual_info_classif\n",
    "res = []\n",
    "for algas in tqdm(algs):\n",
    "    alg_res = []\n",
    "    for k in np.arange(6, 27, 3):\n",
    "        trans_data = SelectKBest(score_func=mutual_info_classif, k=k).fit_transform(X_poly, y)\n",
    "        alg_res.append(cross_val_score(alg, X=trans_data, y=y, scoring='roc_auc').mean())\n",
    "    res.append(np.array(alg_res))"
   ]
  },
  {
   "cell_type": "code",
   "execution_count": null,
   "metadata": {},
   "outputs": [],
   "source": []
  },
  {
   "cell_type": "markdown",
   "metadata": {},
   "source": [
    "Честно говоря я устала.........\n",
    "\n",
    "Работа классная (конечно, она же ШАДовская), но кажется нам немного сложновато такое делать. Но скиллы прокачиваются огого!!!"
   ]
  },
  {
   "cell_type": "code",
   "execution_count": null,
   "metadata": {},
   "outputs": [],
   "source": []
  },
  {
   "cell_type": "code",
   "execution_count": null,
   "metadata": {},
   "outputs": [],
   "source": []
  },
  {
   "cell_type": "markdown",
   "metadata": {},
   "source": [
    "## Смешивание моделей\n",
    "\n",
    "Во всех предыдущих пунктах мы получили много сильных моделей, которые могут быть достаточно разными по своей природе (например, метод ближайших соседей и случайный лес). Часто на практике оказывается возможным увеличить качество предсказания путем смешивания подобных разных моделей. Давайте посмотрим, действительно ли это дает прирост в качестве.\n",
    "\n",
    "Выберите из построенных моделей двух предыдущих пунктов две, которые дали наибольшее начество на кросс-валидации (обозначим их $clf_1$ и $clf_2$). Далее постройте новый классификатор, ответ которого на некотором объекте $x$ будет выглядеть следующим образом:\n",
    "\n",
    "$$result(x) = clf_1(x) \\cdot \\alpha + clf_2(x) \\cdot (1 - \\alpha)$$\n",
    "\n",
    "где $\\alpha$ — гиперпараметр нового классификатора.\n",
    "\n",
    "**(1 балл)** Подберите по сетке от 0 до 1 $\\alpha$ для этого классификатора с помощью 5-Fold CV и постройте график качества в зависимости от $\\alpha$ (аналогичный графику в разделе \"Обучение классификаторов и оценка качества\"). Дал ли этот подход прирост к качеству по сравнению с моделями ранее?"
   ]
  },
  {
   "cell_type": "code",
   "execution_count": null,
   "metadata": {
    "collapsed": true
   },
   "outputs": [],
   "source": [
    "#your code here"
   ]
  },
  {
   "cell_type": "markdown",
   "metadata": {},
   "source": [
    "## Сравнение построенных моделей\n",
    "\n",
    "![](http://cdn.shopify.com/s/files/1/0870/1066/files/compare_e8b89647-3cb6-4871-a976-2e36e5987773.png?1750043340268621065)\n",
    "\n",
    "После того как было построено много моделей хотелось бы сравнить их между собой. Для этого можно построить \"ящик с усами\" (диаграму размаха). Для этого можно воспользоваться библиотекой [matplotlib](https://matplotlib.org/3.1.0/api/_as_gen/matplotlib.pyplot.boxplot.html) или [seaborn](https://seaborn.pydata.org/generated/seaborn.boxplot.html).\n",
    "\n",
    "**(1 балл)** Для каждого типа классификатора (kNN, DecisionTree, RandomForest, SGD classifier), а так же смешанной модели выберете тот, которых давал наилучшее качество на кросс-валидации и постройте диаграмму размаха (все классификаторы должны быть изображены на одном графике).\n",
    " \n",
    "Сделайте общие итоговые выводы о классификаторах с точки зрения их работы с признаками и сложности самой модели (какие гиперпараметры есть у модели, сильно ли изменение значения гиперпараметра влияет на качество модели)."
   ]
  },
  {
   "cell_type": "code",
   "execution_count": null,
   "metadata": {
    "collapsed": true
   },
   "outputs": [],
   "source": [
    "#your code here"
   ]
  }
 ],
 "metadata": {
  "kernelspec": {
   "display_name": "Python 3",
   "language": "python",
   "name": "python3"
  },
  "language_info": {
   "codemirror_mode": {
    "name": "ipython",
    "version": 3
   },
   "file_extension": ".py",
   "mimetype": "text/x-python",
   "name": "python",
   "nbconvert_exporter": "python",
   "pygments_lexer": "ipython3",
   "version": "3.7.4"
  }
 },
 "nbformat": 4,
 "nbformat_minor": 1
}
